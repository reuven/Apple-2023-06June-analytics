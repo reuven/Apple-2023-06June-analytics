{
 "cells": [
  {
   "cell_type": "markdown",
   "id": "0e1a6ada-86e8-40a3-adb8-147afc44f4cb",
   "metadata": {},
   "source": [
    "# Agenda\n",
    "\n",
    "1. Pivot tables\n",
    "2. Stack, unstack, melt\n",
    "3. Joins\n",
    "4. `filter` on columns"
   ]
  },
  {
   "cell_type": "code",
   "execution_count": null,
   "id": "1031a62a-5353-477f-99d7-447eb87701ca",
   "metadata": {},
   "outputs": [],
   "source": []
  }
 ],
 "metadata": {
  "kernelspec": {
   "display_name": "Python 3 (ipykernel)",
   "language": "python",
   "name": "python3"
  },
  "language_info": {
   "codemirror_mode": {
    "name": "ipython",
    "version": 3
   },
   "file_extension": ".py",
   "mimetype": "text/x-python",
   "name": "python",
   "nbconvert_exporter": "python",
   "pygments_lexer": "ipython3",
   "version": "3.11.4"
  }
 },
 "nbformat": 4,
 "nbformat_minor": 5
}
