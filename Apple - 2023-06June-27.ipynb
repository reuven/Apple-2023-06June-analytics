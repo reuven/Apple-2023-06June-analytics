{
 "cells": [
  {
   "cell_type": "markdown",
   "id": "02a86b54-9deb-4c2e-8e5e-38cdcd7d9ae5",
   "metadata": {},
   "source": [
    "# Agenda for today"
   ]
  },
  {
   "cell_type": "markdown",
   "id": "90a285cb-3ddd-427d-a981-5fb3cff0df85",
   "metadata": {},
   "source": [
    "## First, the debugger"
   ]
  },
  {
   "cell_type": "code",
   "execution_count": 1,
   "id": "8a6e1f98-8677-4aeb-b538-c88bd56f6e88",
   "metadata": {},
   "outputs": [],
   "source": [
    "def mysum(*numbers):\n",
    "    total = 0\n",
    "    for one_number in numbers:\n",
    "        total += one_number\n",
    "    return total"
   ]
  },
  {
   "cell_type": "code",
   "execution_count": 2,
   "id": "c432aaff-de1b-45eb-8f17-00570640afbd",
   "metadata": {},
   "outputs": [
    {
     "data": {
      "text/plain": [
       "60"
      ]
     },
     "execution_count": 2,
     "metadata": {},
     "output_type": "execute_result"
    }
   ],
   "source": [
    "\n",
    "mysum(10, 20, 30)"
   ]
  },
  {
   "cell_type": "code",
   "execution_count": 3,
   "id": "7a6d5108-5622-4d85-9f9d-1dafedb719dc",
   "metadata": {},
   "outputs": [
    {
     "data": {
      "text/plain": [
       "600"
      ]
     },
     "execution_count": 3,
     "metadata": {},
     "output_type": "execute_result"
    }
   ],
   "source": [
    "mysum(100, 200, 300)"
   ]
  },
  {
   "cell_type": "code",
   "execution_count": 5,
   "id": "d4458eaa-7bb0-4d6b-8c05-c3cbcf3bb7bb",
   "metadata": {},
   "outputs": [
    {
     "ename": "TypeError",
     "evalue": "unsupported operand type(s) for +=: 'int' and 'list'",
     "output_type": "error",
     "traceback": [
      "\u001b[0;31m---------------------------------------------------------------------------\u001b[0m",
      "\u001b[0;31mTypeError\u001b[0m                                 Traceback (most recent call last)",
      "Cell \u001b[0;32mIn [5], line 1\u001b[0m\n\u001b[0;32m----> 1\u001b[0m \u001b[43mmysum\u001b[49m\u001b[43m(\u001b[49m\u001b[43m[\u001b[49m\u001b[38;5;241;43m10\u001b[39;49m\u001b[43m,\u001b[49m\u001b[43m \u001b[49m\u001b[38;5;241;43m20\u001b[39;49m\u001b[43m,\u001b[49m\u001b[43m \u001b[49m\u001b[38;5;241;43m30\u001b[39;49m\u001b[43m]\u001b[49m\u001b[43m)\u001b[49m\n",
      "Cell \u001b[0;32mIn [1], line 4\u001b[0m, in \u001b[0;36mmysum\u001b[0;34m(*numbers)\u001b[0m\n\u001b[1;32m      2\u001b[0m total \u001b[38;5;241m=\u001b[39m \u001b[38;5;241m0\u001b[39m\n\u001b[1;32m      3\u001b[0m \u001b[38;5;28;01mfor\u001b[39;00m one_number \u001b[38;5;129;01min\u001b[39;00m numbers:\n\u001b[0;32m----> 4\u001b[0m     \u001b[43mtotal\u001b[49m\u001b[43m \u001b[49m\u001b[38;5;241;43m+\u001b[39;49m\u001b[38;5;241;43m=\u001b[39;49m\u001b[43m \u001b[49m\u001b[43mone_number\u001b[49m\n\u001b[1;32m      5\u001b[0m \u001b[38;5;28;01mreturn\u001b[39;00m total\n",
      "\u001b[0;31mTypeError\u001b[0m: unsupported operand type(s) for +=: 'int' and 'list'"
     ]
    }
   ],
   "source": [
    "mysum([10, 20, 30])"
   ]
  },
  {
   "cell_type": "markdown",
   "id": "947f85eb-6676-4739-bad7-541c09e42e9c",
   "metadata": {},
   "source": [
    "## Next, serious stuff"
   ]
  },
  {
   "cell_type": "markdown",
   "id": "513712a8-1f8d-477d-8e50-ed7146dcda9d",
   "metadata": {},
   "source": [
    "### Serious 1\n",
    "\n",
    "### Serious 2\n",
    "\n",
    "### Serious 3\n"
   ]
  },
  {
   "cell_type": "markdown",
   "id": "48cb65b8-bdf1-4027-bc8a-99cfc6ae03c4",
   "metadata": {},
   "source": [
    "# Final stuff\n",
    "\n",
    "Hello!\n"
   ]
  },
  {
   "cell_type": "markdown",
   "id": "ddb62923-5399-4884-b661-4a4fff657591",
   "metadata": {},
   "source": [
    "# Actual agenda\n",
    "\n",
    "1. Multi-indexing\n",
    "2. Sorting\n",
    "3. Grouping\n",
    "4. Pivot tables"
   ]
  },
  {
   "cell_type": "markdown",
   "id": "34b80660-8f14-4a40-8362-b13d0b6dec6a",
   "metadata": {},
   "source": [
    "Download the data files from here:\n",
    "\n",
    "https://files.lerner.co.il/pandas-workout-data.zip"
   ]
  },
  {
   "cell_type": "code",
   "execution_count": 7,
   "id": "1eb44f17-d6cf-4fbf-ade2-2bcf406ca4a7",
   "metadata": {},
   "outputs": [],
   "source": [
    "import pandas as pd\n",
    "from pandas import Series, DataFrame"
   ]
  },
  {
   "cell_type": "code",
   "execution_count": 8,
   "id": "b1d64a83-1640-42a2-8128-611feaa72008",
   "metadata": {},
   "outputs": [],
   "source": [
    "import numpy as np"
   ]
  },
  {
   "cell_type": "code",
   "execution_count": 9,
   "id": "090dcc7f-089a-471b-8463-5aa052ea6a7b",
   "metadata": {},
   "outputs": [],
   "source": [
    "df = DataFrame(np.random.randint(0, 1000, [4, 5]),\n",
    "               index=list('abcd'),\n",
    "               columns=list('vwxyz'))"
   ]
  },
  {
   "cell_type": "code",
   "execution_count": 10,
   "id": "51a5e3dd-a660-423c-a336-49e423a5e0ed",
   "metadata": {},
   "outputs": [
    {
     "data": {
      "text/html": [
       "<div>\n",
       "<style scoped>\n",
       "    .dataframe tbody tr th:only-of-type {\n",
       "        vertical-align: middle;\n",
       "    }\n",
       "\n",
       "    .dataframe tbody tr th {\n",
       "        vertical-align: top;\n",
       "    }\n",
       "\n",
       "    .dataframe thead th {\n",
       "        text-align: right;\n",
       "    }\n",
       "</style>\n",
       "<table border=\"1\" class=\"dataframe\">\n",
       "  <thead>\n",
       "    <tr style=\"text-align: right;\">\n",
       "      <th></th>\n",
       "      <th>v</th>\n",
       "      <th>w</th>\n",
       "      <th>x</th>\n",
       "      <th>y</th>\n",
       "      <th>z</th>\n",
       "    </tr>\n",
       "  </thead>\n",
       "  <tbody>\n",
       "    <tr>\n",
       "      <th>a</th>\n",
       "      <td>40</td>\n",
       "      <td>128</td>\n",
       "      <td>238</td>\n",
       "      <td>840</td>\n",
       "      <td>321</td>\n",
       "    </tr>\n",
       "    <tr>\n",
       "      <th>b</th>\n",
       "      <td>288</td>\n",
       "      <td>748</td>\n",
       "      <td>292</td>\n",
       "      <td>867</td>\n",
       "      <td>939</td>\n",
       "    </tr>\n",
       "    <tr>\n",
       "      <th>c</th>\n",
       "      <td>917</td>\n",
       "      <td>942</td>\n",
       "      <td>832</td>\n",
       "      <td>391</td>\n",
       "      <td>657</td>\n",
       "    </tr>\n",
       "    <tr>\n",
       "      <th>d</th>\n",
       "      <td>945</td>\n",
       "      <td>345</td>\n",
       "      <td>211</td>\n",
       "      <td>343</td>\n",
       "      <td>525</td>\n",
       "    </tr>\n",
       "  </tbody>\n",
       "</table>\n",
       "</div>"
      ],
      "text/plain": [
       "     v    w    x    y    z\n",
       "a   40  128  238  840  321\n",
       "b  288  748  292  867  939\n",
       "c  917  942  832  391  657\n",
       "d  945  345  211  343  525"
      ]
     },
     "execution_count": 10,
     "metadata": {},
     "output_type": "execute_result"
    }
   ],
   "source": [
    "df"
   ]
  },
  {
   "cell_type": "code",
   "execution_count": null,
   "id": "49c42b66-198c-4a73-8057-a028abb63eaa",
   "metadata": {},
   "outputs": [],
   "source": []
  }
 ],
 "metadata": {
  "kernelspec": {
   "display_name": "Python 3 (ipykernel)",
   "language": "python",
   "name": "python3"
  },
  "language_info": {
   "codemirror_mode": {
    "name": "ipython",
    "version": 3
   },
   "file_extension": ".py",
   "mimetype": "text/x-python",
   "name": "python",
   "nbconvert_exporter": "python",
   "pygments_lexer": "ipython3",
   "version": "3.11.4"
  }
 },
 "nbformat": 4,
 "nbformat_minor": 5
}
