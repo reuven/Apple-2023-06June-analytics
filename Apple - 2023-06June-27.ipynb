{
 "cells": [
  {
   "cell_type": "markdown",
   "id": "02a86b54-9deb-4c2e-8e5e-38cdcd7d9ae5",
   "metadata": {},
   "source": [
    "# Agenda for today"
   ]
  },
  {
   "cell_type": "markdown",
   "id": "90a285cb-3ddd-427d-a981-5fb3cff0df85",
   "metadata": {},
   "source": [
    "## First, the debugger"
   ]
  },
  {
   "cell_type": "code",
   "execution_count": 1,
   "id": "8a6e1f98-8677-4aeb-b538-c88bd56f6e88",
   "metadata": {},
   "outputs": [],
   "source": [
    "def mysum(*numbers):\n",
    "    total = 0\n",
    "    for one_number in numbers:\n",
    "        total += one_number\n",
    "    return total"
   ]
  },
  {
   "cell_type": "code",
   "execution_count": 2,
   "id": "c432aaff-de1b-45eb-8f17-00570640afbd",
   "metadata": {},
   "outputs": [
    {
     "data": {
      "text/plain": [
       "60"
      ]
     },
     "execution_count": 2,
     "metadata": {},
     "output_type": "execute_result"
    }
   ],
   "source": [
    "\n",
    "mysum(10, 20, 30)"
   ]
  },
  {
   "cell_type": "code",
   "execution_count": 3,
   "id": "7a6d5108-5622-4d85-9f9d-1dafedb719dc",
   "metadata": {},
   "outputs": [
    {
     "data": {
      "text/plain": [
       "600"
      ]
     },
     "execution_count": 3,
     "metadata": {},
     "output_type": "execute_result"
    }
   ],
   "source": [
    "mysum(100, 200, 300)"
   ]
  },
  {
   "cell_type": "code",
   "execution_count": 5,
   "id": "d4458eaa-7bb0-4d6b-8c05-c3cbcf3bb7bb",
   "metadata": {},
   "outputs": [
    {
     "ename": "TypeError",
     "evalue": "unsupported operand type(s) for +=: 'int' and 'list'",
     "output_type": "error",
     "traceback": [
      "\u001b[0;31m---------------------------------------------------------------------------\u001b[0m",
      "\u001b[0;31mTypeError\u001b[0m                                 Traceback (most recent call last)",
      "Cell \u001b[0;32mIn [5], line 1\u001b[0m\n\u001b[0;32m----> 1\u001b[0m \u001b[43mmysum\u001b[49m\u001b[43m(\u001b[49m\u001b[43m[\u001b[49m\u001b[38;5;241;43m10\u001b[39;49m\u001b[43m,\u001b[49m\u001b[43m \u001b[49m\u001b[38;5;241;43m20\u001b[39;49m\u001b[43m,\u001b[49m\u001b[43m \u001b[49m\u001b[38;5;241;43m30\u001b[39;49m\u001b[43m]\u001b[49m\u001b[43m)\u001b[49m\n",
      "Cell \u001b[0;32mIn [1], line 4\u001b[0m, in \u001b[0;36mmysum\u001b[0;34m(*numbers)\u001b[0m\n\u001b[1;32m      2\u001b[0m total \u001b[38;5;241m=\u001b[39m \u001b[38;5;241m0\u001b[39m\n\u001b[1;32m      3\u001b[0m \u001b[38;5;28;01mfor\u001b[39;00m one_number \u001b[38;5;129;01min\u001b[39;00m numbers:\n\u001b[0;32m----> 4\u001b[0m     \u001b[43mtotal\u001b[49m\u001b[43m \u001b[49m\u001b[38;5;241;43m+\u001b[39;49m\u001b[38;5;241;43m=\u001b[39;49m\u001b[43m \u001b[49m\u001b[43mone_number\u001b[49m\n\u001b[1;32m      5\u001b[0m \u001b[38;5;28;01mreturn\u001b[39;00m total\n",
      "\u001b[0;31mTypeError\u001b[0m: unsupported operand type(s) for +=: 'int' and 'list'"
     ]
    }
   ],
   "source": [
    "mysum([10, 20, 30])"
   ]
  },
  {
   "cell_type": "markdown",
   "id": "947f85eb-6676-4739-bad7-541c09e42e9c",
   "metadata": {},
   "source": [
    "## Next, serious stuff"
   ]
  },
  {
   "cell_type": "markdown",
   "id": "513712a8-1f8d-477d-8e50-ed7146dcda9d",
   "metadata": {},
   "source": [
    "### Serious 1\n",
    "\n",
    "### Serious 2\n",
    "\n",
    "### Serious 3\n"
   ]
  },
  {
   "cell_type": "markdown",
   "id": "48cb65b8-bdf1-4027-bc8a-99cfc6ae03c4",
   "metadata": {},
   "source": [
    "# Final stuff\n",
    "\n",
    "Hello!\n"
   ]
  },
  {
   "cell_type": "markdown",
   "id": "ddb62923-5399-4884-b661-4a4fff657591",
   "metadata": {},
   "source": [
    "# Actual agenda\n",
    "\n",
    "1. Multi-indexing\n",
    "2. Sorting\n",
    "3. Grouping\n",
    "4. Pivot tables"
   ]
  },
  {
   "cell_type": "markdown",
   "id": "34b80660-8f14-4a40-8362-b13d0b6dec6a",
   "metadata": {},
   "source": [
    "Download the data files from here:\n",
    "\n",
    "https://files.lerner.co.il/pandas-workout-data.zip"
   ]
  },
  {
   "cell_type": "code",
   "execution_count": null,
   "id": "1eb44f17-d6cf-4fbf-ade2-2bcf406ca4a7",
   "metadata": {},
   "outputs": [],
   "source": []
  }
 ],
 "metadata": {
  "kernelspec": {
   "display_name": "Python 3 (ipykernel)",
   "language": "python",
   "name": "python3"
  },
  "language_info": {
   "codemirror_mode": {
    "name": "ipython",
    "version": 3
   },
   "file_extension": ".py",
   "mimetype": "text/x-python",
   "name": "python",
   "nbconvert_exporter": "python",
   "pygments_lexer": "ipython3",
   "version": "3.11.4"
  }
 },
 "nbformat": 4,
 "nbformat_minor": 5
}
