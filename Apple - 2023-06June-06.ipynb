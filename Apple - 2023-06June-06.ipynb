{
 "cells": [
  {
   "cell_type": "markdown",
   "id": "041e102c",
   "metadata": {},
   "source": [
    "# Agenda\n",
    "\n",
    "1. `nan`\n",
    "2. 2D arrays and shapes\n",
    "3. sorting\n",
    "4. Pandas"
   ]
  },
  {
   "cell_type": "code",
   "execution_count": 2,
   "id": "15c2522d",
   "metadata": {},
   "outputs": [],
   "source": [
    "import numpy as np\n"
   ]
  },
  {
   "cell_type": "code",
   "execution_count": 3,
   "id": "4328d01e",
   "metadata": {},
   "outputs": [
    {
     "data": {
      "text/plain": [
       "dtype('int64')"
      ]
     },
     "execution_count": 3,
     "metadata": {},
     "output_type": "execute_result"
    }
   ],
   "source": [
    "a = np.array([10, 20, 30, 40, 50])\n",
    "a.dtype"
   ]
  },
  {
   "cell_type": "code",
   "execution_count": 4,
   "id": "1a9e8854",
   "metadata": {},
   "outputs": [
    {
     "data": {
      "text/plain": [
       "array([10, 20, 12, 40, 50])"
      ]
     },
     "execution_count": 4,
     "metadata": {},
     "output_type": "execute_result"
    }
   ],
   "source": [
    "a[2] = 12.34\n",
    "a"
   ]
  },
  {
   "cell_type": "code",
   "execution_count": 5,
   "id": "e853bb3b",
   "metadata": {},
   "outputs": [
    {
     "data": {
      "text/plain": [
       "dtype('float64')"
      ]
     },
     "execution_count": 5,
     "metadata": {},
     "output_type": "execute_result"
    }
   ],
   "source": [
    "a = np.array([10, 20, 30, 40, 50], dtype=np.float64)\n",
    "a.dtype"
   ]
  },
  {
   "cell_type": "code",
   "execution_count": 6,
   "id": "aaa51b22",
   "metadata": {},
   "outputs": [
    {
     "data": {
      "text/plain": [
       "array([10.  , 20.  , 12.34, 40.  , 50.  ])"
      ]
     },
     "execution_count": 6,
     "metadata": {},
     "output_type": "execute_result"
    }
   ],
   "source": [
    "a[2] = 12.34\n",
    "a"
   ]
  },
  {
   "cell_type": "code",
   "execution_count": 12,
   "id": "7f43cfe0",
   "metadata": {},
   "outputs": [
    {
     "data": {
      "text/plain": [
       "dtype('int64')"
      ]
     },
     "execution_count": 12,
     "metadata": {},
     "output_type": "execute_result"
    }
   ],
   "source": [
    "a = np.array([10, 20, 30, 40, 50])\n",
    "a.dtype"
   ]
  },
  {
   "cell_type": "code",
   "execution_count": 13,
   "id": "87ea8e69",
   "metadata": {},
   "outputs": [],
   "source": [
    "a[2] = '123'"
   ]
  },
  {
   "cell_type": "code",
   "execution_count": 14,
   "id": "36724ce9",
   "metadata": {
    "scrolled": true
   },
   "outputs": [
    {
     "data": {
      "text/plain": [
       "array([ 10,  20, 123,  40,  50])"
      ]
     },
     "execution_count": 14,
     "metadata": {},
     "output_type": "execute_result"
    }
   ],
   "source": [
    "a"
   ]
  },
  {
   "cell_type": "code",
   "execution_count": 15,
   "id": "990eda70",
   "metadata": {},
   "outputs": [
    {
     "data": {
      "text/plain": [
       "dtype('int64')"
      ]
     },
     "execution_count": 15,
     "metadata": {},
     "output_type": "execute_result"
    }
   ],
   "source": [
    "a.dtype"
   ]
  },
  {
   "cell_type": "code",
   "execution_count": 16,
   "id": "08792cb9",
   "metadata": {},
   "outputs": [
    {
     "data": {
      "text/plain": [
       "dtype('int64')"
      ]
     },
     "execution_count": 16,
     "metadata": {},
     "output_type": "execute_result"
    }
   ],
   "source": [
    "a[3] = 98.76\n",
    "a.dtype"
   ]
  },
  {
   "cell_type": "code",
   "execution_count": 10,
   "id": "92536c78",
   "metadata": {},
   "outputs": [
    {
     "ename": "ValueError",
     "evalue": "invalid literal for int() with base 10: 'hello'",
     "output_type": "error",
     "traceback": [
      "\u001b[0;31m---------------------------------------------------------------------------\u001b[0m",
      "\u001b[0;31mValueError\u001b[0m                                Traceback (most recent call last)",
      "Cell \u001b[0;32mIn [10], line 1\u001b[0m\n\u001b[0;32m----> 1\u001b[0m \u001b[43ma\u001b[49m\u001b[43m[\u001b[49m\u001b[38;5;241;43m3\u001b[39;49m\u001b[43m]\u001b[49m \u001b[38;5;241m=\u001b[39m \u001b[38;5;124m'\u001b[39m\u001b[38;5;124mhello\u001b[39m\u001b[38;5;124m'\u001b[39m\n",
      "\u001b[0;31mValueError\u001b[0m: invalid literal for int() with base 10: 'hello'"
     ]
    }
   ],
   "source": [
    "a[3] = 'hello'"
   ]
  },
  {
   "cell_type": "code",
   "execution_count": 11,
   "id": "6c0447b2",
   "metadata": {},
   "outputs": [
    {
     "data": {
      "text/plain": [
       "dtype('int64')"
      ]
     },
     "execution_count": 11,
     "metadata": {},
     "output_type": "execute_result"
    }
   ],
   "source": [
    "a.dtype"
   ]
  },
  {
   "cell_type": "code",
   "execution_count": 17,
   "id": "6f396865",
   "metadata": {},
   "outputs": [],
   "source": [
    "a = np.array('hello out there'.split())"
   ]
  },
  {
   "cell_type": "code",
   "execution_count": 18,
   "id": "042d86f9",
   "metadata": {},
   "outputs": [
    {
     "data": {
      "text/plain": [
       "array(['hello', 'out', 'there'], dtype='<U5')"
      ]
     },
     "execution_count": 18,
     "metadata": {},
     "output_type": "execute_result"
    }
   ],
   "source": [
    "a"
   ]
  },
  {
   "cell_type": "code",
   "execution_count": 19,
   "id": "7cab3782",
   "metadata": {},
   "outputs": [
    {
     "data": {
      "text/plain": [
       "array(['xyz', 'out', 'there'], dtype='<U5')"
      ]
     },
     "execution_count": 19,
     "metadata": {},
     "output_type": "execute_result"
    }
   ],
   "source": [
    "a[0] = 'xyz'\n",
    "a"
   ]
  },
  {
   "cell_type": "code",
   "execution_count": 20,
   "id": "28e7db74",
   "metadata": {},
   "outputs": [],
   "source": [
    "a[1] = 'hijklmnop'"
   ]
  },
  {
   "cell_type": "code",
   "execution_count": 21,
   "id": "7146413b",
   "metadata": {},
   "outputs": [
    {
     "data": {
      "text/plain": [
       "array(['xyz', 'hijkl', 'there'], dtype='<U5')"
      ]
     },
     "execution_count": 21,
     "metadata": {},
     "output_type": "execute_result"
    }
   ],
   "source": [
    "a"
   ]
  },
  {
   "cell_type": "code",
   "execution_count": 23,
   "id": "49241b28",
   "metadata": {},
   "outputs": [
    {
     "data": {
      "text/plain": [
       "array(['xyz', 'hijkl', 'there'], dtype='<U30')"
      ]
     },
     "execution_count": 23,
     "metadata": {},
     "output_type": "execute_result"
    }
   ],
   "source": [
    "a = a.astype('<U30')\n",
    "a"
   ]
  },
  {
   "cell_type": "code",
   "execution_count": 24,
   "id": "7f245597",
   "metadata": {},
   "outputs": [
    {
     "data": {
      "text/plain": [
       "array(['xyz', 'rstuvwxyz', 'there'], dtype='<U30')"
      ]
     },
     "execution_count": 24,
     "metadata": {},
     "output_type": "execute_result"
    }
   ],
   "source": [
    "a[1] = 'rstuvwxyz'\n",
    "a"
   ]
  },
  {
   "cell_type": "code",
   "execution_count": 25,
   "id": "64e33a21",
   "metadata": {},
   "outputs": [],
   "source": [
    "a = np.array([{'a':10, 'b':20}])"
   ]
  },
  {
   "cell_type": "code",
   "execution_count": 26,
   "id": "9b63c96b",
   "metadata": {},
   "outputs": [
    {
     "data": {
      "text/plain": [
       "array([{'a': 10, 'b': 20}], dtype=object)"
      ]
     },
     "execution_count": 26,
     "metadata": {},
     "output_type": "execute_result"
    }
   ],
   "source": [
    "a"
   ]
  },
  {
   "cell_type": "code",
   "execution_count": 27,
   "id": "5e8ce85c",
   "metadata": {},
   "outputs": [
    {
     "data": {
      "text/plain": [
       "26.6"
      ]
     },
     "execution_count": 27,
     "metadata": {},
     "output_type": "execute_result"
    }
   ],
   "source": [
    "a = np.array([27, 26, 27, 26, 27])\n",
    "a.mean()"
   ]
  },
  {
   "cell_type": "code",
   "execution_count": 28,
   "id": "c795d4ae",
   "metadata": {},
   "outputs": [
    {
     "data": {
      "text/plain": [
       "21.2"
      ]
     },
     "execution_count": 28,
     "metadata": {},
     "output_type": "execute_result"
    }
   ],
   "source": [
    "# what if we have a problem getting a reading?\n",
    "a = np.array([27, 26, 0, 26, 27])\n",
    "a.mean()"
   ]
  },
  {
   "cell_type": "markdown",
   "id": "f6ba3a45",
   "metadata": {},
   "source": [
    "# `nan` -- not a number\n",
    "\n",
    "`nan` allows us to have numbers but know that they aren't accurate/real."
   ]
  },
  {
   "cell_type": "code",
   "execution_count": 29,
   "id": "c26c00c4",
   "metadata": {},
   "outputs": [
    {
     "data": {
      "text/plain": [
       "nan"
      ]
     },
     "execution_count": 29,
     "metadata": {},
     "output_type": "execute_result"
    }
   ],
   "source": [
    "np.nan"
   ]
  },
  {
   "cell_type": "code",
   "execution_count": 30,
   "id": "c83e92f6",
   "metadata": {},
   "outputs": [
    {
     "data": {
      "text/plain": [
       "float"
      ]
     },
     "execution_count": 30,
     "metadata": {},
     "output_type": "execute_result"
    }
   ],
   "source": [
    "type(np.nan)"
   ]
  },
  {
   "cell_type": "code",
   "execution_count": 31,
   "id": "74fec80f",
   "metadata": {},
   "outputs": [
    {
     "data": {
      "text/plain": [
       "False"
      ]
     },
     "execution_count": 31,
     "metadata": {},
     "output_type": "execute_result"
    }
   ],
   "source": [
    "np.nan == 0"
   ]
  },
  {
   "cell_type": "code",
   "execution_count": 32,
   "id": "b78db37f",
   "metadata": {},
   "outputs": [
    {
     "data": {
      "text/plain": [
       "False"
      ]
     },
     "execution_count": 32,
     "metadata": {},
     "output_type": "execute_result"
    }
   ],
   "source": [
    "np.nan == np.nan"
   ]
  },
  {
   "cell_type": "code",
   "execution_count": 33,
   "id": "d9d8db77",
   "metadata": {},
   "outputs": [
    {
     "data": {
      "text/plain": [
       "array([10., 20., 30., nan, 50., 60.])"
      ]
     },
     "execution_count": 33,
     "metadata": {},
     "output_type": "execute_result"
    }
   ],
   "source": [
    "a = np.array([10, 20, 30, np.nan, 50, 60])\n",
    "a"
   ]
  },
  {
   "cell_type": "code",
   "execution_count": 34,
   "id": "43c6be08",
   "metadata": {},
   "outputs": [
    {
     "data": {
      "text/plain": [
       "dtype('float64')"
      ]
     },
     "execution_count": 34,
     "metadata": {},
     "output_type": "execute_result"
    }
   ],
   "source": [
    "a.dtype"
   ]
  },
  {
   "cell_type": "code",
   "execution_count": 35,
   "id": "dfe967d3",
   "metadata": {},
   "outputs": [
    {
     "data": {
      "text/plain": [
       "nan"
      ]
     },
     "execution_count": 35,
     "metadata": {},
     "output_type": "execute_result"
    }
   ],
   "source": [
    "a.mean()"
   ]
  },
  {
   "cell_type": "code",
   "execution_count": 37,
   "id": "a391fd82",
   "metadata": {},
   "outputs": [
    {
     "data": {
      "text/plain": [
       "nan"
      ]
     },
     "execution_count": 37,
     "metadata": {},
     "output_type": "execute_result"
    }
   ],
   "source": [
    "# option 1: find nan, remove it, and calculate with the rest\n",
    "# this doesn't work...\n",
    "\n",
    "a[a != np.nan].mean()"
   ]
  },
  {
   "cell_type": "code",
   "execution_count": 38,
   "id": "a725451c",
   "metadata": {},
   "outputs": [
    {
     "data": {
      "text/plain": [
       "array([False, False, False,  True, False, False])"
      ]
     },
     "execution_count": 38,
     "metadata": {},
     "output_type": "execute_result"
    }
   ],
   "source": [
    "# use np.isnan, which returns True for nan\n",
    "\n",
    "np.isnan(a)"
   ]
  },
  {
   "cell_type": "code",
   "execution_count": 41,
   "id": "a3d5f150",
   "metadata": {},
   "outputs": [
    {
     "data": {
      "text/plain": [
       "34.0"
      ]
     },
     "execution_count": 41,
     "metadata": {},
     "output_type": "execute_result"
    }
   ],
   "source": [
    "# use ~ to flip the logic\n",
    "a[~np.isnan(a)].mean()"
   ]
  },
  {
   "cell_type": "code",
   "execution_count": 42,
   "id": "b138b8e3",
   "metadata": {},
   "outputs": [
    {
     "name": "stderr",
     "output_type": "stream",
     "text": [
      "/var/folders/d9/v8tsklln4477fll05wkgcpth0000gn/T/ipykernel_60061/3888640601.py:2: RuntimeWarning: divide by zero encountered in divide\n",
      "  a/0\n"
     ]
    },
    {
     "data": {
      "text/plain": [
       "array([inf, inf, inf])"
      ]
     },
     "execution_count": 42,
     "metadata": {},
     "output_type": "execute_result"
    }
   ],
   "source": [
    "a = np.array([10, 20, 30])\n",
    "a/0"
   ]
  },
  {
   "cell_type": "code",
   "execution_count": 43,
   "id": "2310b1bf",
   "metadata": {},
   "outputs": [
    {
     "data": {
      "text/plain": [
       "float"
      ]
     },
     "execution_count": 43,
     "metadata": {},
     "output_type": "execute_result"
    }
   ],
   "source": [
    "type(np.inf)"
   ]
  },
  {
   "cell_type": "code",
   "execution_count": 44,
   "id": "fdd20710",
   "metadata": {},
   "outputs": [
    {
     "data": {
      "text/plain": [
       "True"
      ]
     },
     "execution_count": 44,
     "metadata": {},
     "output_type": "execute_result"
    }
   ],
   "source": [
    "np.inf == np.inf"
   ]
  },
  {
   "cell_type": "code",
   "execution_count": 45,
   "id": "de2be361",
   "metadata": {},
   "outputs": [
    {
     "data": {
      "text/plain": [
       "array([10, 20, 30])"
      ]
     },
     "execution_count": 45,
     "metadata": {},
     "output_type": "execute_result"
    }
   ],
   "source": [
    "a"
   ]
  },
  {
   "cell_type": "code",
   "execution_count": 46,
   "id": "02a97ba1",
   "metadata": {},
   "outputs": [
    {
     "data": {
      "text/plain": [
       "array([10., 20., 30., nan, nan, 50., 60.])"
      ]
     },
     "execution_count": 46,
     "metadata": {},
     "output_type": "execute_result"
    }
   ],
   "source": [
    "a = np.array([10, 20, 30, np.nan, np.nan, 50, 60])\n",
    "a"
   ]
  },
  {
   "cell_type": "code",
   "execution_count": 47,
   "id": "f7732b44",
   "metadata": {},
   "outputs": [
    {
     "data": {
      "text/plain": [
       "7"
      ]
     },
     "execution_count": 47,
     "metadata": {},
     "output_type": "execute_result"
    }
   ],
   "source": [
    "a.size"
   ]
  },
  {
   "cell_type": "code",
   "execution_count": 48,
   "id": "d1c89d87",
   "metadata": {},
   "outputs": [
    {
     "ename": "AttributeError",
     "evalue": "'numpy.ndarray' object has no attribute 'isnan'",
     "output_type": "error",
     "traceback": [
      "\u001b[0;31m---------------------------------------------------------------------------\u001b[0m",
      "\u001b[0;31mAttributeError\u001b[0m                            Traceback (most recent call last)",
      "Cell \u001b[0;32mIn [48], line 1\u001b[0m\n\u001b[0;32m----> 1\u001b[0m \u001b[43ma\u001b[49m\u001b[38;5;241;43m.\u001b[39;49m\u001b[43misnan\u001b[49m()\n",
      "\u001b[0;31mAttributeError\u001b[0m: 'numpy.ndarray' object has no attribute 'isnan'"
     ]
    }
   ],
   "source": [
    "a.isnan()"
   ]
  },
  {
   "cell_type": "code",
   "execution_count": 49,
   "id": "b49d3458",
   "metadata": {},
   "outputs": [
    {
     "data": {
      "text/plain": [
       "2"
      ]
     },
     "execution_count": 49,
     "metadata": {},
     "output_type": "execute_result"
    }
   ],
   "source": [
    "np.isnan(a).sum()"
   ]
  },
  {
   "cell_type": "code",
   "execution_count": 50,
   "id": "a682b481",
   "metadata": {},
   "outputs": [
    {
     "data": {
      "text/plain": [
       "7"
      ]
     },
     "execution_count": 50,
     "metadata": {},
     "output_type": "execute_result"
    }
   ],
   "source": [
    "np.count_nonzero(a)"
   ]
  },
  {
   "cell_type": "code",
   "execution_count": 51,
   "id": "539a1878",
   "metadata": {},
   "outputs": [
    {
     "data": {
      "text/plain": [
       "array([10., 20., 30., nan, nan, 50., 60.])"
      ]
     },
     "execution_count": 51,
     "metadata": {},
     "output_type": "execute_result"
    }
   ],
   "source": [
    "a"
   ]
  },
  {
   "cell_type": "code",
   "execution_count": 54,
   "id": "ae9c17a4",
   "metadata": {},
   "outputs": [],
   "source": [
    "# another technique: replace nan with something\n",
    "\n",
    "a[np.isnan(a)] = 999"
   ]
  },
  {
   "cell_type": "code",
   "execution_count": 55,
   "id": "6106fefb",
   "metadata": {},
   "outputs": [
    {
     "data": {
      "text/plain": [
       "array([ 10.,  20.,  30., 999., 999.,  50.,  60.])"
      ]
     },
     "execution_count": 55,
     "metadata": {},
     "output_type": "execute_result"
    }
   ],
   "source": [
    "a"
   ]
  },
  {
   "cell_type": "code",
   "execution_count": 57,
   "id": "25ad86dc",
   "metadata": {},
   "outputs": [],
   "source": [
    "# similiar: replace nan with the mean\n",
    "\n",
    "a = np.array([10., 20., 30., np.nan, np.nan, 50., 60.])"
   ]
  },
  {
   "cell_type": "markdown",
   "id": "b8552138",
   "metadata": {},
   "source": [
    "# Exercise: Working with `nan`\n",
    "\n",
    "1. Define a NumPy array with 20 integers between 0-1,000.\n",
    "2. Change all even numbers to `nan`.\n",
    "3. Calculate the mean of the numbers that remained.\n",
    "4. Replace all `nan` values with the non-`nan` mean."
   ]
  },
  {
   "cell_type": "code",
   "execution_count": 58,
   "id": "4e390ac3",
   "metadata": {},
   "outputs": [
    {
     "data": {
      "text/plain": [
       "array([684, 559, 629, 192, 835, 763, 707, 359,   9, 723, 277, 754, 804,\n",
       "       599,  70, 472, 600, 396, 314, 705])"
      ]
     },
     "execution_count": 58,
     "metadata": {},
     "output_type": "execute_result"
    }
   ],
   "source": [
    "np.random.seed(0)\n",
    "a = np.random.randint(0, 1000, 20)\n",
    "a"
   ]
  },
  {
   "cell_type": "code",
   "execution_count": 62,
   "id": "f666ea31",
   "metadata": {},
   "outputs": [
    {
     "data": {
      "text/plain": [
       "array([684., 559., 629., 192., 835., 763., 707., 359.,   9., 723., 277.,\n",
       "       754., 804., 599.,  70., 472., 600., 396., 314., 705.])"
      ]
     },
     "execution_count": 62,
     "metadata": {},
     "output_type": "execute_result"
    }
   ],
   "source": [
    "a = a.astype(np.float64)\n",
    "a"
   ]
  },
  {
   "cell_type": "code",
   "execution_count": 63,
   "id": "f0603bc0",
   "metadata": {},
   "outputs": [],
   "source": [
    "# find the even numbers\n",
    "a[a % 2 == 0] = np.nan"
   ]
  },
  {
   "cell_type": "code",
   "execution_count": 64,
   "id": "1644a47d",
   "metadata": {},
   "outputs": [
    {
     "data": {
      "text/plain": [
       "array([ nan, 559., 629.,  nan, 835., 763., 707., 359.,   9., 723., 277.,\n",
       "        nan,  nan, 599.,  nan,  nan,  nan,  nan,  nan, 705.])"
      ]
     },
     "execution_count": 64,
     "metadata": {},
     "output_type": "execute_result"
    }
   ],
   "source": [
    "a"
   ]
  },
  {
   "cell_type": "code",
   "execution_count": 70,
   "id": "473c942f",
   "metadata": {},
   "outputs": [],
   "source": [
    "# find the mean of these numbers, and assign to the nans\n",
    "\n",
    "a[np.isnan(a)] = a[~np.isnan(a)].mean()"
   ]
  },
  {
   "cell_type": "code",
   "execution_count": 71,
   "id": "cfc19380",
   "metadata": {},
   "outputs": [
    {
     "data": {
      "text/plain": [
       "array([560.45454545, 559.        , 629.        , 560.45454545,\n",
       "       835.        , 763.        , 707.        , 359.        ,\n",
       "         9.        , 723.        , 277.        , 560.45454545,\n",
       "       560.45454545, 599.        , 560.45454545, 560.45454545,\n",
       "       560.45454545, 560.45454545, 560.45454545, 705.        ])"
      ]
     },
     "execution_count": 71,
     "metadata": {},
     "output_type": "execute_result"
    }
   ],
   "source": [
    "a"
   ]
  },
  {
   "cell_type": "code",
   "execution_count": 73,
   "id": "e5c80937",
   "metadata": {},
   "outputs": [
    {
     "data": {
      "text/plain": [
       "560.4545454545455"
      ]
     },
     "execution_count": 73,
     "metadata": {},
     "output_type": "execute_result"
    }
   ],
   "source": [
    "np.nanmean(a)"
   ]
  },
  {
   "cell_type": "code",
   "execution_count": 75,
   "id": "2398cd68",
   "metadata": {},
   "outputs": [
    {
     "data": {
      "text/plain": [
       "array([10., 20., 30., nan, 40., nan])"
      ]
     },
     "execution_count": 75,
     "metadata": {},
     "output_type": "execute_result"
    }
   ],
   "source": [
    "a = np.array([10, 20, 30, np.nan, 40, np.nan])\n",
    "a"
   ]
  },
  {
   "cell_type": "code",
   "execution_count": 76,
   "id": "14488545",
   "metadata": {},
   "outputs": [
    {
     "data": {
      "text/plain": [
       "array([10., 20., 30.,  0., 40.,  0.])"
      ]
     },
     "execution_count": 76,
     "metadata": {},
     "output_type": "execute_result"
    }
   ],
   "source": [
    "np.nan_to_num(a)"
   ]
  },
  {
   "cell_type": "code",
   "execution_count": 77,
   "id": "ac132566",
   "metadata": {},
   "outputs": [
    {
     "data": {
      "text/plain": [
       "array([ 10.,  20.,  30., 999.,  40., 999.])"
      ]
     },
     "execution_count": 77,
     "metadata": {},
     "output_type": "execute_result"
    }
   ],
   "source": [
    "np.nan_to_num(a, nan=999)"
   ]
  },
  {
   "cell_type": "code",
   "execution_count": 78,
   "id": "c3455562",
   "metadata": {},
   "outputs": [],
   "source": [
    "np.nan_to_num?"
   ]
  },
  {
   "cell_type": "code",
   "execution_count": 80,
   "id": "119dd4ad",
   "metadata": {},
   "outputs": [
    {
     "data": {
      "text/plain": [
       "dtype('float64')"
      ]
     },
     "execution_count": 80,
     "metadata": {},
     "output_type": "execute_result"
    }
   ],
   "source": [
    "a.astype(float).dtype"
   ]
  },
  {
   "cell_type": "code",
   "execution_count": 81,
   "id": "5d38d499",
   "metadata": {},
   "outputs": [
    {
     "name": "stderr",
     "output_type": "stream",
     "text": [
      "/var/folders/d9/v8tsklln4477fll05wkgcpth0000gn/T/ipykernel_60061/911352652.py:1: RuntimeWarning: invalid value encountered in cast\n",
      "  a.astype(int).dtype\n"
     ]
    },
    {
     "data": {
      "text/plain": [
       "dtype('int64')"
      ]
     },
     "execution_count": 81,
     "metadata": {},
     "output_type": "execute_result"
    }
   ],
   "source": [
    "a.astype(int).dtype"
   ]
  },
  {
   "cell_type": "code",
   "execution_count": 82,
   "id": "26ef8485",
   "metadata": {},
   "outputs": [
    {
     "data": {
      "text/plain": [
       "array([10., 20., 30., nan, 40., nan])"
      ]
     },
     "execution_count": 82,
     "metadata": {},
     "output_type": "execute_result"
    }
   ],
   "source": [
    "a"
   ]
  },
  {
   "cell_type": "code",
   "execution_count": 83,
   "id": "b44c88dd",
   "metadata": {},
   "outputs": [
    {
     "data": {
      "text/plain": [
       "array([10., 20., 30., nan, 40., nan])"
      ]
     },
     "execution_count": 83,
     "metadata": {},
     "output_type": "execute_result"
    }
   ],
   "source": [
    "a.astype('float64')"
   ]
  },
  {
   "cell_type": "markdown",
   "id": "77288ece",
   "metadata": {},
   "source": [
    "# 2D arrays\n",
    "\n",
    "NumPy arrays are actually \"ndarray\" -- n-dimensional arrays. \n",
    "\n",
    "I can use a list of lists to create a 2D array."
   ]
  },
  {
   "cell_type": "code",
   "execution_count": 85,
   "id": "6e51071c",
   "metadata": {},
   "outputs": [
    {
     "data": {
      "text/plain": [
       "array([[ 10,  20,  30,  40],\n",
       "       [ 50,  60,  70,  80],\n",
       "       [ 90, 100, 110, 120]])"
      ]
     },
     "execution_count": 85,
     "metadata": {},
     "output_type": "execute_result"
    }
   ],
   "source": [
    "a = np.array([[10, 20, 30, 40],\n",
    "              [50, 60, 70, 80],\n",
    "             [90, 100, 110, 120]])\n",
    "a"
   ]
  },
  {
   "cell_type": "code",
   "execution_count": 86,
   "id": "7d4c3325",
   "metadata": {},
   "outputs": [
    {
     "data": {
      "text/plain": [
       "array([10, 20, 30, 40])"
      ]
     },
     "execution_count": 86,
     "metadata": {},
     "output_type": "execute_result"
    }
   ],
   "source": [
    "a[0] "
   ]
  },
  {
   "cell_type": "code",
   "execution_count": 87,
   "id": "9d06a08a",
   "metadata": {},
   "outputs": [
    {
     "data": {
      "text/plain": [
       "array([15, 25, 35, 45])"
      ]
     },
     "execution_count": 87,
     "metadata": {},
     "output_type": "execute_result"
    }
   ],
   "source": [
    "a[0] + 5"
   ]
  },
  {
   "cell_type": "code",
   "execution_count": 88,
   "id": "a920b9f8",
   "metadata": {},
   "outputs": [
    {
     "data": {
      "text/plain": [
       "array([[ 15,  25,  35,  45],\n",
       "       [ 55,  65,  75,  85],\n",
       "       [ 95, 105, 115, 125]])"
      ]
     },
     "execution_count": 88,
     "metadata": {},
     "output_type": "execute_result"
    }
   ],
   "source": [
    "# what happens with broadcasting on the whole 2D array?\n",
    "a + 5"
   ]
  },
  {
   "cell_type": "code",
   "execution_count": 89,
   "id": "0e856231",
   "metadata": {},
   "outputs": [
    {
     "data": {
      "text/plain": [
       "(3, 4)"
      ]
     },
     "execution_count": 89,
     "metadata": {},
     "output_type": "execute_result"
    }
   ],
   "source": [
    "a.shape"
   ]
  },
  {
   "cell_type": "code",
   "execution_count": 90,
   "id": "351e64b4",
   "metadata": {},
   "outputs": [
    {
     "data": {
      "text/plain": [
       "array([[ 10,  20,  30,  40,  50,  60],\n",
       "       [ 70,  80,  90, 100, 110, 120]])"
      ]
     },
     "execution_count": 90,
     "metadata": {},
     "output_type": "execute_result"
    }
   ],
   "source": [
    "# how can I change the shape?\n",
    "# option 1: assign to .shape\n",
    "\n",
    "a.shape = (2, 6)\n",
    "a"
   ]
  },
  {
   "cell_type": "code",
   "execution_count": 91,
   "id": "e035b8d4",
   "metadata": {},
   "outputs": [],
   "source": [
    "a.shape = (12,)   # tuple with one element still needs ,"
   ]
  },
  {
   "cell_type": "code",
   "execution_count": 92,
   "id": "3982ec52",
   "metadata": {},
   "outputs": [
    {
     "data": {
      "text/plain": [
       "array([ 10,  20,  30,  40,  50,  60,  70,  80,  90, 100, 110, 120])"
      ]
     },
     "execution_count": 92,
     "metadata": {},
     "output_type": "execute_result"
    }
   ],
   "source": [
    "a"
   ]
  },
  {
   "cell_type": "code",
   "execution_count": 93,
   "id": "ace74ea7",
   "metadata": {},
   "outputs": [
    {
     "data": {
      "text/plain": [
       "array([[ 10,  20,  30,  40],\n",
       "       [ 50,  60,  70,  80],\n",
       "       [ 90, 100, 110, 120]])"
      ]
     },
     "execution_count": 93,
     "metadata": {},
     "output_type": "execute_result"
    }
   ],
   "source": [
    "a.shape = (3, 4)\n",
    "a"
   ]
  },
  {
   "cell_type": "code",
   "execution_count": null,
   "id": "b0c3b3f7",
   "metadata": {},
   "outputs": [],
   "source": []
  },
  {
   "cell_type": "code",
   "execution_count": 94,
   "id": "30634afe",
   "metadata": {},
   "outputs": [
    {
     "ename": "ValueError",
     "evalue": "cannot reshape array of size 12 into shape (3,5)",
     "output_type": "error",
     "traceback": [
      "\u001b[0;31m---------------------------------------------------------------------------\u001b[0m",
      "\u001b[0;31mValueError\u001b[0m                                Traceback (most recent call last)",
      "Cell \u001b[0;32mIn [94], line 1\u001b[0m\n\u001b[0;32m----> 1\u001b[0m \u001b[43ma\u001b[49m\u001b[38;5;241;43m.\u001b[39;49m\u001b[43mshape\u001b[49m \u001b[38;5;241m=\u001b[39m (\u001b[38;5;241m3\u001b[39m, \u001b[38;5;241m5\u001b[39m)\n",
      "\u001b[0;31mValueError\u001b[0m: cannot reshape array of size 12 into shape (3,5)"
     ]
    }
   ],
   "source": [
    "a.shape = (3, 5)"
   ]
  },
  {
   "cell_type": "code",
   "execution_count": 95,
   "id": "5094a34f",
   "metadata": {},
   "outputs": [
    {
     "ename": "SyntaxError",
     "evalue": "invalid syntax (1867200925.py, line 1)",
     "output_type": "error",
     "traceback": [
      "\u001b[0;36m  Cell \u001b[0;32mIn [95], line 1\u001b[0;36m\u001b[0m\n\u001b[0;31m    a.shape = (3, :)\u001b[0m\n\u001b[0m                  ^\u001b[0m\n\u001b[0;31mSyntaxError\u001b[0m\u001b[0;31m:\u001b[0m invalid syntax\n"
     ]
    }
   ],
   "source": [
    "a.shape = (3, :)"
   ]
  },
  {
   "cell_type": "code",
   "execution_count": 96,
   "id": "5ec951da",
   "metadata": {},
   "outputs": [
    {
     "data": {
      "text/plain": [
       "array([[ 10,  20,  30,  40],\n",
       "       [ 50,  60,  70,  80],\n",
       "       [ 90, 100, 110, 120]])"
      ]
     },
     "execution_count": 96,
     "metadata": {},
     "output_type": "execute_result"
    }
   ],
   "source": [
    "# option 2: use the \"reshape\" method\n",
    "\n",
    "# \n",
    "a.reshape(3, 4)"
   ]
  },
  {
   "cell_type": "code",
   "execution_count": 98,
   "id": "6a14c531",
   "metadata": {},
   "outputs": [
    {
     "ename": "SyntaxError",
     "evalue": "invalid syntax (1741208929.py, line 1)",
     "output_type": "error",
     "traceback": [
      "\u001b[0;36m  Cell \u001b[0;32mIn [98], line 1\u001b[0;36m\u001b[0m\n\u001b[0;31m    a.reshape(3, :)\u001b[0m\n\u001b[0m                 ^\u001b[0m\n\u001b[0;31mSyntaxError\u001b[0m\u001b[0;31m:\u001b[0m invalid syntax\n"
     ]
    }
   ],
   "source": [
    "a.reshape(3, :)"
   ]
  },
  {
   "cell_type": "code",
   "execution_count": 100,
   "id": "c8222e87",
   "metadata": {},
   "outputs": [
    {
     "data": {
      "text/plain": [
       "array([[115, 976, 755, 709],\n",
       "       [847, 431, 448, 850],\n",
       "       [ 99, 984, 177, 755]])"
      ]
     },
     "execution_count": 100,
     "metadata": {},
     "output_type": "execute_result"
    }
   ],
   "source": [
    "# get random numbers\n",
    "\n",
    "np.random.randint(0, 1000, 12).reshape(3, 4)"
   ]
  },
  {
   "cell_type": "code",
   "execution_count": 101,
   "id": "74a966b7",
   "metadata": {},
   "outputs": [
    {
     "data": {
      "text/plain": [
       "array([[797, 659, 147, 910],\n",
       "       [423, 288, 961, 265],\n",
       "       [697, 639, 544, 543]])"
      ]
     },
     "execution_count": 101,
     "metadata": {},
     "output_type": "execute_result"
    }
   ],
   "source": [
    "# even better!\n",
    "np.random.randint(0, 1000, [3,4])"
   ]
  },
  {
   "cell_type": "code",
   "execution_count": 102,
   "id": "d0b90663",
   "metadata": {},
   "outputs": [
    {
     "data": {
      "text/plain": [
       "array([[684, 559, 629, 192, 835, 763],\n",
       "       [707, 359,   9, 723, 277, 754],\n",
       "       [804, 599,  70, 472, 600, 396],\n",
       "       [314, 705, 486, 551,  87, 174],\n",
       "       [600, 849, 677, 537, 845,  72]])"
      ]
     },
     "execution_count": 102,
     "metadata": {},
     "output_type": "execute_result"
    }
   ],
   "source": [
    "np.random.seed(0)\n",
    "a = np.random.randint(0, 1000, [5, 6])\n",
    "a"
   ]
  },
  {
   "cell_type": "code",
   "execution_count": 103,
   "id": "58bebe2e",
   "metadata": {},
   "outputs": [
    {
     "data": {
      "text/plain": [
       "array([707, 359,   9, 723, 277, 754])"
      ]
     },
     "execution_count": 103,
     "metadata": {},
     "output_type": "execute_result"
    }
   ],
   "source": [
    "a[1]"
   ]
  },
  {
   "cell_type": "code",
   "execution_count": 104,
   "id": "31d2af09",
   "metadata": {},
   "outputs": [
    {
     "data": {
      "text/plain": [
       "array([314, 705, 486, 551,  87, 174])"
      ]
     },
     "execution_count": 104,
     "metadata": {},
     "output_type": "execute_result"
    }
   ],
   "source": [
    "a[3]"
   ]
  },
  {
   "cell_type": "code",
   "execution_count": 105,
   "id": "5f18a245",
   "metadata": {},
   "outputs": [
    {
     "data": {
      "text/plain": [
       "array([[707, 359,   9, 723, 277, 754],\n",
       "       [314, 705, 486, 551,  87, 174]])"
      ]
     },
     "execution_count": 105,
     "metadata": {},
     "output_type": "execute_result"
    }
   ],
   "source": [
    "# what if I want both index 1 and 3?\n",
    "# fancy indexing!\n",
    "a[ [1,3] ]"
   ]
  },
  {
   "cell_type": "code",
   "execution_count": 106,
   "id": "57774962",
   "metadata": {},
   "outputs": [
    {
     "data": {
      "text/plain": [
       "array([[707, 359,   9, 723, 277, 754],\n",
       "       [804, 599,  70, 472, 600, 396]])"
      ]
     },
     "execution_count": 106,
     "metadata": {},
     "output_type": "execute_result"
    }
   ],
   "source": [
    "# using a slice is a bit different...\n",
    "a[1:3]   # from 1, up to and not including 3"
   ]
  },
  {
   "cell_type": "code",
   "execution_count": 107,
   "id": "e5b3955e",
   "metadata": {},
   "outputs": [
    {
     "data": {
      "text/plain": [
       "array([[707, 359,   9, 723, 277, 754],\n",
       "       [314, 705, 486, 551,  87, 174]])"
      ]
     },
     "execution_count": 107,
     "metadata": {},
     "output_type": "execute_result"
    }
   ],
   "source": [
    "a[1:5:2]"
   ]
  },
  {
   "cell_type": "code",
   "execution_count": 108,
   "id": "098d795c",
   "metadata": {},
   "outputs": [
    {
     "data": {
      "text/plain": [
       "array([[684, 559, 629, 192, 835, 763],\n",
       "       [707, 359,   9, 723, 277, 754],\n",
       "       [804, 599,  70, 472, 600, 396],\n",
       "       [314, 705, 486, 551,  87, 174],\n",
       "       [600, 849, 677, 537, 845,  72]])"
      ]
     },
     "execution_count": 108,
     "metadata": {},
     "output_type": "execute_result"
    }
   ],
   "source": [
    "a"
   ]
  },
  {
   "cell_type": "code",
   "execution_count": 110,
   "id": "08604560",
   "metadata": {},
   "outputs": [
    {
     "data": {
      "text/plain": [
       "600"
      ]
     },
     "execution_count": 110,
     "metadata": {},
     "output_type": "execute_result"
    }
   ],
   "source": [
    "# what if I want from row index 2, and column index 4\n",
    "\n",
    "a[2][4]"
   ]
  },
  {
   "cell_type": "code",
   "execution_count": 113,
   "id": "03eab92d",
   "metadata": {},
   "outputs": [
    {
     "data": {
      "text/plain": [
       "600"
      ]
     },
     "execution_count": 113,
     "metadata": {},
     "output_type": "execute_result"
    }
   ],
   "source": [
    "# better!\n",
    "a[2,4]   # I'm really passing a[(2,4)]"
   ]
  },
  {
   "cell_type": "code",
   "execution_count": 114,
   "id": "fed0c413",
   "metadata": {},
   "outputs": [
    {
     "data": {
      "text/plain": [
       "array([192, 723, 472, 551, 537])"
      ]
     },
     "execution_count": 114,
     "metadata": {},
     "output_type": "execute_result"
    }
   ],
   "source": [
    "# what if I want a column?\n",
    "# we want column index 3\n",
    "\n",
    "a[:, 3]"
   ]
  },
  {
   "cell_type": "code",
   "execution_count": 115,
   "id": "6c0d9df3",
   "metadata": {},
   "outputs": [
    {
     "data": {
      "text/plain": [
       "array([[684, 559, 629, 192, 835, 763],\n",
       "       [707, 359,   9, 723, 277, 754],\n",
       "       [804, 599,  70, 472, 600, 396],\n",
       "       [314, 705, 486, 551,  87, 174],\n",
       "       [600, 849, 677, 537, 845,  72]])"
      ]
     },
     "execution_count": 115,
     "metadata": {},
     "output_type": "execute_result"
    }
   ],
   "source": [
    "a"
   ]
  },
  {
   "cell_type": "code",
   "execution_count": 116,
   "id": "6d745af8",
   "metadata": {},
   "outputs": [
    {
     "data": {
      "text/plain": [
       "array([472, 551])"
      ]
     },
     "execution_count": 116,
     "metadata": {},
     "output_type": "execute_result"
    }
   ],
   "source": [
    "# rows: from 2, until (not including) 4\n",
    "# columns: 3\n",
    "\n",
    "a[2:4, 3]"
   ]
  },
  {
   "cell_type": "code",
   "execution_count": 117,
   "id": "2323b277",
   "metadata": {},
   "outputs": [
    {
     "data": {
      "text/plain": [
       "array([[559, 629, 192, 835],\n",
       "       [359,   9, 723, 277],\n",
       "       [599,  70, 472, 600],\n",
       "       [705, 486, 551,  87],\n",
       "       [849, 677, 537, 845]])"
      ]
     },
     "execution_count": 117,
     "metadata": {},
     "output_type": "execute_result"
    }
   ],
   "source": [
    "# we can slice the columns, too!\n",
    "# rows: all\n",
    "# columns: 1-4\n",
    "a[:, 1:5]"
   ]
  },
  {
   "cell_type": "code",
   "execution_count": null,
   "id": "1061db88",
   "metadata": {},
   "outputs": [],
   "source": [
    "# we can also use lists for fancy indexing!\n",
    "a[]"
   ]
  }
 ],
 "metadata": {
  "kernelspec": {
   "display_name": "Python 3 (ipykernel)",
   "language": "python",
   "name": "python3"
  },
  "language_info": {
   "codemirror_mode": {
    "name": "ipython",
    "version": 3
   },
   "file_extension": ".py",
   "mimetype": "text/x-python",
   "name": "python",
   "nbconvert_exporter": "python",
   "pygments_lexer": "ipython3",
   "version": "3.11.3"
  }
 },
 "nbformat": 4,
 "nbformat_minor": 5
}
