{
 "cells": [
  {
   "cell_type": "markdown",
   "id": "555743cf",
   "metadata": {},
   "source": [
    "# Agenda\n",
    "\n",
    "1. `nan`\n",
    "2. 2D arrays and shapes\n",
    "3. sorting\n",
    "4. Pandas"
   ]
  },
  {
   "cell_type": "code",
   "execution_count": 2,
   "id": "2c57f2f1",
   "metadata": {},
   "outputs": [],
   "source": [
    "import numpy as np\n"
   ]
  },
  {
   "cell_type": "code",
   "execution_count": 3,
   "id": "578e3920",
   "metadata": {},
   "outputs": [
    {
     "data": {
      "text/plain": [
       "dtype('int64')"
      ]
     },
     "execution_count": 3,
     "metadata": {},
     "output_type": "execute_result"
    }
   ],
   "source": [
    "a = np.array([10, 20, 30, 40, 50])\n",
    "a.dtype"
   ]
  },
  {
   "cell_type": "code",
   "execution_count": 4,
   "id": "be1e9d90",
   "metadata": {},
   "outputs": [
    {
     "data": {
      "text/plain": [
       "array([10, 20, 12, 40, 50])"
      ]
     },
     "execution_count": 4,
     "metadata": {},
     "output_type": "execute_result"
    }
   ],
   "source": [
    "a[2] = 12.34\n",
    "a"
   ]
  },
  {
   "cell_type": "code",
   "execution_count": 5,
   "id": "e140f1e3",
   "metadata": {},
   "outputs": [
    {
     "data": {
      "text/plain": [
       "dtype('float64')"
      ]
     },
     "execution_count": 5,
     "metadata": {},
     "output_type": "execute_result"
    }
   ],
   "source": [
    "a = np.array([10, 20, 30, 40, 50], dtype=np.float64)\n",
    "a.dtype"
   ]
  },
  {
   "cell_type": "code",
   "execution_count": 6,
   "id": "c482c9cc",
   "metadata": {},
   "outputs": [
    {
     "data": {
      "text/plain": [
       "array([10.  , 20.  , 12.34, 40.  , 50.  ])"
      ]
     },
     "execution_count": 6,
     "metadata": {},
     "output_type": "execute_result"
    }
   ],
   "source": [
    "a[2] = 12.34\n",
    "a"
   ]
  },
  {
   "cell_type": "code",
   "execution_count": 12,
   "id": "f6ed6399",
   "metadata": {},
   "outputs": [
    {
     "data": {
      "text/plain": [
       "dtype('int64')"
      ]
     },
     "execution_count": 12,
     "metadata": {},
     "output_type": "execute_result"
    }
   ],
   "source": [
    "a = np.array([10, 20, 30, 40, 50])\n",
    "a.dtype"
   ]
  },
  {
   "cell_type": "code",
   "execution_count": 13,
   "id": "7ea4c44c",
   "metadata": {},
   "outputs": [],
   "source": [
    "a[2] = '123'"
   ]
  },
  {
   "cell_type": "code",
   "execution_count": 14,
   "id": "e2b922ce",
   "metadata": {
    "scrolled": true
   },
   "outputs": [
    {
     "data": {
      "text/plain": [
       "array([ 10,  20, 123,  40,  50])"
      ]
     },
     "execution_count": 14,
     "metadata": {},
     "output_type": "execute_result"
    }
   ],
   "source": [
    "a"
   ]
  },
  {
   "cell_type": "code",
   "execution_count": 15,
   "id": "82556ffd",
   "metadata": {},
   "outputs": [
    {
     "data": {
      "text/plain": [
       "dtype('int64')"
      ]
     },
     "execution_count": 15,
     "metadata": {},
     "output_type": "execute_result"
    }
   ],
   "source": [
    "a.dtype"
   ]
  },
  {
   "cell_type": "code",
   "execution_count": 16,
   "id": "eaf0b81f",
   "metadata": {},
   "outputs": [
    {
     "data": {
      "text/plain": [
       "dtype('int64')"
      ]
     },
     "execution_count": 16,
     "metadata": {},
     "output_type": "execute_result"
    }
   ],
   "source": [
    "a[3] = 98.76\n",
    "a.dtype"
   ]
  },
  {
   "cell_type": "code",
   "execution_count": 10,
   "id": "341b9418",
   "metadata": {},
   "outputs": [
    {
     "ename": "ValueError",
     "evalue": "invalid literal for int() with base 10: 'hello'",
     "output_type": "error",
     "traceback": [
      "\u001b[0;31m---------------------------------------------------------------------------\u001b[0m",
      "\u001b[0;31mValueError\u001b[0m                                Traceback (most recent call last)",
      "Cell \u001b[0;32mIn [10], line 1\u001b[0m\n\u001b[0;32m----> 1\u001b[0m \u001b[43ma\u001b[49m\u001b[43m[\u001b[49m\u001b[38;5;241;43m3\u001b[39;49m\u001b[43m]\u001b[49m \u001b[38;5;241m=\u001b[39m \u001b[38;5;124m'\u001b[39m\u001b[38;5;124mhello\u001b[39m\u001b[38;5;124m'\u001b[39m\n",
      "\u001b[0;31mValueError\u001b[0m: invalid literal for int() with base 10: 'hello'"
     ]
    }
   ],
   "source": [
    "a[3] = 'hello'"
   ]
  },
  {
   "cell_type": "code",
   "execution_count": 11,
   "id": "87815b84",
   "metadata": {},
   "outputs": [
    {
     "data": {
      "text/plain": [
       "dtype('int64')"
      ]
     },
     "execution_count": 11,
     "metadata": {},
     "output_type": "execute_result"
    }
   ],
   "source": [
    "a.dtype"
   ]
  },
  {
   "cell_type": "code",
   "execution_count": 17,
   "id": "157d62a2",
   "metadata": {},
   "outputs": [],
   "source": [
    "a = np.array('hello out there'.split())"
   ]
  },
  {
   "cell_type": "code",
   "execution_count": 18,
   "id": "b68077b3",
   "metadata": {},
   "outputs": [
    {
     "data": {
      "text/plain": [
       "array(['hello', 'out', 'there'], dtype='<U5')"
      ]
     },
     "execution_count": 18,
     "metadata": {},
     "output_type": "execute_result"
    }
   ],
   "source": [
    "a"
   ]
  },
  {
   "cell_type": "code",
   "execution_count": 19,
   "id": "a5cd966d",
   "metadata": {},
   "outputs": [
    {
     "data": {
      "text/plain": [
       "array(['xyz', 'out', 'there'], dtype='<U5')"
      ]
     },
     "execution_count": 19,
     "metadata": {},
     "output_type": "execute_result"
    }
   ],
   "source": [
    "a[0] = 'xyz'\n",
    "a"
   ]
  },
  {
   "cell_type": "code",
   "execution_count": 20,
   "id": "dd09c0a8",
   "metadata": {},
   "outputs": [],
   "source": [
    "a[1] = 'hijklmnop'"
   ]
  },
  {
   "cell_type": "code",
   "execution_count": 21,
   "id": "99dfd82d",
   "metadata": {},
   "outputs": [
    {
     "data": {
      "text/plain": [
       "array(['xyz', 'hijkl', 'there'], dtype='<U5')"
      ]
     },
     "execution_count": 21,
     "metadata": {},
     "output_type": "execute_result"
    }
   ],
   "source": [
    "a"
   ]
  },
  {
   "cell_type": "code",
   "execution_count": 23,
   "id": "701766ec",
   "metadata": {},
   "outputs": [
    {
     "data": {
      "text/plain": [
       "array(['xyz', 'hijkl', 'there'], dtype='<U30')"
      ]
     },
     "execution_count": 23,
     "metadata": {},
     "output_type": "execute_result"
    }
   ],
   "source": [
    "a = a.astype('<U30')\n",
    "a"
   ]
  },
  {
   "cell_type": "code",
   "execution_count": 24,
   "id": "ce9b2410",
   "metadata": {},
   "outputs": [
    {
     "data": {
      "text/plain": [
       "array(['xyz', 'rstuvwxyz', 'there'], dtype='<U30')"
      ]
     },
     "execution_count": 24,
     "metadata": {},
     "output_type": "execute_result"
    }
   ],
   "source": [
    "a[1] = 'rstuvwxyz'\n",
    "a"
   ]
  },
  {
   "cell_type": "code",
   "execution_count": 25,
   "id": "dd1f46ac",
   "metadata": {},
   "outputs": [],
   "source": [
    "a = np.array([{'a':10, 'b':20}])"
   ]
  },
  {
   "cell_type": "code",
   "execution_count": 26,
   "id": "1372bf35",
   "metadata": {},
   "outputs": [
    {
     "data": {
      "text/plain": [
       "array([{'a': 10, 'b': 20}], dtype=object)"
      ]
     },
     "execution_count": 26,
     "metadata": {},
     "output_type": "execute_result"
    }
   ],
   "source": [
    "a"
   ]
  },
  {
   "cell_type": "code",
   "execution_count": 27,
   "id": "758f3ba4",
   "metadata": {},
   "outputs": [
    {
     "data": {
      "text/plain": [
       "26.6"
      ]
     },
     "execution_count": 27,
     "metadata": {},
     "output_type": "execute_result"
    }
   ],
   "source": [
    "a = np.array([27, 26, 27, 26, 27])\n",
    "a.mean()"
   ]
  },
  {
   "cell_type": "code",
   "execution_count": 28,
   "id": "05af6e2e",
   "metadata": {},
   "outputs": [
    {
     "data": {
      "text/plain": [
       "21.2"
      ]
     },
     "execution_count": 28,
     "metadata": {},
     "output_type": "execute_result"
    }
   ],
   "source": [
    "# what if we have a problem getting a reading?\n",
    "a = np.array([27, 26, 0, 26, 27])\n",
    "a.mean()"
   ]
  },
  {
   "cell_type": "markdown",
   "id": "e6c293f1",
   "metadata": {},
   "source": [
    "# `nan` -- not a number\n",
    "\n",
    "`nan` allows us to have numbers but know that they aren't accurate/real."
   ]
  },
  {
   "cell_type": "code",
   "execution_count": 29,
   "id": "5ff62861",
   "metadata": {},
   "outputs": [
    {
     "data": {
      "text/plain": [
       "nan"
      ]
     },
     "execution_count": 29,
     "metadata": {},
     "output_type": "execute_result"
    }
   ],
   "source": [
    "np.nan"
   ]
  },
  {
   "cell_type": "code",
   "execution_count": 30,
   "id": "c9c84bba",
   "metadata": {},
   "outputs": [
    {
     "data": {
      "text/plain": [
       "float"
      ]
     },
     "execution_count": 30,
     "metadata": {},
     "output_type": "execute_result"
    }
   ],
   "source": [
    "type(np.nan)"
   ]
  },
  {
   "cell_type": "code",
   "execution_count": 31,
   "id": "d9d3c483",
   "metadata": {},
   "outputs": [
    {
     "data": {
      "text/plain": [
       "False"
      ]
     },
     "execution_count": 31,
     "metadata": {},
     "output_type": "execute_result"
    }
   ],
   "source": [
    "np.nan == 0"
   ]
  },
  {
   "cell_type": "code",
   "execution_count": 32,
   "id": "36412f63",
   "metadata": {},
   "outputs": [
    {
     "data": {
      "text/plain": [
       "False"
      ]
     },
     "execution_count": 32,
     "metadata": {},
     "output_type": "execute_result"
    }
   ],
   "source": [
    "np.nan == np.nan"
   ]
  },
  {
   "cell_type": "code",
   "execution_count": 33,
   "id": "10e8b5c6",
   "metadata": {},
   "outputs": [
    {
     "data": {
      "text/plain": [
       "array([10., 20., 30., nan, 50., 60.])"
      ]
     },
     "execution_count": 33,
     "metadata": {},
     "output_type": "execute_result"
    }
   ],
   "source": [
    "a = np.array([10, 20, 30, np.nan, 50, 60])\n",
    "a"
   ]
  },
  {
   "cell_type": "code",
   "execution_count": 34,
   "id": "24de4891",
   "metadata": {},
   "outputs": [
    {
     "data": {
      "text/plain": [
       "dtype('float64')"
      ]
     },
     "execution_count": 34,
     "metadata": {},
     "output_type": "execute_result"
    }
   ],
   "source": [
    "a.dtype"
   ]
  },
  {
   "cell_type": "code",
   "execution_count": 35,
   "id": "14e9898e",
   "metadata": {},
   "outputs": [
    {
     "data": {
      "text/plain": [
       "nan"
      ]
     },
     "execution_count": 35,
     "metadata": {},
     "output_type": "execute_result"
    }
   ],
   "source": [
    "a.mean()"
   ]
  },
  {
   "cell_type": "code",
   "execution_count": 37,
   "id": "08552fc4",
   "metadata": {},
   "outputs": [
    {
     "data": {
      "text/plain": [
       "nan"
      ]
     },
     "execution_count": 37,
     "metadata": {},
     "output_type": "execute_result"
    }
   ],
   "source": [
    "# option 1: find nan, remove it, and calculate with the rest\n",
    "# this doesn't work...\n",
    "\n",
    "a[a != np.nan].mean()"
   ]
  },
  {
   "cell_type": "code",
   "execution_count": 38,
   "id": "2e74b54b",
   "metadata": {},
   "outputs": [
    {
     "data": {
      "text/plain": [
       "array([False, False, False,  True, False, False])"
      ]
     },
     "execution_count": 38,
     "metadata": {},
     "output_type": "execute_result"
    }
   ],
   "source": [
    "# use np.isnan, which returns True for nan\n",
    "\n",
    "np.isnan(a)"
   ]
  },
  {
   "cell_type": "code",
   "execution_count": 41,
   "id": "a92e61a2",
   "metadata": {},
   "outputs": [
    {
     "data": {
      "text/plain": [
       "34.0"
      ]
     },
     "execution_count": 41,
     "metadata": {},
     "output_type": "execute_result"
    }
   ],
   "source": [
    "# use ~ to flip the logic\n",
    "a[~np.isnan(a)].mean()"
   ]
  },
  {
   "cell_type": "code",
   "execution_count": 42,
   "id": "090f11c6",
   "metadata": {},
   "outputs": [
    {
     "name": "stderr",
     "output_type": "stream",
     "text": [
      "/var/folders/d9/v8tsklln4477fll05wkgcpth0000gn/T/ipykernel_60061/3888640601.py:2: RuntimeWarning: divide by zero encountered in divide\n",
      "  a/0\n"
     ]
    },
    {
     "data": {
      "text/plain": [
       "array([inf, inf, inf])"
      ]
     },
     "execution_count": 42,
     "metadata": {},
     "output_type": "execute_result"
    }
   ],
   "source": [
    "a = np.array([10, 20, 30])\n",
    "a/0"
   ]
  },
  {
   "cell_type": "code",
   "execution_count": 43,
   "id": "4eabe306",
   "metadata": {},
   "outputs": [
    {
     "data": {
      "text/plain": [
       "float"
      ]
     },
     "execution_count": 43,
     "metadata": {},
     "output_type": "execute_result"
    }
   ],
   "source": [
    "type(np.inf)"
   ]
  },
  {
   "cell_type": "code",
   "execution_count": 44,
   "id": "c23cb148",
   "metadata": {},
   "outputs": [
    {
     "data": {
      "text/plain": [
       "True"
      ]
     },
     "execution_count": 44,
     "metadata": {},
     "output_type": "execute_result"
    }
   ],
   "source": [
    "np.inf == np.inf"
   ]
  },
  {
   "cell_type": "code",
   "execution_count": 45,
   "id": "2ae2c07d",
   "metadata": {},
   "outputs": [
    {
     "data": {
      "text/plain": [
       "array([10, 20, 30])"
      ]
     },
     "execution_count": 45,
     "metadata": {},
     "output_type": "execute_result"
    }
   ],
   "source": [
    "a"
   ]
  },
  {
   "cell_type": "code",
   "execution_count": 46,
   "id": "d7fe263e",
   "metadata": {},
   "outputs": [
    {
     "data": {
      "text/plain": [
       "array([10., 20., 30., nan, nan, 50., 60.])"
      ]
     },
     "execution_count": 46,
     "metadata": {},
     "output_type": "execute_result"
    }
   ],
   "source": [
    "a = np.array([10, 20, 30, np.nan, np.nan, 50, 60])\n",
    "a"
   ]
  },
  {
   "cell_type": "code",
   "execution_count": 47,
   "id": "75ec3c21",
   "metadata": {},
   "outputs": [
    {
     "data": {
      "text/plain": [
       "7"
      ]
     },
     "execution_count": 47,
     "metadata": {},
     "output_type": "execute_result"
    }
   ],
   "source": [
    "a.size"
   ]
  },
  {
   "cell_type": "code",
   "execution_count": 48,
   "id": "3fa972da",
   "metadata": {},
   "outputs": [
    {
     "ename": "AttributeError",
     "evalue": "'numpy.ndarray' object has no attribute 'isnan'",
     "output_type": "error",
     "traceback": [
      "\u001b[0;31m---------------------------------------------------------------------------\u001b[0m",
      "\u001b[0;31mAttributeError\u001b[0m                            Traceback (most recent call last)",
      "Cell \u001b[0;32mIn [48], line 1\u001b[0m\n\u001b[0;32m----> 1\u001b[0m \u001b[43ma\u001b[49m\u001b[38;5;241;43m.\u001b[39;49m\u001b[43misnan\u001b[49m()\n",
      "\u001b[0;31mAttributeError\u001b[0m: 'numpy.ndarray' object has no attribute 'isnan'"
     ]
    }
   ],
   "source": [
    "a.isnan()"
   ]
  },
  {
   "cell_type": "code",
   "execution_count": 49,
   "id": "ee29615b",
   "metadata": {},
   "outputs": [
    {
     "data": {
      "text/plain": [
       "2"
      ]
     },
     "execution_count": 49,
     "metadata": {},
     "output_type": "execute_result"
    }
   ],
   "source": [
    "np.isnan(a).sum()"
   ]
  },
  {
   "cell_type": "code",
   "execution_count": 50,
   "id": "b2c4706b",
   "metadata": {},
   "outputs": [
    {
     "data": {
      "text/plain": [
       "7"
      ]
     },
     "execution_count": 50,
     "metadata": {},
     "output_type": "execute_result"
    }
   ],
   "source": [
    "np.count_nonzero(a)"
   ]
  },
  {
   "cell_type": "code",
   "execution_count": 51,
   "id": "fbd621a2",
   "metadata": {},
   "outputs": [
    {
     "data": {
      "text/plain": [
       "array([10., 20., 30., nan, nan, 50., 60.])"
      ]
     },
     "execution_count": 51,
     "metadata": {},
     "output_type": "execute_result"
    }
   ],
   "source": [
    "a"
   ]
  },
  {
   "cell_type": "code",
   "execution_count": 54,
   "id": "d2f2d4cc",
   "metadata": {},
   "outputs": [],
   "source": [
    "# another technique: replace nan with something\n",
    "\n",
    "a[np.isnan(a)] = 999"
   ]
  },
  {
   "cell_type": "code",
   "execution_count": 55,
   "id": "c252f092",
   "metadata": {},
   "outputs": [
    {
     "data": {
      "text/plain": [
       "array([ 10.,  20.,  30., 999., 999.,  50.,  60.])"
      ]
     },
     "execution_count": 55,
     "metadata": {},
     "output_type": "execute_result"
    }
   ],
   "source": [
    "a"
   ]
  },
  {
   "cell_type": "code",
   "execution_count": 57,
   "id": "52a404ae",
   "metadata": {},
   "outputs": [],
   "source": [
    "# similiar: replace nan with the mean\n",
    "\n",
    "a = np.array([10., 20., 30., np.nan, np.nan, 50., 60.])"
   ]
  },
  {
   "cell_type": "markdown",
   "id": "33f6c1c2",
   "metadata": {},
   "source": [
    "# Exercise: Working with `nan`\n",
    "\n",
    "1. Define a NumPy array with 20 integers between 0-1,000.\n",
    "2. Change all even numbers to `nan`.\n",
    "3. Calculate the mean of the numbers that remained.\n",
    "4. Replace all `nan` values with the non-`nan` mean."
   ]
  },
  {
   "cell_type": "code",
   "execution_count": 58,
   "id": "a0597e75",
   "metadata": {},
   "outputs": [
    {
     "data": {
      "text/plain": [
       "array([684, 559, 629, 192, 835, 763, 707, 359,   9, 723, 277, 754, 804,\n",
       "       599,  70, 472, 600, 396, 314, 705])"
      ]
     },
     "execution_count": 58,
     "metadata": {},
     "output_type": "execute_result"
    }
   ],
   "source": [
    "np.random.seed(0)\n",
    "a = np.random.randint(0, 1000, 20)\n",
    "a"
   ]
  },
  {
   "cell_type": "code",
   "execution_count": 62,
   "id": "6b5d9aa2",
   "metadata": {},
   "outputs": [
    {
     "data": {
      "text/plain": [
       "array([684., 559., 629., 192., 835., 763., 707., 359.,   9., 723., 277.,\n",
       "       754., 804., 599.,  70., 472., 600., 396., 314., 705.])"
      ]
     },
     "execution_count": 62,
     "metadata": {},
     "output_type": "execute_result"
    }
   ],
   "source": [
    "a = a.astype(np.float64)\n",
    "a"
   ]
  },
  {
   "cell_type": "code",
   "execution_count": 63,
   "id": "f3270411",
   "metadata": {},
   "outputs": [],
   "source": [
    "# find the even numbers\n",
    "a[a % 2 == 0] = np.nan"
   ]
  },
  {
   "cell_type": "code",
   "execution_count": 64,
   "id": "a589fe75",
   "metadata": {},
   "outputs": [
    {
     "data": {
      "text/plain": [
       "array([ nan, 559., 629.,  nan, 835., 763., 707., 359.,   9., 723., 277.,\n",
       "        nan,  nan, 599.,  nan,  nan,  nan,  nan,  nan, 705.])"
      ]
     },
     "execution_count": 64,
     "metadata": {},
     "output_type": "execute_result"
    }
   ],
   "source": [
    "a"
   ]
  },
  {
   "cell_type": "code",
   "execution_count": 70,
   "id": "38a6e6b6",
   "metadata": {},
   "outputs": [],
   "source": [
    "# find the mean of these numbers, and assign to the nans\n",
    "\n",
    "a[np.isnan(a)] = a[~np.isnan(a)].mean()"
   ]
  },
  {
   "cell_type": "code",
   "execution_count": 71,
   "id": "0c799dec",
   "metadata": {},
   "outputs": [
    {
     "data": {
      "text/plain": [
       "array([560.45454545, 559.        , 629.        , 560.45454545,\n",
       "       835.        , 763.        , 707.        , 359.        ,\n",
       "         9.        , 723.        , 277.        , 560.45454545,\n",
       "       560.45454545, 599.        , 560.45454545, 560.45454545,\n",
       "       560.45454545, 560.45454545, 560.45454545, 705.        ])"
      ]
     },
     "execution_count": 71,
     "metadata": {},
     "output_type": "execute_result"
    }
   ],
   "source": [
    "a"
   ]
  },
  {
   "cell_type": "code",
   "execution_count": 73,
   "id": "1df96d58",
   "metadata": {},
   "outputs": [
    {
     "data": {
      "text/plain": [
       "560.4545454545455"
      ]
     },
     "execution_count": 73,
     "metadata": {},
     "output_type": "execute_result"
    }
   ],
   "source": [
    "np.nanmean(a)"
   ]
  },
  {
   "cell_type": "code",
   "execution_count": 75,
   "id": "35ecbc49",
   "metadata": {},
   "outputs": [
    {
     "data": {
      "text/plain": [
       "array([10., 20., 30., nan, 40., nan])"
      ]
     },
     "execution_count": 75,
     "metadata": {},
     "output_type": "execute_result"
    }
   ],
   "source": [
    "a = np.array([10, 20, 30, np.nan, 40, np.nan])\n",
    "a"
   ]
  },
  {
   "cell_type": "code",
   "execution_count": 76,
   "id": "bdefc1a2",
   "metadata": {},
   "outputs": [
    {
     "data": {
      "text/plain": [
       "array([10., 20., 30.,  0., 40.,  0.])"
      ]
     },
     "execution_count": 76,
     "metadata": {},
     "output_type": "execute_result"
    }
   ],
   "source": [
    "np.nan_to_num(a)"
   ]
  },
  {
   "cell_type": "code",
   "execution_count": 77,
   "id": "0b132953",
   "metadata": {},
   "outputs": [
    {
     "data": {
      "text/plain": [
       "array([ 10.,  20.,  30., 999.,  40., 999.])"
      ]
     },
     "execution_count": 77,
     "metadata": {},
     "output_type": "execute_result"
    }
   ],
   "source": [
    "np.nan_to_num(a, nan=999)"
   ]
  },
  {
   "cell_type": "code",
   "execution_count": 78,
   "id": "90d20f20",
   "metadata": {},
   "outputs": [],
   "source": [
    "np.nan_to_num?"
   ]
  },
  {
   "cell_type": "code",
   "execution_count": 80,
   "id": "c767fc58",
   "metadata": {},
   "outputs": [
    {
     "data": {
      "text/plain": [
       "dtype('float64')"
      ]
     },
     "execution_count": 80,
     "metadata": {},
     "output_type": "execute_result"
    }
   ],
   "source": [
    "a.astype(float).dtype"
   ]
  },
  {
   "cell_type": "code",
   "execution_count": 81,
   "id": "380ac70a",
   "metadata": {},
   "outputs": [
    {
     "name": "stderr",
     "output_type": "stream",
     "text": [
      "/var/folders/d9/v8tsklln4477fll05wkgcpth0000gn/T/ipykernel_60061/911352652.py:1: RuntimeWarning: invalid value encountered in cast\n",
      "  a.astype(int).dtype\n"
     ]
    },
    {
     "data": {
      "text/plain": [
       "dtype('int64')"
      ]
     },
     "execution_count": 81,
     "metadata": {},
     "output_type": "execute_result"
    }
   ],
   "source": [
    "a.astype(int).dtype"
   ]
  },
  {
   "cell_type": "code",
   "execution_count": 82,
   "id": "17a4fde0",
   "metadata": {},
   "outputs": [
    {
     "data": {
      "text/plain": [
       "array([10., 20., 30., nan, 40., nan])"
      ]
     },
     "execution_count": 82,
     "metadata": {},
     "output_type": "execute_result"
    }
   ],
   "source": [
    "a"
   ]
  },
  {
   "cell_type": "code",
   "execution_count": 83,
   "id": "f9fea19f",
   "metadata": {},
   "outputs": [
    {
     "data": {
      "text/plain": [
       "array([10., 20., 30., nan, 40., nan])"
      ]
     },
     "execution_count": 83,
     "metadata": {},
     "output_type": "execute_result"
    }
   ],
   "source": [
    "a.astype('float64')"
   ]
  },
  {
   "cell_type": "markdown",
   "id": "d51fbe69",
   "metadata": {},
   "source": [
    "# 2D arrays\n",
    "\n",
    "NumPy arrays are actually \"ndarray\" -- n-dimensional arrays. \n",
    "\n",
    "I can use a list of lists to create a 2D array."
   ]
  },
  {
   "cell_type": "code",
   "execution_count": 85,
   "id": "16f9fc65",
   "metadata": {},
   "outputs": [
    {
     "data": {
      "text/plain": [
       "array([[ 10,  20,  30,  40],\n",
       "       [ 50,  60,  70,  80],\n",
       "       [ 90, 100, 110, 120]])"
      ]
     },
     "execution_count": 85,
     "metadata": {},
     "output_type": "execute_result"
    }
   ],
   "source": [
    "a = np.array([[10, 20, 30, 40],\n",
    "              [50, 60, 70, 80],\n",
    "             [90, 100, 110, 120]])\n",
    "a"
   ]
  },
  {
   "cell_type": "code",
   "execution_count": 86,
   "id": "a8511a9c",
   "metadata": {},
   "outputs": [
    {
     "data": {
      "text/plain": [
       "array([10, 20, 30, 40])"
      ]
     },
     "execution_count": 86,
     "metadata": {},
     "output_type": "execute_result"
    }
   ],
   "source": [
    "a[0] "
   ]
  },
  {
   "cell_type": "code",
   "execution_count": 87,
   "id": "04a8cd9e",
   "metadata": {},
   "outputs": [
    {
     "data": {
      "text/plain": [
       "array([15, 25, 35, 45])"
      ]
     },
     "execution_count": 87,
     "metadata": {},
     "output_type": "execute_result"
    }
   ],
   "source": [
    "a[0] + 5"
   ]
  },
  {
   "cell_type": "code",
   "execution_count": 88,
   "id": "0bc58055",
   "metadata": {},
   "outputs": [
    {
     "data": {
      "text/plain": [
       "array([[ 15,  25,  35,  45],\n",
       "       [ 55,  65,  75,  85],\n",
       "       [ 95, 105, 115, 125]])"
      ]
     },
     "execution_count": 88,
     "metadata": {},
     "output_type": "execute_result"
    }
   ],
   "source": [
    "# what happens with broadcasting on the whole 2D array?\n",
    "a + 5"
   ]
  },
  {
   "cell_type": "code",
   "execution_count": 89,
   "id": "4106c827",
   "metadata": {},
   "outputs": [
    {
     "data": {
      "text/plain": [
       "(3, 4)"
      ]
     },
     "execution_count": 89,
     "metadata": {},
     "output_type": "execute_result"
    }
   ],
   "source": [
    "a.shape"
   ]
  },
  {
   "cell_type": "code",
   "execution_count": 90,
   "id": "42ce05b6",
   "metadata": {},
   "outputs": [
    {
     "data": {
      "text/plain": [
       "array([[ 10,  20,  30,  40,  50,  60],\n",
       "       [ 70,  80,  90, 100, 110, 120]])"
      ]
     },
     "execution_count": 90,
     "metadata": {},
     "output_type": "execute_result"
    }
   ],
   "source": [
    "# how can I change the shape?\n",
    "# option 1: assign to .shape\n",
    "\n",
    "a.shape = (2, 6)\n",
    "a"
   ]
  },
  {
   "cell_type": "code",
   "execution_count": 91,
   "id": "dbbab03f",
   "metadata": {},
   "outputs": [],
   "source": [
    "a.shape = (12,)   # tuple with one element still needs ,"
   ]
  },
  {
   "cell_type": "code",
   "execution_count": 92,
   "id": "92b08838",
   "metadata": {},
   "outputs": [
    {
     "data": {
      "text/plain": [
       "array([ 10,  20,  30,  40,  50,  60,  70,  80,  90, 100, 110, 120])"
      ]
     },
     "execution_count": 92,
     "metadata": {},
     "output_type": "execute_result"
    }
   ],
   "source": [
    "a"
   ]
  },
  {
   "cell_type": "code",
   "execution_count": 93,
   "id": "869d822b",
   "metadata": {},
   "outputs": [
    {
     "data": {
      "text/plain": [
       "array([[ 10,  20,  30,  40],\n",
       "       [ 50,  60,  70,  80],\n",
       "       [ 90, 100, 110, 120]])"
      ]
     },
     "execution_count": 93,
     "metadata": {},
     "output_type": "execute_result"
    }
   ],
   "source": [
    "a.shape = (3, 4)\n",
    "a"
   ]
  },
  {
   "cell_type": "code",
   "execution_count": null,
   "id": "c8d8bb46",
   "metadata": {},
   "outputs": [],
   "source": []
  },
  {
   "cell_type": "code",
   "execution_count": 94,
   "id": "06d2ace6",
   "metadata": {},
   "outputs": [
    {
     "ename": "ValueError",
     "evalue": "cannot reshape array of size 12 into shape (3,5)",
     "output_type": "error",
     "traceback": [
      "\u001b[0;31m---------------------------------------------------------------------------\u001b[0m",
      "\u001b[0;31mValueError\u001b[0m                                Traceback (most recent call last)",
      "Cell \u001b[0;32mIn [94], line 1\u001b[0m\n\u001b[0;32m----> 1\u001b[0m \u001b[43ma\u001b[49m\u001b[38;5;241;43m.\u001b[39;49m\u001b[43mshape\u001b[49m \u001b[38;5;241m=\u001b[39m (\u001b[38;5;241m3\u001b[39m, \u001b[38;5;241m5\u001b[39m)\n",
      "\u001b[0;31mValueError\u001b[0m: cannot reshape array of size 12 into shape (3,5)"
     ]
    }
   ],
   "source": [
    "a.shape = (3, 5)"
   ]
  },
  {
   "cell_type": "code",
   "execution_count": 95,
   "id": "3544812b",
   "metadata": {},
   "outputs": [
    {
     "ename": "SyntaxError",
     "evalue": "invalid syntax (1867200925.py, line 1)",
     "output_type": "error",
     "traceback": [
      "\u001b[0;36m  Cell \u001b[0;32mIn [95], line 1\u001b[0;36m\u001b[0m\n\u001b[0;31m    a.shape = (3, :)\u001b[0m\n\u001b[0m                  ^\u001b[0m\n\u001b[0;31mSyntaxError\u001b[0m\u001b[0;31m:\u001b[0m invalid syntax\n"
     ]
    }
   ],
   "source": [
    "a.shape = (3, :)"
   ]
  },
  {
   "cell_type": "code",
   "execution_count": 96,
   "id": "91ccac37",
   "metadata": {},
   "outputs": [
    {
     "data": {
      "text/plain": [
       "array([[ 10,  20,  30,  40],\n",
       "       [ 50,  60,  70,  80],\n",
       "       [ 90, 100, 110, 120]])"
      ]
     },
     "execution_count": 96,
     "metadata": {},
     "output_type": "execute_result"
    }
   ],
   "source": [
    "# option 2: use the \"reshape\" method\n",
    "\n",
    "# \n",
    "a.reshape(3, 4)"
   ]
  },
  {
   "cell_type": "code",
   "execution_count": 98,
   "id": "277dd4ce",
   "metadata": {},
   "outputs": [
    {
     "ename": "SyntaxError",
     "evalue": "invalid syntax (1741208929.py, line 1)",
     "output_type": "error",
     "traceback": [
      "\u001b[0;36m  Cell \u001b[0;32mIn [98], line 1\u001b[0;36m\u001b[0m\n\u001b[0;31m    a.reshape(3, :)\u001b[0m\n\u001b[0m                 ^\u001b[0m\n\u001b[0;31mSyntaxError\u001b[0m\u001b[0;31m:\u001b[0m invalid syntax\n"
     ]
    }
   ],
   "source": [
    "a.reshape(3, :)"
   ]
  },
  {
   "cell_type": "code",
   "execution_count": 100,
   "id": "9f4f48c6",
   "metadata": {},
   "outputs": [
    {
     "data": {
      "text/plain": [
       "array([[115, 976, 755, 709],\n",
       "       [847, 431, 448, 850],\n",
       "       [ 99, 984, 177, 755]])"
      ]
     },
     "execution_count": 100,
     "metadata": {},
     "output_type": "execute_result"
    }
   ],
   "source": [
    "# get random numbers\n",
    "\n",
    "np.random.randint(0, 1000, 12).reshape(3, 4)"
   ]
  },
  {
   "cell_type": "code",
   "execution_count": 101,
   "id": "1c523e04",
   "metadata": {},
   "outputs": [
    {
     "data": {
      "text/plain": [
       "array([[797, 659, 147, 910],\n",
       "       [423, 288, 961, 265],\n",
       "       [697, 639, 544, 543]])"
      ]
     },
     "execution_count": 101,
     "metadata": {},
     "output_type": "execute_result"
    }
   ],
   "source": [
    "# even better!\n",
    "np.random.randint(0, 1000, [3,4])"
   ]
  },
  {
   "cell_type": "code",
   "execution_count": 102,
   "id": "ef695cfd",
   "metadata": {},
   "outputs": [
    {
     "data": {
      "text/plain": [
       "array([[684, 559, 629, 192, 835, 763],\n",
       "       [707, 359,   9, 723, 277, 754],\n",
       "       [804, 599,  70, 472, 600, 396],\n",
       "       [314, 705, 486, 551,  87, 174],\n",
       "       [600, 849, 677, 537, 845,  72]])"
      ]
     },
     "execution_count": 102,
     "metadata": {},
     "output_type": "execute_result"
    }
   ],
   "source": [
    "np.random.seed(0)\n",
    "a = np.random.randint(0, 1000, [5, 6])\n",
    "a"
   ]
  },
  {
   "cell_type": "code",
   "execution_count": 103,
   "id": "3f72064c",
   "metadata": {},
   "outputs": [
    {
     "data": {
      "text/plain": [
       "array([707, 359,   9, 723, 277, 754])"
      ]
     },
     "execution_count": 103,
     "metadata": {},
     "output_type": "execute_result"
    }
   ],
   "source": [
    "a[1]"
   ]
  },
  {
   "cell_type": "code",
   "execution_count": 104,
   "id": "a487c907",
   "metadata": {},
   "outputs": [
    {
     "data": {
      "text/plain": [
       "array([314, 705, 486, 551,  87, 174])"
      ]
     },
     "execution_count": 104,
     "metadata": {},
     "output_type": "execute_result"
    }
   ],
   "source": [
    "a[3]"
   ]
  },
  {
   "cell_type": "code",
   "execution_count": 105,
   "id": "b3d00849",
   "metadata": {},
   "outputs": [
    {
     "data": {
      "text/plain": [
       "array([[707, 359,   9, 723, 277, 754],\n",
       "       [314, 705, 486, 551,  87, 174]])"
      ]
     },
     "execution_count": 105,
     "metadata": {},
     "output_type": "execute_result"
    }
   ],
   "source": [
    "# what if I want both index 1 and 3?\n",
    "# fancy indexing!\n",
    "a[ [1,3] ]"
   ]
  },
  {
   "cell_type": "code",
   "execution_count": 106,
   "id": "f3d1a403",
   "metadata": {},
   "outputs": [
    {
     "data": {
      "text/plain": [
       "array([[707, 359,   9, 723, 277, 754],\n",
       "       [804, 599,  70, 472, 600, 396]])"
      ]
     },
     "execution_count": 106,
     "metadata": {},
     "output_type": "execute_result"
    }
   ],
   "source": [
    "# using a slice is a bit different...\n",
    "a[1:3]   # from 1, up to and not including 3"
   ]
  },
  {
   "cell_type": "code",
   "execution_count": 107,
   "id": "c7bf2cb6",
   "metadata": {},
   "outputs": [
    {
     "data": {
      "text/plain": [
       "array([[707, 359,   9, 723, 277, 754],\n",
       "       [314, 705, 486, 551,  87, 174]])"
      ]
     },
     "execution_count": 107,
     "metadata": {},
     "output_type": "execute_result"
    }
   ],
   "source": [
    "a[1:5:2]"
   ]
  },
  {
   "cell_type": "code",
   "execution_count": 108,
   "id": "920861d0",
   "metadata": {},
   "outputs": [
    {
     "data": {
      "text/plain": [
       "array([[684, 559, 629, 192, 835, 763],\n",
       "       [707, 359,   9, 723, 277, 754],\n",
       "       [804, 599,  70, 472, 600, 396],\n",
       "       [314, 705, 486, 551,  87, 174],\n",
       "       [600, 849, 677, 537, 845,  72]])"
      ]
     },
     "execution_count": 108,
     "metadata": {},
     "output_type": "execute_result"
    }
   ],
   "source": [
    "a"
   ]
  },
  {
   "cell_type": "code",
   "execution_count": 110,
   "id": "07172b56",
   "metadata": {},
   "outputs": [
    {
     "data": {
      "text/plain": [
       "600"
      ]
     },
     "execution_count": 110,
     "metadata": {},
     "output_type": "execute_result"
    }
   ],
   "source": [
    "# what if I want from row index 2, and column index 4\n",
    "\n",
    "a[2][4]"
   ]
  },
  {
   "cell_type": "code",
   "execution_count": 113,
   "id": "a21e32dd",
   "metadata": {},
   "outputs": [
    {
     "data": {
      "text/plain": [
       "600"
      ]
     },
     "execution_count": 113,
     "metadata": {},
     "output_type": "execute_result"
    }
   ],
   "source": [
    "# better!\n",
    "a[2,4]   # I'm really passing a[(2,4)]"
   ]
  },
  {
   "cell_type": "code",
   "execution_count": 114,
   "id": "628431aa",
   "metadata": {},
   "outputs": [
    {
     "data": {
      "text/plain": [
       "array([192, 723, 472, 551, 537])"
      ]
     },
     "execution_count": 114,
     "metadata": {},
     "output_type": "execute_result"
    }
   ],
   "source": [
    "# what if I want a column?\n",
    "# we want column index 3\n",
    "\n",
    "a[:, 3]"
   ]
  },
  {
   "cell_type": "code",
   "execution_count": 115,
   "id": "611cfda7",
   "metadata": {},
   "outputs": [
    {
     "data": {
      "text/plain": [
       "array([[684, 559, 629, 192, 835, 763],\n",
       "       [707, 359,   9, 723, 277, 754],\n",
       "       [804, 599,  70, 472, 600, 396],\n",
       "       [314, 705, 486, 551,  87, 174],\n",
       "       [600, 849, 677, 537, 845,  72]])"
      ]
     },
     "execution_count": 115,
     "metadata": {},
     "output_type": "execute_result"
    }
   ],
   "source": [
    "a"
   ]
  },
  {
   "cell_type": "code",
   "execution_count": 116,
   "id": "9b4789e0",
   "metadata": {},
   "outputs": [
    {
     "data": {
      "text/plain": [
       "array([472, 551])"
      ]
     },
     "execution_count": 116,
     "metadata": {},
     "output_type": "execute_result"
    }
   ],
   "source": [
    "# rows: from 2, until (not including) 4\n",
    "# columns: 3\n",
    "\n",
    "a[2:4, 3]"
   ]
  },
  {
   "cell_type": "code",
   "execution_count": 117,
   "id": "9f013035",
   "metadata": {},
   "outputs": [
    {
     "data": {
      "text/plain": [
       "array([[559, 629, 192, 835],\n",
       "       [359,   9, 723, 277],\n",
       "       [599,  70, 472, 600],\n",
       "       [705, 486, 551,  87],\n",
       "       [849, 677, 537, 845]])"
      ]
     },
     "execution_count": 117,
     "metadata": {},
     "output_type": "execute_result"
    }
   ],
   "source": [
    "# we can slice the columns, too!\n",
    "# rows: all\n",
    "# columns: 1-4\n",
    "a[:, 1:5]"
   ]
  },
  {
   "cell_type": "code",
   "execution_count": 118,
   "id": "3333afd8",
   "metadata": {},
   "outputs": [
    {
     "data": {
      "text/plain": [
       "array([723, 472])"
      ]
     },
     "execution_count": 118,
     "metadata": {},
     "output_type": "execute_result"
    }
   ],
   "source": [
    "# we can also use lists for fancy indexing!\n",
    "# rows: 1,2\n",
    "# columns: 3\n",
    "a[[1,2], 3]"
   ]
  },
  {
   "cell_type": "code",
   "execution_count": 119,
   "id": "5f880abd",
   "metadata": {},
   "outputs": [
    {
     "data": {
      "text/plain": [
       "array([486,  87])"
      ]
     },
     "execution_count": 119,
     "metadata": {},
     "output_type": "execute_result"
    }
   ],
   "source": [
    "# rows: 3\n",
    "# columns: 2, 4\n",
    "\n",
    "a[3, [2,4]]"
   ]
  },
  {
   "cell_type": "code",
   "execution_count": 121,
   "id": "188f0b1a",
   "metadata": {},
   "outputs": [
    {
     "data": {
      "text/plain": [
       "array([723, 600])"
      ]
     },
     "execution_count": 121,
     "metadata": {},
     "output_type": "execute_result"
    }
   ],
   "source": [
    "# check this out...\n",
    "# if you use lists for both, then it creates coordinates\n",
    "a[[1,2], [3,4]]    # a[1,3] and a[2,4]"
   ]
  },
  {
   "cell_type": "code",
   "execution_count": 122,
   "id": "4a08974a",
   "metadata": {},
   "outputs": [
    {
     "data": {
      "text/plain": [
       "array([[723, 277],\n",
       "       [472, 600]])"
      ]
     },
     "execution_count": 122,
     "metadata": {},
     "output_type": "execute_result"
    }
   ],
   "source": [
    "a[1:3, 3:5]"
   ]
  },
  {
   "cell_type": "code",
   "execution_count": 123,
   "id": "e581c9f4",
   "metadata": {},
   "outputs": [
    {
     "data": {
      "text/plain": [
       "array([10, 20, 30, 40, 50])"
      ]
     },
     "execution_count": 123,
     "metadata": {},
     "output_type": "execute_result"
    }
   ],
   "source": [
    "a = np.array([10, 20, 30, 40, 50])\n",
    "a"
   ]
  },
  {
   "cell_type": "code",
   "execution_count": 124,
   "id": "541cbdba",
   "metadata": {},
   "outputs": [
    {
     "data": {
      "text/plain": [
       "(5,)"
      ]
     },
     "execution_count": 124,
     "metadata": {},
     "output_type": "execute_result"
    }
   ],
   "source": [
    "a.shape"
   ]
  },
  {
   "cell_type": "code",
   "execution_count": 126,
   "id": "c86acd07",
   "metadata": {},
   "outputs": [
    {
     "data": {
      "text/plain": [
       "(1, 5)"
      ]
     },
     "execution_count": 126,
     "metadata": {},
     "output_type": "execute_result"
    }
   ],
   "source": [
    "a = a.reshape(1,5)\n",
    "a.shape"
   ]
  },
  {
   "cell_type": "code",
   "execution_count": 127,
   "id": "ea233108",
   "metadata": {},
   "outputs": [
    {
     "data": {
      "text/plain": [
       "array([[10, 20, 30, 40, 50]])"
      ]
     },
     "execution_count": 127,
     "metadata": {},
     "output_type": "execute_result"
    }
   ],
   "source": [
    "a"
   ]
  },
  {
   "cell_type": "code",
   "execution_count": 128,
   "id": "c88d40d3",
   "metadata": {},
   "outputs": [
    {
     "data": {
      "text/plain": [
       "array([[777, 916, 115, 976],\n",
       "       [755, 709, 847, 431],\n",
       "       [448, 850,  99, 984]])"
      ]
     },
     "execution_count": 128,
     "metadata": {},
     "output_type": "execute_result"
    }
   ],
   "source": [
    "a = np.random.randint(0, 1000, [3,4])\n",
    "a"
   ]
  },
  {
   "cell_type": "code",
   "execution_count": 129,
   "id": "2781dd03",
   "metadata": {},
   "outputs": [
    {
     "data": {
      "text/plain": [
       "7907"
      ]
     },
     "execution_count": 129,
     "metadata": {},
     "output_type": "execute_result"
    }
   ],
   "source": [
    "a.sum()"
   ]
  },
  {
   "cell_type": "code",
   "execution_count": 130,
   "id": "c5f7678a",
   "metadata": {},
   "outputs": [
    {
     "data": {
      "text/plain": [
       "array([1980, 2475, 1061, 2391])"
      ]
     },
     "execution_count": 130,
     "metadata": {},
     "output_type": "execute_result"
    }
   ],
   "source": [
    "a.sum(axis=0)"
   ]
  },
  {
   "cell_type": "code",
   "execution_count": 131,
   "id": "8aea023e",
   "metadata": {},
   "outputs": [
    {
     "data": {
      "text/plain": [
       "array([2784, 2742, 2381])"
      ]
     },
     "execution_count": 131,
     "metadata": {},
     "output_type": "execute_result"
    }
   ],
   "source": [
    "a.sum(axis=1)"
   ]
  },
  {
   "cell_type": "markdown",
   "id": "49649de4",
   "metadata": {},
   "source": [
    "# Exercise: 2D NumPy\n",
    "\n",
    "1. Create a 2D array with numbers from 0-100, 45 random ints.\n",
    "2. "
   ]
  }
 ],
 "metadata": {
  "kernelspec": {
   "display_name": "Python 3 (ipykernel)",
   "language": "python",
   "name": "python3"
  },
  "language_info": {
   "codemirror_mode": {
    "name": "ipython",
    "version": 3
   },
   "file_extension": ".py",
   "mimetype": "text/x-python",
   "name": "python",
   "nbconvert_exporter": "python",
   "pygments_lexer": "ipython3",
   "version": "3.11.3"
  }
 },
 "nbformat": 4,
 "nbformat_minor": 5
}
