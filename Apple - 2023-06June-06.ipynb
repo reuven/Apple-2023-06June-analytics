{
 "cells": [
  {
   "cell_type": "markdown",
   "id": "c607c672",
   "metadata": {},
   "source": [
    "# Agenda\n",
    "\n",
    "1. `nan`\n",
    "2. 2D arrays and shapes\n",
    "3. sorting\n",
    "4. Pandas"
   ]
  },
  {
   "cell_type": "code",
   "execution_count": 2,
   "id": "7d5b5d35",
   "metadata": {},
   "outputs": [],
   "source": [
    "import numpy as np\n"
   ]
  },
  {
   "cell_type": "code",
   "execution_count": 3,
   "id": "5d5ac3c5",
   "metadata": {},
   "outputs": [
    {
     "data": {
      "text/plain": [
       "dtype('int64')"
      ]
     },
     "execution_count": 3,
     "metadata": {},
     "output_type": "execute_result"
    }
   ],
   "source": [
    "a = np.array([10, 20, 30, 40, 50])\n",
    "a.dtype"
   ]
  },
  {
   "cell_type": "code",
   "execution_count": 4,
   "id": "1ffdb673",
   "metadata": {},
   "outputs": [
    {
     "data": {
      "text/plain": [
       "array([10, 20, 12, 40, 50])"
      ]
     },
     "execution_count": 4,
     "metadata": {},
     "output_type": "execute_result"
    }
   ],
   "source": [
    "a[2] = 12.34\n",
    "a"
   ]
  },
  {
   "cell_type": "code",
   "execution_count": 5,
   "id": "e5cf005e",
   "metadata": {},
   "outputs": [
    {
     "data": {
      "text/plain": [
       "dtype('float64')"
      ]
     },
     "execution_count": 5,
     "metadata": {},
     "output_type": "execute_result"
    }
   ],
   "source": [
    "a = np.array([10, 20, 30, 40, 50], dtype=np.float64)\n",
    "a.dtype"
   ]
  },
  {
   "cell_type": "code",
   "execution_count": 6,
   "id": "98b715cb",
   "metadata": {},
   "outputs": [
    {
     "data": {
      "text/plain": [
       "array([10.  , 20.  , 12.34, 40.  , 50.  ])"
      ]
     },
     "execution_count": 6,
     "metadata": {},
     "output_type": "execute_result"
    }
   ],
   "source": [
    "a[2] = 12.34\n",
    "a"
   ]
  },
  {
   "cell_type": "code",
   "execution_count": 12,
   "id": "ad6085e2",
   "metadata": {},
   "outputs": [
    {
     "data": {
      "text/plain": [
       "dtype('int64')"
      ]
     },
     "execution_count": 12,
     "metadata": {},
     "output_type": "execute_result"
    }
   ],
   "source": [
    "a = np.array([10, 20, 30, 40, 50])\n",
    "a.dtype"
   ]
  },
  {
   "cell_type": "code",
   "execution_count": 13,
   "id": "520508fa",
   "metadata": {},
   "outputs": [],
   "source": [
    "a[2] = '123'"
   ]
  },
  {
   "cell_type": "code",
   "execution_count": 14,
   "id": "345fa4a9",
   "metadata": {
    "scrolled": true
   },
   "outputs": [
    {
     "data": {
      "text/plain": [
       "array([ 10,  20, 123,  40,  50])"
      ]
     },
     "execution_count": 14,
     "metadata": {},
     "output_type": "execute_result"
    }
   ],
   "source": [
    "a"
   ]
  },
  {
   "cell_type": "code",
   "execution_count": 15,
   "id": "24b11864",
   "metadata": {},
   "outputs": [
    {
     "data": {
      "text/plain": [
       "dtype('int64')"
      ]
     },
     "execution_count": 15,
     "metadata": {},
     "output_type": "execute_result"
    }
   ],
   "source": [
    "a.dtype"
   ]
  },
  {
   "cell_type": "code",
   "execution_count": 16,
   "id": "aaea7560",
   "metadata": {},
   "outputs": [
    {
     "data": {
      "text/plain": [
       "dtype('int64')"
      ]
     },
     "execution_count": 16,
     "metadata": {},
     "output_type": "execute_result"
    }
   ],
   "source": [
    "a[3] = 98.76\n",
    "a.dtype"
   ]
  },
  {
   "cell_type": "code",
   "execution_count": 10,
   "id": "15a4b500",
   "metadata": {},
   "outputs": [
    {
     "ename": "ValueError",
     "evalue": "invalid literal for int() with base 10: 'hello'",
     "output_type": "error",
     "traceback": [
      "\u001b[0;31m---------------------------------------------------------------------------\u001b[0m",
      "\u001b[0;31mValueError\u001b[0m                                Traceback (most recent call last)",
      "Cell \u001b[0;32mIn [10], line 1\u001b[0m\n\u001b[0;32m----> 1\u001b[0m \u001b[43ma\u001b[49m\u001b[43m[\u001b[49m\u001b[38;5;241;43m3\u001b[39;49m\u001b[43m]\u001b[49m \u001b[38;5;241m=\u001b[39m \u001b[38;5;124m'\u001b[39m\u001b[38;5;124mhello\u001b[39m\u001b[38;5;124m'\u001b[39m\n",
      "\u001b[0;31mValueError\u001b[0m: invalid literal for int() with base 10: 'hello'"
     ]
    }
   ],
   "source": [
    "a[3] = 'hello'"
   ]
  },
  {
   "cell_type": "code",
   "execution_count": 11,
   "id": "2449f6ff",
   "metadata": {},
   "outputs": [
    {
     "data": {
      "text/plain": [
       "dtype('int64')"
      ]
     },
     "execution_count": 11,
     "metadata": {},
     "output_type": "execute_result"
    }
   ],
   "source": [
    "a.dtype"
   ]
  },
  {
   "cell_type": "code",
   "execution_count": 17,
   "id": "e17a318c",
   "metadata": {},
   "outputs": [],
   "source": [
    "a = np.array('hello out there'.split())"
   ]
  },
  {
   "cell_type": "code",
   "execution_count": 18,
   "id": "af9f9946",
   "metadata": {},
   "outputs": [
    {
     "data": {
      "text/plain": [
       "array(['hello', 'out', 'there'], dtype='<U5')"
      ]
     },
     "execution_count": 18,
     "metadata": {},
     "output_type": "execute_result"
    }
   ],
   "source": [
    "a"
   ]
  },
  {
   "cell_type": "code",
   "execution_count": 19,
   "id": "645ec290",
   "metadata": {},
   "outputs": [
    {
     "data": {
      "text/plain": [
       "array(['xyz', 'out', 'there'], dtype='<U5')"
      ]
     },
     "execution_count": 19,
     "metadata": {},
     "output_type": "execute_result"
    }
   ],
   "source": [
    "a[0] = 'xyz'\n",
    "a"
   ]
  },
  {
   "cell_type": "code",
   "execution_count": 20,
   "id": "90653c52",
   "metadata": {},
   "outputs": [],
   "source": [
    "a[1] = 'hijklmnop'"
   ]
  },
  {
   "cell_type": "code",
   "execution_count": 21,
   "id": "84ff2b9c",
   "metadata": {},
   "outputs": [
    {
     "data": {
      "text/plain": [
       "array(['xyz', 'hijkl', 'there'], dtype='<U5')"
      ]
     },
     "execution_count": 21,
     "metadata": {},
     "output_type": "execute_result"
    }
   ],
   "source": [
    "a"
   ]
  },
  {
   "cell_type": "code",
   "execution_count": 23,
   "id": "3592ab13",
   "metadata": {},
   "outputs": [
    {
     "data": {
      "text/plain": [
       "array(['xyz', 'hijkl', 'there'], dtype='<U30')"
      ]
     },
     "execution_count": 23,
     "metadata": {},
     "output_type": "execute_result"
    }
   ],
   "source": [
    "a = a.astype('<U30')\n",
    "a"
   ]
  },
  {
   "cell_type": "code",
   "execution_count": 24,
   "id": "1d87c5a9",
   "metadata": {},
   "outputs": [
    {
     "data": {
      "text/plain": [
       "array(['xyz', 'rstuvwxyz', 'there'], dtype='<U30')"
      ]
     },
     "execution_count": 24,
     "metadata": {},
     "output_type": "execute_result"
    }
   ],
   "source": [
    "a[1] = 'rstuvwxyz'\n",
    "a"
   ]
  },
  {
   "cell_type": "code",
   "execution_count": 25,
   "id": "80d4956a",
   "metadata": {},
   "outputs": [],
   "source": [
    "a = np.array([{'a':10, 'b':20}])"
   ]
  },
  {
   "cell_type": "code",
   "execution_count": 26,
   "id": "a225e726",
   "metadata": {},
   "outputs": [
    {
     "data": {
      "text/plain": [
       "array([{'a': 10, 'b': 20}], dtype=object)"
      ]
     },
     "execution_count": 26,
     "metadata": {},
     "output_type": "execute_result"
    }
   ],
   "source": [
    "a"
   ]
  },
  {
   "cell_type": "code",
   "execution_count": 27,
   "id": "8bf01ef6",
   "metadata": {},
   "outputs": [
    {
     "data": {
      "text/plain": [
       "26.6"
      ]
     },
     "execution_count": 27,
     "metadata": {},
     "output_type": "execute_result"
    }
   ],
   "source": [
    "a = np.array([27, 26, 27, 26, 27])\n",
    "a.mean()"
   ]
  },
  {
   "cell_type": "code",
   "execution_count": 28,
   "id": "42353a3f",
   "metadata": {},
   "outputs": [
    {
     "data": {
      "text/plain": [
       "21.2"
      ]
     },
     "execution_count": 28,
     "metadata": {},
     "output_type": "execute_result"
    }
   ],
   "source": [
    "# what if we have a problem getting a reading?\n",
    "a = np.array([27, 26, 0, 26, 27])\n",
    "a.mean()"
   ]
  },
  {
   "cell_type": "markdown",
   "id": "ca6f295f",
   "metadata": {},
   "source": [
    "# `nan` -- not a number\n",
    "\n",
    "`nan` allows us to have numbers but know that they aren't accurate/real."
   ]
  },
  {
   "cell_type": "code",
   "execution_count": 29,
   "id": "5737e66f",
   "metadata": {},
   "outputs": [
    {
     "data": {
      "text/plain": [
       "nan"
      ]
     },
     "execution_count": 29,
     "metadata": {},
     "output_type": "execute_result"
    }
   ],
   "source": [
    "np.nan"
   ]
  },
  {
   "cell_type": "code",
   "execution_count": 30,
   "id": "f79b8879",
   "metadata": {},
   "outputs": [
    {
     "data": {
      "text/plain": [
       "float"
      ]
     },
     "execution_count": 30,
     "metadata": {},
     "output_type": "execute_result"
    }
   ],
   "source": [
    "type(np.nan)"
   ]
  },
  {
   "cell_type": "code",
   "execution_count": 31,
   "id": "2559dd64",
   "metadata": {},
   "outputs": [
    {
     "data": {
      "text/plain": [
       "False"
      ]
     },
     "execution_count": 31,
     "metadata": {},
     "output_type": "execute_result"
    }
   ],
   "source": [
    "np.nan == 0"
   ]
  },
  {
   "cell_type": "code",
   "execution_count": 32,
   "id": "796855cb",
   "metadata": {},
   "outputs": [
    {
     "data": {
      "text/plain": [
       "False"
      ]
     },
     "execution_count": 32,
     "metadata": {},
     "output_type": "execute_result"
    }
   ],
   "source": [
    "np.nan == np.nan"
   ]
  },
  {
   "cell_type": "code",
   "execution_count": 33,
   "id": "f4488f12",
   "metadata": {},
   "outputs": [
    {
     "data": {
      "text/plain": [
       "array([10., 20., 30., nan, 50., 60.])"
      ]
     },
     "execution_count": 33,
     "metadata": {},
     "output_type": "execute_result"
    }
   ],
   "source": [
    "a = np.array([10, 20, 30, np.nan, 50, 60])\n",
    "a"
   ]
  },
  {
   "cell_type": "code",
   "execution_count": 34,
   "id": "2adbdc85",
   "metadata": {},
   "outputs": [
    {
     "data": {
      "text/plain": [
       "dtype('float64')"
      ]
     },
     "execution_count": 34,
     "metadata": {},
     "output_type": "execute_result"
    }
   ],
   "source": [
    "a.dtype"
   ]
  },
  {
   "cell_type": "code",
   "execution_count": 35,
   "id": "b659e5f1",
   "metadata": {},
   "outputs": [
    {
     "data": {
      "text/plain": [
       "nan"
      ]
     },
     "execution_count": 35,
     "metadata": {},
     "output_type": "execute_result"
    }
   ],
   "source": [
    "a.mean()"
   ]
  },
  {
   "cell_type": "code",
   "execution_count": 37,
   "id": "f2cfd9de",
   "metadata": {},
   "outputs": [
    {
     "data": {
      "text/plain": [
       "nan"
      ]
     },
     "execution_count": 37,
     "metadata": {},
     "output_type": "execute_result"
    }
   ],
   "source": [
    "# option 1: find nan, remove it, and calculate with the rest\n",
    "# this doesn't work...\n",
    "\n",
    "a[a != np.nan].mean()"
   ]
  },
  {
   "cell_type": "code",
   "execution_count": 38,
   "id": "4f6a1120",
   "metadata": {},
   "outputs": [
    {
     "data": {
      "text/plain": [
       "array([False, False, False,  True, False, False])"
      ]
     },
     "execution_count": 38,
     "metadata": {},
     "output_type": "execute_result"
    }
   ],
   "source": [
    "# use np.isnan, which returns True for nan\n",
    "\n",
    "np.isnan(a)"
   ]
  },
  {
   "cell_type": "code",
   "execution_count": 41,
   "id": "b73b9b61",
   "metadata": {},
   "outputs": [
    {
     "data": {
      "text/plain": [
       "34.0"
      ]
     },
     "execution_count": 41,
     "metadata": {},
     "output_type": "execute_result"
    }
   ],
   "source": [
    "# use ~ to flip the logic\n",
    "a[~np.isnan(a)].mean()"
   ]
  },
  {
   "cell_type": "code",
   "execution_count": 42,
   "id": "4258b265",
   "metadata": {},
   "outputs": [
    {
     "name": "stderr",
     "output_type": "stream",
     "text": [
      "/var/folders/d9/v8tsklln4477fll05wkgcpth0000gn/T/ipykernel_60061/3888640601.py:2: RuntimeWarning: divide by zero encountered in divide\n",
      "  a/0\n"
     ]
    },
    {
     "data": {
      "text/plain": [
       "array([inf, inf, inf])"
      ]
     },
     "execution_count": 42,
     "metadata": {},
     "output_type": "execute_result"
    }
   ],
   "source": [
    "a = np.array([10, 20, 30])\n",
    "a/0"
   ]
  },
  {
   "cell_type": "code",
   "execution_count": 43,
   "id": "c78b9e19",
   "metadata": {},
   "outputs": [
    {
     "data": {
      "text/plain": [
       "float"
      ]
     },
     "execution_count": 43,
     "metadata": {},
     "output_type": "execute_result"
    }
   ],
   "source": [
    "type(np.inf)"
   ]
  },
  {
   "cell_type": "code",
   "execution_count": 44,
   "id": "91fd54aa",
   "metadata": {},
   "outputs": [
    {
     "data": {
      "text/plain": [
       "True"
      ]
     },
     "execution_count": 44,
     "metadata": {},
     "output_type": "execute_result"
    }
   ],
   "source": [
    "np.inf == np.inf"
   ]
  },
  {
   "cell_type": "code",
   "execution_count": 45,
   "id": "afb0acba",
   "metadata": {},
   "outputs": [
    {
     "data": {
      "text/plain": [
       "array([10, 20, 30])"
      ]
     },
     "execution_count": 45,
     "metadata": {},
     "output_type": "execute_result"
    }
   ],
   "source": [
    "a"
   ]
  },
  {
   "cell_type": "code",
   "execution_count": 46,
   "id": "11fbf588",
   "metadata": {},
   "outputs": [
    {
     "data": {
      "text/plain": [
       "array([10., 20., 30., nan, nan, 50., 60.])"
      ]
     },
     "execution_count": 46,
     "metadata": {},
     "output_type": "execute_result"
    }
   ],
   "source": [
    "a = np.array([10, 20, 30, np.nan, np.nan, 50, 60])\n",
    "a"
   ]
  },
  {
   "cell_type": "code",
   "execution_count": 47,
   "id": "0931c5f4",
   "metadata": {},
   "outputs": [
    {
     "data": {
      "text/plain": [
       "7"
      ]
     },
     "execution_count": 47,
     "metadata": {},
     "output_type": "execute_result"
    }
   ],
   "source": [
    "a.size"
   ]
  },
  {
   "cell_type": "code",
   "execution_count": 48,
   "id": "3e7a1d5c",
   "metadata": {},
   "outputs": [
    {
     "ename": "AttributeError",
     "evalue": "'numpy.ndarray' object has no attribute 'isnan'",
     "output_type": "error",
     "traceback": [
      "\u001b[0;31m---------------------------------------------------------------------------\u001b[0m",
      "\u001b[0;31mAttributeError\u001b[0m                            Traceback (most recent call last)",
      "Cell \u001b[0;32mIn [48], line 1\u001b[0m\n\u001b[0;32m----> 1\u001b[0m \u001b[43ma\u001b[49m\u001b[38;5;241;43m.\u001b[39;49m\u001b[43misnan\u001b[49m()\n",
      "\u001b[0;31mAttributeError\u001b[0m: 'numpy.ndarray' object has no attribute 'isnan'"
     ]
    }
   ],
   "source": [
    "a.isnan()"
   ]
  },
  {
   "cell_type": "code",
   "execution_count": 49,
   "id": "7aff3eac",
   "metadata": {},
   "outputs": [
    {
     "data": {
      "text/plain": [
       "2"
      ]
     },
     "execution_count": 49,
     "metadata": {},
     "output_type": "execute_result"
    }
   ],
   "source": [
    "np.isnan(a).sum()"
   ]
  },
  {
   "cell_type": "code",
   "execution_count": 50,
   "id": "88ee39b9",
   "metadata": {},
   "outputs": [
    {
     "data": {
      "text/plain": [
       "7"
      ]
     },
     "execution_count": 50,
     "metadata": {},
     "output_type": "execute_result"
    }
   ],
   "source": [
    "np.count_nonzero(a)"
   ]
  },
  {
   "cell_type": "code",
   "execution_count": 51,
   "id": "d7bcb1e3",
   "metadata": {},
   "outputs": [
    {
     "data": {
      "text/plain": [
       "array([10., 20., 30., nan, nan, 50., 60.])"
      ]
     },
     "execution_count": 51,
     "metadata": {},
     "output_type": "execute_result"
    }
   ],
   "source": [
    "a"
   ]
  },
  {
   "cell_type": "code",
   "execution_count": 54,
   "id": "6341435b",
   "metadata": {},
   "outputs": [],
   "source": [
    "# another technique: replace nan with something\n",
    "\n",
    "a[np.isnan(a)] = 999"
   ]
  },
  {
   "cell_type": "code",
   "execution_count": 55,
   "id": "9096220a",
   "metadata": {},
   "outputs": [
    {
     "data": {
      "text/plain": [
       "array([ 10.,  20.,  30., 999., 999.,  50.,  60.])"
      ]
     },
     "execution_count": 55,
     "metadata": {},
     "output_type": "execute_result"
    }
   ],
   "source": [
    "a"
   ]
  },
  {
   "cell_type": "code",
   "execution_count": 57,
   "id": "6279b484",
   "metadata": {},
   "outputs": [],
   "source": [
    "# similiar: replace nan with the mean\n",
    "\n",
    "a = np.array([10., 20., 30., np.nan, np.nan, 50., 60.])"
   ]
  },
  {
   "cell_type": "markdown",
   "id": "9706f6d0",
   "metadata": {},
   "source": [
    "# Exercise: Working with `nan`\n",
    "\n",
    "1. Define a NumPy array with 20 integers between 0-1,000.\n",
    "2. Change all even numbers to `nan`.\n",
    "3. Calculate the mean of the numbers that remained.\n",
    "4. Replace all `nan` values with the non-`nan` mean."
   ]
  },
  {
   "cell_type": "code",
   "execution_count": 58,
   "id": "68ce5ad1",
   "metadata": {},
   "outputs": [
    {
     "data": {
      "text/plain": [
       "array([684, 559, 629, 192, 835, 763, 707, 359,   9, 723, 277, 754, 804,\n",
       "       599,  70, 472, 600, 396, 314, 705])"
      ]
     },
     "execution_count": 58,
     "metadata": {},
     "output_type": "execute_result"
    }
   ],
   "source": [
    "np.random.seed(0)\n",
    "a = np.random.randint(0, 1000, 20)\n",
    "a"
   ]
  },
  {
   "cell_type": "code",
   "execution_count": 62,
   "id": "66151f84",
   "metadata": {},
   "outputs": [
    {
     "data": {
      "text/plain": [
       "array([684., 559., 629., 192., 835., 763., 707., 359.,   9., 723., 277.,\n",
       "       754., 804., 599.,  70., 472., 600., 396., 314., 705.])"
      ]
     },
     "execution_count": 62,
     "metadata": {},
     "output_type": "execute_result"
    }
   ],
   "source": [
    "a = a.astype(np.float64)\n",
    "a"
   ]
  },
  {
   "cell_type": "code",
   "execution_count": 63,
   "id": "3fdd35e0",
   "metadata": {},
   "outputs": [],
   "source": [
    "# find the even numbers\n",
    "a[a % 2 == 0] = np.nan"
   ]
  },
  {
   "cell_type": "code",
   "execution_count": 64,
   "id": "edc183f5",
   "metadata": {},
   "outputs": [
    {
     "data": {
      "text/plain": [
       "array([ nan, 559., 629.,  nan, 835., 763., 707., 359.,   9., 723., 277.,\n",
       "        nan,  nan, 599.,  nan,  nan,  nan,  nan,  nan, 705.])"
      ]
     },
     "execution_count": 64,
     "metadata": {},
     "output_type": "execute_result"
    }
   ],
   "source": [
    "a"
   ]
  },
  {
   "cell_type": "code",
   "execution_count": 70,
   "id": "4c6900e2",
   "metadata": {},
   "outputs": [],
   "source": [
    "# find the mean of these numbers, and assign to the nans\n",
    "\n",
    "a[np.isnan(a)] = a[~np.isnan(a)].mean()"
   ]
  },
  {
   "cell_type": "code",
   "execution_count": 71,
   "id": "4c3edc82",
   "metadata": {},
   "outputs": [
    {
     "data": {
      "text/plain": [
       "array([560.45454545, 559.        , 629.        , 560.45454545,\n",
       "       835.        , 763.        , 707.        , 359.        ,\n",
       "         9.        , 723.        , 277.        , 560.45454545,\n",
       "       560.45454545, 599.        , 560.45454545, 560.45454545,\n",
       "       560.45454545, 560.45454545, 560.45454545, 705.        ])"
      ]
     },
     "execution_count": 71,
     "metadata": {},
     "output_type": "execute_result"
    }
   ],
   "source": [
    "a"
   ]
  },
  {
   "cell_type": "code",
   "execution_count": 73,
   "id": "d0a2a0cc",
   "metadata": {},
   "outputs": [
    {
     "data": {
      "text/plain": [
       "560.4545454545455"
      ]
     },
     "execution_count": 73,
     "metadata": {},
     "output_type": "execute_result"
    }
   ],
   "source": [
    "np.nanmean(a)"
   ]
  },
  {
   "cell_type": "code",
   "execution_count": 75,
   "id": "c4d18289",
   "metadata": {},
   "outputs": [
    {
     "data": {
      "text/plain": [
       "array([10., 20., 30., nan, 40., nan])"
      ]
     },
     "execution_count": 75,
     "metadata": {},
     "output_type": "execute_result"
    }
   ],
   "source": [
    "a = np.array([10, 20, 30, np.nan, 40, np.nan])\n",
    "a"
   ]
  },
  {
   "cell_type": "code",
   "execution_count": 76,
   "id": "aba54295",
   "metadata": {},
   "outputs": [
    {
     "data": {
      "text/plain": [
       "array([10., 20., 30.,  0., 40.,  0.])"
      ]
     },
     "execution_count": 76,
     "metadata": {},
     "output_type": "execute_result"
    }
   ],
   "source": [
    "np.nan_to_num(a)"
   ]
  },
  {
   "cell_type": "code",
   "execution_count": 77,
   "id": "82a1a5f0",
   "metadata": {},
   "outputs": [
    {
     "data": {
      "text/plain": [
       "array([ 10.,  20.,  30., 999.,  40., 999.])"
      ]
     },
     "execution_count": 77,
     "metadata": {},
     "output_type": "execute_result"
    }
   ],
   "source": [
    "np.nan_to_num(a, nan=999)"
   ]
  },
  {
   "cell_type": "code",
   "execution_count": 78,
   "id": "a2121b67",
   "metadata": {},
   "outputs": [],
   "source": [
    "np.nan_to_num?"
   ]
  },
  {
   "cell_type": "code",
   "execution_count": 80,
   "id": "c5a04207",
   "metadata": {},
   "outputs": [
    {
     "data": {
      "text/plain": [
       "dtype('float64')"
      ]
     },
     "execution_count": 80,
     "metadata": {},
     "output_type": "execute_result"
    }
   ],
   "source": [
    "a.astype(float).dtype"
   ]
  },
  {
   "cell_type": "code",
   "execution_count": 81,
   "id": "c02406b8",
   "metadata": {},
   "outputs": [
    {
     "name": "stderr",
     "output_type": "stream",
     "text": [
      "/var/folders/d9/v8tsklln4477fll05wkgcpth0000gn/T/ipykernel_60061/911352652.py:1: RuntimeWarning: invalid value encountered in cast\n",
      "  a.astype(int).dtype\n"
     ]
    },
    {
     "data": {
      "text/plain": [
       "dtype('int64')"
      ]
     },
     "execution_count": 81,
     "metadata": {},
     "output_type": "execute_result"
    }
   ],
   "source": [
    "a.astype(int).dtype"
   ]
  },
  {
   "cell_type": "code",
   "execution_count": 82,
   "id": "7722525e",
   "metadata": {},
   "outputs": [
    {
     "data": {
      "text/plain": [
       "array([10., 20., 30., nan, 40., nan])"
      ]
     },
     "execution_count": 82,
     "metadata": {},
     "output_type": "execute_result"
    }
   ],
   "source": [
    "a"
   ]
  },
  {
   "cell_type": "code",
   "execution_count": 83,
   "id": "4e5acc60",
   "metadata": {},
   "outputs": [
    {
     "data": {
      "text/plain": [
       "array([10., 20., 30., nan, 40., nan])"
      ]
     },
     "execution_count": 83,
     "metadata": {},
     "output_type": "execute_result"
    }
   ],
   "source": [
    "a.astype('float64')"
   ]
  },
  {
   "cell_type": "markdown",
   "id": "af4e21ce",
   "metadata": {},
   "source": [
    "# 2D arrays\n",
    "\n",
    "NumPy arrays are actually \"ndarray\" -- n-dimensional arrays. \n",
    "\n",
    "I can use a list of lists to create a 2D array."
   ]
  },
  {
   "cell_type": "code",
   "execution_count": 85,
   "id": "19a808dd",
   "metadata": {},
   "outputs": [
    {
     "data": {
      "text/plain": [
       "array([[ 10,  20,  30,  40],\n",
       "       [ 50,  60,  70,  80],\n",
       "       [ 90, 100, 110, 120]])"
      ]
     },
     "execution_count": 85,
     "metadata": {},
     "output_type": "execute_result"
    }
   ],
   "source": [
    "a = np.array([[10, 20, 30, 40],\n",
    "              [50, 60, 70, 80],\n",
    "             [90, 100, 110, 120]])\n",
    "a"
   ]
  },
  {
   "cell_type": "code",
   "execution_count": 86,
   "id": "492665d3",
   "metadata": {},
   "outputs": [
    {
     "data": {
      "text/plain": [
       "array([10, 20, 30, 40])"
      ]
     },
     "execution_count": 86,
     "metadata": {},
     "output_type": "execute_result"
    }
   ],
   "source": [
    "a[0] "
   ]
  },
  {
   "cell_type": "code",
   "execution_count": 87,
   "id": "36d3f066",
   "metadata": {},
   "outputs": [
    {
     "data": {
      "text/plain": [
       "array([15, 25, 35, 45])"
      ]
     },
     "execution_count": 87,
     "metadata": {},
     "output_type": "execute_result"
    }
   ],
   "source": [
    "a[0] + 5"
   ]
  },
  {
   "cell_type": "code",
   "execution_count": 88,
   "id": "531473c1",
   "metadata": {},
   "outputs": [
    {
     "data": {
      "text/plain": [
       "array([[ 15,  25,  35,  45],\n",
       "       [ 55,  65,  75,  85],\n",
       "       [ 95, 105, 115, 125]])"
      ]
     },
     "execution_count": 88,
     "metadata": {},
     "output_type": "execute_result"
    }
   ],
   "source": [
    "# what happens with broadcasting on the whole 2D array?\n",
    "a + 5"
   ]
  },
  {
   "cell_type": "code",
   "execution_count": 89,
   "id": "fee532b1",
   "metadata": {},
   "outputs": [
    {
     "data": {
      "text/plain": [
       "(3, 4)"
      ]
     },
     "execution_count": 89,
     "metadata": {},
     "output_type": "execute_result"
    }
   ],
   "source": [
    "a.shape"
   ]
  },
  {
   "cell_type": "code",
   "execution_count": 90,
   "id": "aed577ea",
   "metadata": {},
   "outputs": [
    {
     "data": {
      "text/plain": [
       "array([[ 10,  20,  30,  40,  50,  60],\n",
       "       [ 70,  80,  90, 100, 110, 120]])"
      ]
     },
     "execution_count": 90,
     "metadata": {},
     "output_type": "execute_result"
    }
   ],
   "source": [
    "# how can I change the shape?\n",
    "# option 1: assign to .shape\n",
    "\n",
    "a.shape = (2, 6)\n",
    "a"
   ]
  },
  {
   "cell_type": "code",
   "execution_count": 91,
   "id": "0470bb4e",
   "metadata": {},
   "outputs": [],
   "source": [
    "a.shape = (12,)   # tuple with one element still needs ,"
   ]
  },
  {
   "cell_type": "code",
   "execution_count": 92,
   "id": "f52bd931",
   "metadata": {},
   "outputs": [
    {
     "data": {
      "text/plain": [
       "array([ 10,  20,  30,  40,  50,  60,  70,  80,  90, 100, 110, 120])"
      ]
     },
     "execution_count": 92,
     "metadata": {},
     "output_type": "execute_result"
    }
   ],
   "source": [
    "a"
   ]
  },
  {
   "cell_type": "code",
   "execution_count": 93,
   "id": "f8a012cb",
   "metadata": {},
   "outputs": [
    {
     "data": {
      "text/plain": [
       "array([[ 10,  20,  30,  40],\n",
       "       [ 50,  60,  70,  80],\n",
       "       [ 90, 100, 110, 120]])"
      ]
     },
     "execution_count": 93,
     "metadata": {},
     "output_type": "execute_result"
    }
   ],
   "source": [
    "a.shape = (3, 4)\n",
    "a"
   ]
  },
  {
   "cell_type": "code",
   "execution_count": null,
   "id": "dd9fa566",
   "metadata": {},
   "outputs": [],
   "source": []
  },
  {
   "cell_type": "code",
   "execution_count": 94,
   "id": "a44db7ad",
   "metadata": {},
   "outputs": [
    {
     "ename": "ValueError",
     "evalue": "cannot reshape array of size 12 into shape (3,5)",
     "output_type": "error",
     "traceback": [
      "\u001b[0;31m---------------------------------------------------------------------------\u001b[0m",
      "\u001b[0;31mValueError\u001b[0m                                Traceback (most recent call last)",
      "Cell \u001b[0;32mIn [94], line 1\u001b[0m\n\u001b[0;32m----> 1\u001b[0m \u001b[43ma\u001b[49m\u001b[38;5;241;43m.\u001b[39;49m\u001b[43mshape\u001b[49m \u001b[38;5;241m=\u001b[39m (\u001b[38;5;241m3\u001b[39m, \u001b[38;5;241m5\u001b[39m)\n",
      "\u001b[0;31mValueError\u001b[0m: cannot reshape array of size 12 into shape (3,5)"
     ]
    }
   ],
   "source": [
    "a.shape = (3, 5)"
   ]
  },
  {
   "cell_type": "code",
   "execution_count": 95,
   "id": "be1bdcc7",
   "metadata": {},
   "outputs": [
    {
     "ename": "SyntaxError",
     "evalue": "invalid syntax (1867200925.py, line 1)",
     "output_type": "error",
     "traceback": [
      "\u001b[0;36m  Cell \u001b[0;32mIn [95], line 1\u001b[0;36m\u001b[0m\n\u001b[0;31m    a.shape = (3, :)\u001b[0m\n\u001b[0m                  ^\u001b[0m\n\u001b[0;31mSyntaxError\u001b[0m\u001b[0;31m:\u001b[0m invalid syntax\n"
     ]
    }
   ],
   "source": [
    "a.shape = (3, :)"
   ]
  },
  {
   "cell_type": "code",
   "execution_count": 96,
   "id": "77ee9efb",
   "metadata": {},
   "outputs": [
    {
     "data": {
      "text/plain": [
       "array([[ 10,  20,  30,  40],\n",
       "       [ 50,  60,  70,  80],\n",
       "       [ 90, 100, 110, 120]])"
      ]
     },
     "execution_count": 96,
     "metadata": {},
     "output_type": "execute_result"
    }
   ],
   "source": [
    "# option 2: use the \"reshape\" method\n",
    "\n",
    "# \n",
    "a.reshape(3, 4)"
   ]
  },
  {
   "cell_type": "code",
   "execution_count": 98,
   "id": "7644a8d9",
   "metadata": {},
   "outputs": [
    {
     "ename": "SyntaxError",
     "evalue": "invalid syntax (1741208929.py, line 1)",
     "output_type": "error",
     "traceback": [
      "\u001b[0;36m  Cell \u001b[0;32mIn [98], line 1\u001b[0;36m\u001b[0m\n\u001b[0;31m    a.reshape(3, :)\u001b[0m\n\u001b[0m                 ^\u001b[0m\n\u001b[0;31mSyntaxError\u001b[0m\u001b[0;31m:\u001b[0m invalid syntax\n"
     ]
    }
   ],
   "source": [
    "a.reshape(3, :)"
   ]
  },
  {
   "cell_type": "code",
   "execution_count": 100,
   "id": "3dc1f5be",
   "metadata": {},
   "outputs": [
    {
     "data": {
      "text/plain": [
       "array([[115, 976, 755, 709],\n",
       "       [847, 431, 448, 850],\n",
       "       [ 99, 984, 177, 755]])"
      ]
     },
     "execution_count": 100,
     "metadata": {},
     "output_type": "execute_result"
    }
   ],
   "source": [
    "# get random numbers\n",
    "\n",
    "np.random.randint(0, 1000, 12).reshape(3, 4)"
   ]
  },
  {
   "cell_type": "code",
   "execution_count": 101,
   "id": "8743bd31",
   "metadata": {},
   "outputs": [
    {
     "data": {
      "text/plain": [
       "array([[797, 659, 147, 910],\n",
       "       [423, 288, 961, 265],\n",
       "       [697, 639, 544, 543]])"
      ]
     },
     "execution_count": 101,
     "metadata": {},
     "output_type": "execute_result"
    }
   ],
   "source": [
    "# even better!\n",
    "np.random.randint(0, 1000, [3,4])"
   ]
  },
  {
   "cell_type": "code",
   "execution_count": 102,
   "id": "20327961",
   "metadata": {},
   "outputs": [
    {
     "data": {
      "text/plain": [
       "array([[684, 559, 629, 192, 835, 763],\n",
       "       [707, 359,   9, 723, 277, 754],\n",
       "       [804, 599,  70, 472, 600, 396],\n",
       "       [314, 705, 486, 551,  87, 174],\n",
       "       [600, 849, 677, 537, 845,  72]])"
      ]
     },
     "execution_count": 102,
     "metadata": {},
     "output_type": "execute_result"
    }
   ],
   "source": [
    "np.random.seed(0)\n",
    "a = np.random.randint(0, 1000, [5, 6])\n",
    "a"
   ]
  },
  {
   "cell_type": "code",
   "execution_count": 103,
   "id": "6f401a20",
   "metadata": {},
   "outputs": [
    {
     "data": {
      "text/plain": [
       "array([707, 359,   9, 723, 277, 754])"
      ]
     },
     "execution_count": 103,
     "metadata": {},
     "output_type": "execute_result"
    }
   ],
   "source": [
    "a[1]"
   ]
  },
  {
   "cell_type": "code",
   "execution_count": 104,
   "id": "635c326c",
   "metadata": {},
   "outputs": [
    {
     "data": {
      "text/plain": [
       "array([314, 705, 486, 551,  87, 174])"
      ]
     },
     "execution_count": 104,
     "metadata": {},
     "output_type": "execute_result"
    }
   ],
   "source": [
    "a[3]"
   ]
  },
  {
   "cell_type": "code",
   "execution_count": 105,
   "id": "b7023cf2",
   "metadata": {},
   "outputs": [
    {
     "data": {
      "text/plain": [
       "array([[707, 359,   9, 723, 277, 754],\n",
       "       [314, 705, 486, 551,  87, 174]])"
      ]
     },
     "execution_count": 105,
     "metadata": {},
     "output_type": "execute_result"
    }
   ],
   "source": [
    "# what if I want both index 1 and 3?\n",
    "# fancy indexing!\n",
    "a[ [1,3] ]"
   ]
  },
  {
   "cell_type": "code",
   "execution_count": 106,
   "id": "79626b20",
   "metadata": {},
   "outputs": [
    {
     "data": {
      "text/plain": [
       "array([[707, 359,   9, 723, 277, 754],\n",
       "       [804, 599,  70, 472, 600, 396]])"
      ]
     },
     "execution_count": 106,
     "metadata": {},
     "output_type": "execute_result"
    }
   ],
   "source": [
    "# using a slice is a bit different...\n",
    "a[1:3]   # from 1, up to and not including 3"
   ]
  },
  {
   "cell_type": "code",
   "execution_count": 107,
   "id": "47af0a3e",
   "metadata": {},
   "outputs": [
    {
     "data": {
      "text/plain": [
       "array([[707, 359,   9, 723, 277, 754],\n",
       "       [314, 705, 486, 551,  87, 174]])"
      ]
     },
     "execution_count": 107,
     "metadata": {},
     "output_type": "execute_result"
    }
   ],
   "source": [
    "a[1:5:2]"
   ]
  },
  {
   "cell_type": "code",
   "execution_count": 108,
   "id": "9f842ad6",
   "metadata": {},
   "outputs": [
    {
     "data": {
      "text/plain": [
       "array([[684, 559, 629, 192, 835, 763],\n",
       "       [707, 359,   9, 723, 277, 754],\n",
       "       [804, 599,  70, 472, 600, 396],\n",
       "       [314, 705, 486, 551,  87, 174],\n",
       "       [600, 849, 677, 537, 845,  72]])"
      ]
     },
     "execution_count": 108,
     "metadata": {},
     "output_type": "execute_result"
    }
   ],
   "source": [
    "a"
   ]
  },
  {
   "cell_type": "code",
   "execution_count": 110,
   "id": "e9aac310",
   "metadata": {},
   "outputs": [
    {
     "data": {
      "text/plain": [
       "600"
      ]
     },
     "execution_count": 110,
     "metadata": {},
     "output_type": "execute_result"
    }
   ],
   "source": [
    "# what if I want from row index 2, and column index 4\n",
    "\n",
    "a[2][4]"
   ]
  },
  {
   "cell_type": "code",
   "execution_count": 113,
   "id": "8b1a6aad",
   "metadata": {},
   "outputs": [
    {
     "data": {
      "text/plain": [
       "600"
      ]
     },
     "execution_count": 113,
     "metadata": {},
     "output_type": "execute_result"
    }
   ],
   "source": [
    "# better!\n",
    "a[2,4]   # I'm really passing a[(2,4)]"
   ]
  },
  {
   "cell_type": "code",
   "execution_count": 114,
   "id": "3f1f1d1b",
   "metadata": {},
   "outputs": [
    {
     "data": {
      "text/plain": [
       "array([192, 723, 472, 551, 537])"
      ]
     },
     "execution_count": 114,
     "metadata": {},
     "output_type": "execute_result"
    }
   ],
   "source": [
    "# what if I want a column?\n",
    "# we want column index 3\n",
    "\n",
    "a[:, 3]"
   ]
  },
  {
   "cell_type": "code",
   "execution_count": 115,
   "id": "fd56e610",
   "metadata": {},
   "outputs": [
    {
     "data": {
      "text/plain": [
       "array([[684, 559, 629, 192, 835, 763],\n",
       "       [707, 359,   9, 723, 277, 754],\n",
       "       [804, 599,  70, 472, 600, 396],\n",
       "       [314, 705, 486, 551,  87, 174],\n",
       "       [600, 849, 677, 537, 845,  72]])"
      ]
     },
     "execution_count": 115,
     "metadata": {},
     "output_type": "execute_result"
    }
   ],
   "source": [
    "a"
   ]
  },
  {
   "cell_type": "code",
   "execution_count": 116,
   "id": "1ba7111e",
   "metadata": {},
   "outputs": [
    {
     "data": {
      "text/plain": [
       "array([472, 551])"
      ]
     },
     "execution_count": 116,
     "metadata": {},
     "output_type": "execute_result"
    }
   ],
   "source": [
    "# rows: from 2, until (not including) 4\n",
    "# columns: 3\n",
    "\n",
    "a[2:4, 3]"
   ]
  },
  {
   "cell_type": "code",
   "execution_count": 117,
   "id": "e62c51f7",
   "metadata": {},
   "outputs": [
    {
     "data": {
      "text/plain": [
       "array([[559, 629, 192, 835],\n",
       "       [359,   9, 723, 277],\n",
       "       [599,  70, 472, 600],\n",
       "       [705, 486, 551,  87],\n",
       "       [849, 677, 537, 845]])"
      ]
     },
     "execution_count": 117,
     "metadata": {},
     "output_type": "execute_result"
    }
   ],
   "source": [
    "# we can slice the columns, too!\n",
    "# rows: all\n",
    "# columns: 1-4\n",
    "a[:, 1:5]"
   ]
  },
  {
   "cell_type": "code",
   "execution_count": 118,
   "id": "8bde17a2",
   "metadata": {},
   "outputs": [
    {
     "data": {
      "text/plain": [
       "array([723, 472])"
      ]
     },
     "execution_count": 118,
     "metadata": {},
     "output_type": "execute_result"
    }
   ],
   "source": [
    "# we can also use lists for fancy indexing!\n",
    "# rows: 1,2\n",
    "# columns: 3\n",
    "a[[1,2], 3]"
   ]
  },
  {
   "cell_type": "code",
   "execution_count": 119,
   "id": "69476c4f",
   "metadata": {},
   "outputs": [
    {
     "data": {
      "text/plain": [
       "array([486,  87])"
      ]
     },
     "execution_count": 119,
     "metadata": {},
     "output_type": "execute_result"
    }
   ],
   "source": [
    "# rows: 3\n",
    "# columns: 2, 4\n",
    "\n",
    "a[3, [2,4]]"
   ]
  },
  {
   "cell_type": "code",
   "execution_count": 121,
   "id": "e3a5385a",
   "metadata": {},
   "outputs": [
    {
     "data": {
      "text/plain": [
       "array([723, 600])"
      ]
     },
     "execution_count": 121,
     "metadata": {},
     "output_type": "execute_result"
    }
   ],
   "source": [
    "# check this out...\n",
    "# if you use lists for both, then it creates coordinates\n",
    "a[[1,2], [3,4]]    # a[1,3] and a[2,4]"
   ]
  },
  {
   "cell_type": "code",
   "execution_count": 122,
   "id": "e10b216f",
   "metadata": {},
   "outputs": [
    {
     "data": {
      "text/plain": [
       "array([[723, 277],\n",
       "       [472, 600]])"
      ]
     },
     "execution_count": 122,
     "metadata": {},
     "output_type": "execute_result"
    }
   ],
   "source": [
    "a[1:3, 3:5]"
   ]
  },
  {
   "cell_type": "code",
   "execution_count": 123,
   "id": "f009fd27",
   "metadata": {},
   "outputs": [
    {
     "data": {
      "text/plain": [
       "array([10, 20, 30, 40, 50])"
      ]
     },
     "execution_count": 123,
     "metadata": {},
     "output_type": "execute_result"
    }
   ],
   "source": [
    "a = np.array([10, 20, 30, 40, 50])\n",
    "a"
   ]
  },
  {
   "cell_type": "code",
   "execution_count": 124,
   "id": "31ae61ed",
   "metadata": {},
   "outputs": [
    {
     "data": {
      "text/plain": [
       "(5,)"
      ]
     },
     "execution_count": 124,
     "metadata": {},
     "output_type": "execute_result"
    }
   ],
   "source": [
    "a.shape"
   ]
  },
  {
   "cell_type": "code",
   "execution_count": 126,
   "id": "b88ae28c",
   "metadata": {},
   "outputs": [
    {
     "data": {
      "text/plain": [
       "(1, 5)"
      ]
     },
     "execution_count": 126,
     "metadata": {},
     "output_type": "execute_result"
    }
   ],
   "source": [
    "a = a.reshape(1,5)\n",
    "a.shape"
   ]
  },
  {
   "cell_type": "code",
   "execution_count": 127,
   "id": "4acde94d",
   "metadata": {},
   "outputs": [
    {
     "data": {
      "text/plain": [
       "array([[10, 20, 30, 40, 50]])"
      ]
     },
     "execution_count": 127,
     "metadata": {},
     "output_type": "execute_result"
    }
   ],
   "source": [
    "a"
   ]
  },
  {
   "cell_type": "code",
   "execution_count": 128,
   "id": "92dee9ad",
   "metadata": {},
   "outputs": [
    {
     "data": {
      "text/plain": [
       "array([[777, 916, 115, 976],\n",
       "       [755, 709, 847, 431],\n",
       "       [448, 850,  99, 984]])"
      ]
     },
     "execution_count": 128,
     "metadata": {},
     "output_type": "execute_result"
    }
   ],
   "source": [
    "a = np.random.randint(0, 1000, [3,4])\n",
    "a"
   ]
  },
  {
   "cell_type": "code",
   "execution_count": 129,
   "id": "ec6af40b",
   "metadata": {},
   "outputs": [
    {
     "data": {
      "text/plain": [
       "7907"
      ]
     },
     "execution_count": 129,
     "metadata": {},
     "output_type": "execute_result"
    }
   ],
   "source": [
    "a.sum()"
   ]
  },
  {
   "cell_type": "code",
   "execution_count": 130,
   "id": "bb267364",
   "metadata": {},
   "outputs": [
    {
     "data": {
      "text/plain": [
       "array([1980, 2475, 1061, 2391])"
      ]
     },
     "execution_count": 130,
     "metadata": {},
     "output_type": "execute_result"
    }
   ],
   "source": [
    "a.sum(axis=0)"
   ]
  },
  {
   "cell_type": "code",
   "execution_count": 131,
   "id": "2f9653d7",
   "metadata": {},
   "outputs": [
    {
     "data": {
      "text/plain": [
       "array([2784, 2742, 2381])"
      ]
     },
     "execution_count": 131,
     "metadata": {},
     "output_type": "execute_result"
    }
   ],
   "source": [
    "a.sum(axis=1)"
   ]
  },
  {
   "cell_type": "markdown",
   "id": "f17e098a",
   "metadata": {},
   "source": [
    "# Exercise: 2D NumPy\n",
    "\n",
    "1. Create a 2D array with numbers from 0-100, 45 random ints, 5x9.\n",
    "2. Get all of the values from row index 2.\n",
    "3. Get all of the values from column index 3.\n",
    "4. Get all of the values from row indexes 1 and 4.\n",
    "5. Get all values from column indexes 2 and 5.\n",
    "6. Get the mean of even numbers in row 4.\n",
    "7. Get the mean of odd numbers in columns 1 and 3."
   ]
  },
  {
   "cell_type": "code",
   "execution_count": 132,
   "id": "85738d8a",
   "metadata": {},
   "outputs": [
    {
     "data": {
      "text/plain": [
       "array([[44, 47, 64, 67, 67,  9, 83, 21, 36],\n",
       "       [87, 70, 88, 88, 12, 58, 65, 39, 87],\n",
       "       [46, 88, 81, 37, 25, 77, 72,  9, 20],\n",
       "       [80, 69, 79, 47, 64, 82, 99, 88, 49],\n",
       "       [29, 19, 19, 14, 39, 32, 65,  9, 57]])"
      ]
     },
     "execution_count": 132,
     "metadata": {},
     "output_type": "execute_result"
    }
   ],
   "source": [
    "np.random.seed(0)\n",
    "\n",
    "a = np.random.randint(0, 100, [5,9])\n",
    "a"
   ]
  },
  {
   "cell_type": "code",
   "execution_count": 133,
   "id": "457abd51",
   "metadata": {},
   "outputs": [
    {
     "data": {
      "text/plain": [
       "array([46, 88, 81, 37, 25, 77, 72,  9, 20])"
      ]
     },
     "execution_count": 133,
     "metadata": {},
     "output_type": "execute_result"
    }
   ],
   "source": [
    "a[2]   # row index 2"
   ]
  },
  {
   "cell_type": "code",
   "execution_count": 134,
   "id": "da0832f2",
   "metadata": {},
   "outputs": [
    {
     "data": {
      "text/plain": [
       "array([67, 88, 37, 47, 14])"
      ]
     },
     "execution_count": 134,
     "metadata": {},
     "output_type": "execute_result"
    }
   ],
   "source": [
    "# column index 3\n",
    "a[:, 3]"
   ]
  },
  {
   "cell_type": "code",
   "execution_count": 135,
   "id": "5e51c678",
   "metadata": {},
   "outputs": [
    {
     "data": {
      "text/plain": [
       "array([[87, 70, 88, 88, 12, 58, 65, 39, 87],\n",
       "       [29, 19, 19, 14, 39, 32, 65,  9, 57]])"
      ]
     },
     "execution_count": 135,
     "metadata": {},
     "output_type": "execute_result"
    }
   ],
   "source": [
    "# rows 1 + 4\n",
    "\n",
    "a[ [1,4]  ]"
   ]
  },
  {
   "cell_type": "code",
   "execution_count": 137,
   "id": "d8efab62",
   "metadata": {},
   "outputs": [
    {
     "data": {
      "text/plain": [
       "array([[87, 70, 88, 88, 12, 58, 65, 39, 87],\n",
       "       [29, 19, 19, 14, 39, 32, 65,  9, 57]])"
      ]
     },
     "execution_count": 137,
     "metadata": {},
     "output_type": "execute_result"
    }
   ],
   "source": [
    "a[1::3]  # slice -- starting from 1, until the end, step size 3"
   ]
  },
  {
   "cell_type": "code",
   "execution_count": 138,
   "id": "f679c461",
   "metadata": {},
   "outputs": [
    {
     "data": {
      "text/plain": [
       "array([[64,  9],\n",
       "       [88, 58],\n",
       "       [81, 77],\n",
       "       [79, 82],\n",
       "       [19, 32]])"
      ]
     },
     "execution_count": 138,
     "metadata": {},
     "output_type": "execute_result"
    }
   ],
   "source": [
    "# columns 2 + 5\n",
    "\n",
    "a[:, [2,5]]"
   ]
  },
  {
   "cell_type": "code",
   "execution_count": 140,
   "id": "56523301",
   "metadata": {},
   "outputs": [
    {
     "data": {
      "text/plain": [
       "array([[64,  9],\n",
       "       [88, 58],\n",
       "       [81, 77],\n",
       "       [79, 82],\n",
       "       [19, 32]])"
      ]
     },
     "execution_count": 140,
     "metadata": {},
     "output_type": "execute_result"
    }
   ],
   "source": [
    "a[:, 2:6:3]"
   ]
  },
  {
   "cell_type": "code",
   "execution_count": 144,
   "id": "9cdc2bcb",
   "metadata": {},
   "outputs": [
    {
     "data": {
      "text/plain": [
       "23.0"
      ]
     },
     "execution_count": 144,
     "metadata": {},
     "output_type": "execute_result"
    }
   ],
   "source": [
    "# mean of even numbers in row index 4\n",
    "\n",
    "a[4][a[4] % 2 == 0].mean()"
   ]
  },
  {
   "cell_type": "code",
   "execution_count": 147,
   "id": "bacbdfd8",
   "metadata": {},
   "outputs": [
    {
     "data": {
      "text/plain": [
       "array([47, 67, 37, 69, 47, 19])"
      ]
     },
     "execution_count": 147,
     "metadata": {},
     "output_type": "execute_result"
    }
   ],
   "source": [
    "# mean of odd numbers in columns 1 + 3 (separately)\n",
    "\n",
    "a[:, [1,3]][a[:, [1,3]] % 2 == 1]"
   ]
  },
  {
   "cell_type": "code",
   "execution_count": 148,
   "id": "4df01b2c",
   "metadata": {},
   "outputs": [],
   "source": [
    "c = a[:, [1,3]]"
   ]
  },
  {
   "cell_type": "code",
   "execution_count": 149,
   "id": "94d6dc77",
   "metadata": {},
   "outputs": [
    {
     "data": {
      "text/plain": [
       "array([[47, 67],\n",
       "       [70, 88],\n",
       "       [88, 37],\n",
       "       [69, 47],\n",
       "       [19, 14]])"
      ]
     },
     "execution_count": 149,
     "metadata": {},
     "output_type": "execute_result"
    }
   ],
   "source": [
    "c"
   ]
  },
  {
   "cell_type": "code",
   "execution_count": 150,
   "id": "c71a2d8b",
   "metadata": {},
   "outputs": [
    {
     "data": {
      "text/plain": [
       "array([[44, 47, 64, 67, 67],\n",
       "       [ 9, 83, 21, 36, 87],\n",
       "       [70, 88, 88, 12, 58],\n",
       "       [65, 39, 87, 46, 88]])"
      ]
     },
     "execution_count": 150,
     "metadata": {},
     "output_type": "execute_result"
    }
   ],
   "source": [
    "np.random.seed(0)\n",
    "a = np.random.randint(0, 100, [4,5])\n",
    "a"
   ]
  },
  {
   "cell_type": "code",
   "execution_count": 151,
   "id": "c179544a",
   "metadata": {},
   "outputs": [
    {
     "data": {
      "text/plain": [
       "array([[44, 47, 64, 67, 67,  9, 83, 21, 36, 87],\n",
       "       [70, 88, 88, 12, 58, 65, 39, 87, 46, 88]])"
      ]
     },
     "execution_count": 151,
     "metadata": {},
     "output_type": "execute_result"
    }
   ],
   "source": [
    "b = a.reshape(2, 10)\n",
    "b"
   ]
  },
  {
   "cell_type": "code",
   "execution_count": 152,
   "id": "57652020",
   "metadata": {},
   "outputs": [
    {
     "data": {
      "text/plain": [
       "64"
      ]
     },
     "execution_count": 152,
     "metadata": {},
     "output_type": "execute_result"
    }
   ],
   "source": [
    "b[0, 2]"
   ]
  },
  {
   "cell_type": "code",
   "execution_count": 153,
   "id": "bec03561",
   "metadata": {},
   "outputs": [
    {
     "data": {
      "text/plain": [
       "array([[ 44,  47, 999,  67,  67,   9,  83,  21,  36,  87],\n",
       "       [ 70,  88,  88,  12,  58,  65,  39,  87,  46,  88]])"
      ]
     },
     "execution_count": 153,
     "metadata": {},
     "output_type": "execute_result"
    }
   ],
   "source": [
    "b[0, 2] = 999\n",
    "b"
   ]
  },
  {
   "cell_type": "code",
   "execution_count": 154,
   "id": "879c8026",
   "metadata": {},
   "outputs": [
    {
     "data": {
      "text/plain": [
       "array([[ 44,  47, 999,  67,  67],\n",
       "       [  9,  83,  21,  36,  87],\n",
       "       [ 70,  88,  88,  12,  58],\n",
       "       [ 65,  39,  87,  46,  88]])"
      ]
     },
     "execution_count": 154,
     "metadata": {},
     "output_type": "execute_result"
    }
   ],
   "source": [
    "a"
   ]
  },
  {
   "cell_type": "code",
   "execution_count": 155,
   "id": "1604114d",
   "metadata": {},
   "outputs": [
    {
     "data": {
      "text/plain": [
       "array([[ 44,  47, 999,  67,  67,   9,  83,  21,  36,  87],\n",
       "       [ 70,  88,  88,  12,  58,  65,  39,  87,  46,  88]])"
      ]
     },
     "execution_count": 155,
     "metadata": {},
     "output_type": "execute_result"
    }
   ],
   "source": [
    "c = a.reshape(2, 10).copy()\n",
    "c"
   ]
  },
  {
   "cell_type": "code",
   "execution_count": 156,
   "id": "b212f2dc",
   "metadata": {},
   "outputs": [
    {
     "data": {
      "text/plain": [
       "array([[ 44,  47, 999,  67, 888,   9,  83,  21,  36,  87],\n",
       "       [ 70,  88,  88,  12,  58,  65,  39,  87,  46,  88]])"
      ]
     },
     "execution_count": 156,
     "metadata": {},
     "output_type": "execute_result"
    }
   ],
   "source": [
    "c[0, 4] = 888\n",
    "c"
   ]
  },
  {
   "cell_type": "code",
   "execution_count": 157,
   "id": "992573ad",
   "metadata": {},
   "outputs": [
    {
     "data": {
      "text/plain": [
       "array([[ 44,  47, 999,  67,  67],\n",
       "       [  9,  83,  21,  36,  87],\n",
       "       [ 70,  88,  88,  12,  58],\n",
       "       [ 65,  39,  87,  46,  88]])"
      ]
     },
     "execution_count": 157,
     "metadata": {},
     "output_type": "execute_result"
    }
   ],
   "source": [
    "a"
   ]
  },
  {
   "cell_type": "code",
   "execution_count": 158,
   "id": "a9a3ef64",
   "metadata": {},
   "outputs": [
    {
     "data": {
      "text/plain": [
       "  C_CONTIGUOUS : True\n",
       "  F_CONTIGUOUS : False\n",
       "  OWNDATA : True\n",
       "  WRITEABLE : True\n",
       "  ALIGNED : True\n",
       "  WRITEBACKIFCOPY : False"
      ]
     },
     "execution_count": 158,
     "metadata": {},
     "output_type": "execute_result"
    }
   ],
   "source": [
    "a.flags"
   ]
  },
  {
   "cell_type": "code",
   "execution_count": 159,
   "id": "79c916b2",
   "metadata": {},
   "outputs": [
    {
     "data": {
      "text/plain": [
       "  C_CONTIGUOUS : True\n",
       "  F_CONTIGUOUS : False\n",
       "  OWNDATA : False\n",
       "  WRITEABLE : True\n",
       "  ALIGNED : True\n",
       "  WRITEBACKIFCOPY : False"
      ]
     },
     "execution_count": 159,
     "metadata": {},
     "output_type": "execute_result"
    }
   ],
   "source": [
    "b.flags"
   ]
  },
  {
   "cell_type": "code",
   "execution_count": 160,
   "id": "9e222291",
   "metadata": {},
   "outputs": [
    {
     "data": {
      "text/plain": [
       "True"
      ]
     },
     "execution_count": 160,
     "metadata": {},
     "output_type": "execute_result"
    }
   ],
   "source": [
    "np.shares_memory(a, b)"
   ]
  },
  {
   "cell_type": "code",
   "execution_count": 161,
   "id": "418401db",
   "metadata": {},
   "outputs": [
    {
     "data": {
      "text/plain": [
       "False"
      ]
     },
     "execution_count": 161,
     "metadata": {},
     "output_type": "execute_result"
    }
   ],
   "source": [
    "np.shares_memory(a, c)"
   ]
  },
  {
   "cell_type": "code",
   "execution_count": 162,
   "id": "056e98a8",
   "metadata": {},
   "outputs": [
    {
     "data": {
      "text/plain": [
       "array([[ 44,  47, 999,  67,  67],\n",
       "       [  9,  83,  21,  36,  87],\n",
       "       [ 70,  88,  88,  12,  58],\n",
       "       [ 65,  39,  87,  46,  88]])"
      ]
     },
     "execution_count": 162,
     "metadata": {},
     "output_type": "execute_result"
    }
   ],
   "source": [
    "a"
   ]
  },
  {
   "cell_type": "code",
   "execution_count": 163,
   "id": "63a9e977",
   "metadata": {},
   "outputs": [],
   "source": [
    "a.sort()"
   ]
  },
  {
   "cell_type": "code",
   "execution_count": 164,
   "id": "c26bc1e8",
   "metadata": {},
   "outputs": [
    {
     "data": {
      "text/plain": [
       "array([[ 44,  47,  67,  67, 999],\n",
       "       [  9,  21,  36,  83,  87],\n",
       "       [ 12,  58,  70,  88,  88],\n",
       "       [ 39,  46,  65,  87,  88]])"
      ]
     },
     "execution_count": 164,
     "metadata": {},
     "output_type": "execute_result"
    }
   ],
   "source": [
    "a"
   ]
  },
  {
   "cell_type": "code",
   "execution_count": 166,
   "id": "cf691419",
   "metadata": {},
   "outputs": [],
   "source": [
    "a.sort?"
   ]
  },
  {
   "cell_type": "code",
   "execution_count": 167,
   "id": "7167c928",
   "metadata": {},
   "outputs": [],
   "source": [
    "np.random.seed(0)\n",
    "a = np.random.randint(0, 100, [4,5])\n",
    "a.sort(axis=0)"
   ]
  },
  {
   "cell_type": "code",
   "execution_count": 168,
   "id": "1584c06c",
   "metadata": {},
   "outputs": [
    {
     "data": {
      "text/plain": [
       "array([[ 9, 39, 21, 12, 58],\n",
       "       [44, 47, 64, 36, 67],\n",
       "       [65, 83, 87, 46, 87],\n",
       "       [70, 88, 88, 67, 88]])"
      ]
     },
     "execution_count": 168,
     "metadata": {},
     "output_type": "execute_result"
    }
   ],
   "source": [
    "a"
   ]
  },
  {
   "cell_type": "code",
   "execution_count": 169,
   "id": "d0244a2d",
   "metadata": {},
   "outputs": [],
   "source": [
    "# which sort algorithm works fastest?\n",
    "# let's check! \n",
    "\n",
    "np.random.seed(0)\n",
    "a = np.random.randint(0, 100, [4,5])\n"
   ]
  },
  {
   "cell_type": "code",
   "execution_count": 170,
   "id": "3cc9ae46",
   "metadata": {},
   "outputs": [
    {
     "name": "stdout",
     "output_type": "stream",
     "text": [
      "275 ns ± 2.18 ns per loop (mean ± std. dev. of 7 runs, 1,000,000 loops each)\n"
     ]
    }
   ],
   "source": [
    "# timeit is a module that comes with the Python standard library\n",
    "\n",
    "%timeit a.sort()"
   ]
  },
  {
   "cell_type": "code",
   "execution_count": 171,
   "id": "37045a4b",
   "metadata": {},
   "outputs": [
    {
     "name": "stdout",
     "output_type": "stream",
     "text": [
      "314 ns ± 6.34 ns per loop (mean ± std. dev. of 7 runs, 1,000,000 loops each)\n"
     ]
    }
   ],
   "source": [
    "%timeit a.sort(kind='mergesort')"
   ]
  },
  {
   "cell_type": "code",
   "execution_count": 183,
   "id": "0e36baca",
   "metadata": {},
   "outputs": [
    {
     "name": "stdout",
     "output_type": "stream",
     "text": [
      "1.01 µs ± 16.5 ns per loop (mean ± std. dev. of 7 runs, 1,000,000 loops each)\n"
     ]
    }
   ],
   "source": [
    "mylist = list(a.reshape(1,20)[0])\n",
    "%timeit sorted(mylist)"
   ]
  },
  {
   "cell_type": "code",
   "execution_count": 185,
   "id": "a2b2c03b",
   "metadata": {},
   "outputs": [
    {
     "ename": "UnboundLocalError",
     "evalue": "cannot access local variable 'mylist' where it is not associated with a value",
     "output_type": "error",
     "traceback": [
      "\u001b[0;31m---------------------------------------------------------------------------\u001b[0m",
      "\u001b[0;31mUnboundLocalError\u001b[0m                         Traceback (most recent call last)",
      "Cell \u001b[0;32mIn [185], line 1\u001b[0m\n\u001b[0;32m----> 1\u001b[0m \u001b[43mget_ipython\u001b[49m\u001b[43m(\u001b[49m\u001b[43m)\u001b[49m\u001b[38;5;241;43m.\u001b[39;49m\u001b[43mrun_line_magic\u001b[49m\u001b[43m(\u001b[49m\u001b[38;5;124;43m'\u001b[39;49m\u001b[38;5;124;43mtimeit\u001b[39;49m\u001b[38;5;124;43m'\u001b[39;49m\u001b[43m,\u001b[49m\u001b[43m \u001b[49m\u001b[38;5;124;43m'\u001b[39;49m\u001b[38;5;124;43mmylist = sorted(mylist)\u001b[39;49m\u001b[38;5;124;43m'\u001b[39;49m\u001b[43m)\u001b[49m\n",
      "File \u001b[0;32m/usr/local/lib/python3.11/site-packages/IPython/core/interactiveshell.py:2309\u001b[0m, in \u001b[0;36mInteractiveShell.run_line_magic\u001b[0;34m(self, magic_name, line, _stack_depth)\u001b[0m\n\u001b[1;32m   2307\u001b[0m     kwargs[\u001b[38;5;124m'\u001b[39m\u001b[38;5;124mlocal_ns\u001b[39m\u001b[38;5;124m'\u001b[39m] \u001b[38;5;241m=\u001b[39m \u001b[38;5;28mself\u001b[39m\u001b[38;5;241m.\u001b[39mget_local_scope(stack_depth)\n\u001b[1;32m   2308\u001b[0m \u001b[38;5;28;01mwith\u001b[39;00m \u001b[38;5;28mself\u001b[39m\u001b[38;5;241m.\u001b[39mbuiltin_trap:\n\u001b[0;32m-> 2309\u001b[0m     result \u001b[38;5;241m=\u001b[39m \u001b[43mfn\u001b[49m\u001b[43m(\u001b[49m\u001b[38;5;241;43m*\u001b[39;49m\u001b[43margs\u001b[49m\u001b[43m,\u001b[49m\u001b[43m \u001b[49m\u001b[38;5;241;43m*\u001b[39;49m\u001b[38;5;241;43m*\u001b[39;49m\u001b[43mkwargs\u001b[49m\u001b[43m)\u001b[49m\n\u001b[1;32m   2310\u001b[0m \u001b[38;5;28;01mreturn\u001b[39;00m result\n",
      "File \u001b[0;32m/usr/local/lib/python3.11/site-packages/IPython/core/magics/execution.py:1162\u001b[0m, in \u001b[0;36mExecutionMagics.timeit\u001b[0;34m(self, line, cell, local_ns)\u001b[0m\n\u001b[1;32m   1160\u001b[0m \u001b[38;5;28;01mfor\u001b[39;00m index \u001b[38;5;129;01min\u001b[39;00m \u001b[38;5;28mrange\u001b[39m(\u001b[38;5;241m0\u001b[39m, \u001b[38;5;241m10\u001b[39m):\n\u001b[1;32m   1161\u001b[0m     number \u001b[38;5;241m=\u001b[39m \u001b[38;5;241m10\u001b[39m \u001b[38;5;241m*\u001b[39m\u001b[38;5;241m*\u001b[39m index\n\u001b[0;32m-> 1162\u001b[0m     time_number \u001b[38;5;241m=\u001b[39m \u001b[43mtimer\u001b[49m\u001b[38;5;241;43m.\u001b[39;49m\u001b[43mtimeit\u001b[49m\u001b[43m(\u001b[49m\u001b[43mnumber\u001b[49m\u001b[43m)\u001b[49m\n\u001b[1;32m   1163\u001b[0m     \u001b[38;5;28;01mif\u001b[39;00m time_number \u001b[38;5;241m>\u001b[39m\u001b[38;5;241m=\u001b[39m \u001b[38;5;241m0.2\u001b[39m:\n\u001b[1;32m   1164\u001b[0m         \u001b[38;5;28;01mbreak\u001b[39;00m\n",
      "File \u001b[0;32m/usr/local/lib/python3.11/site-packages/IPython/core/magics/execution.py:156\u001b[0m, in \u001b[0;36mTimer.timeit\u001b[0;34m(self, number)\u001b[0m\n\u001b[1;32m    154\u001b[0m gc\u001b[38;5;241m.\u001b[39mdisable()\n\u001b[1;32m    155\u001b[0m \u001b[38;5;28;01mtry\u001b[39;00m:\n\u001b[0;32m--> 156\u001b[0m     timing \u001b[38;5;241m=\u001b[39m \u001b[38;5;28;43mself\u001b[39;49m\u001b[38;5;241;43m.\u001b[39;49m\u001b[43minner\u001b[49m\u001b[43m(\u001b[49m\u001b[43mit\u001b[49m\u001b[43m,\u001b[49m\u001b[43m \u001b[49m\u001b[38;5;28;43mself\u001b[39;49m\u001b[38;5;241;43m.\u001b[39;49m\u001b[43mtimer\u001b[49m\u001b[43m)\u001b[49m\n\u001b[1;32m    157\u001b[0m \u001b[38;5;28;01mfinally\u001b[39;00m:\n\u001b[1;32m    158\u001b[0m     \u001b[38;5;28;01mif\u001b[39;00m gcold:\n",
      "File \u001b[0;32m<magic-timeit>:1\u001b[0m, in \u001b[0;36minner\u001b[0;34m(_it, _timer)\u001b[0m\n",
      "\u001b[0;31mUnboundLocalError\u001b[0m: cannot access local variable 'mylist' where it is not associated with a value"
     ]
    }
   ],
   "source": [
    "%timeit mylist = sorted(mylist)"
   ]
  },
  {
   "cell_type": "code",
   "execution_count": 186,
   "id": "4402506e",
   "metadata": {},
   "outputs": [],
   "source": [
    "import pandas as pd"
   ]
  },
  {
   "cell_type": "code",
   "execution_count": 187,
   "id": "0352fe8d",
   "metadata": {},
   "outputs": [],
   "source": [
    "from pandas import Series, DataFrame"
   ]
  },
  {
   "cell_type": "markdown",
   "id": "824ed17c",
   "metadata": {},
   "source": [
    "# Pandas data structures\n",
    "\n",
    "1. Series -- 1D data\n",
    "2. Data frame -- 2D data"
   ]
  },
  {
   "cell_type": "code",
   "execution_count": 188,
   "id": "b83b80cb",
   "metadata": {},
   "outputs": [
    {
     "data": {
      "text/plain": [
       "0    10\n",
       "1    20\n",
       "2    30\n",
       "3    40\n",
       "4    50\n",
       "5    60\n",
       "dtype: int64"
      ]
     },
     "execution_count": 188,
     "metadata": {},
     "output_type": "execute_result"
    }
   ],
   "source": [
    "s = Series([10, 20, 30, 40, 50, 60])\n",
    "s"
   ]
  },
  {
   "cell_type": "code",
   "execution_count": 189,
   "id": "1da15870",
   "metadata": {},
   "outputs": [],
   "source": [
    "# series works similiar to NumPy arrays"
   ]
  },
  {
   "cell_type": "code",
   "execution_count": 190,
   "id": "dba432a8",
   "metadata": {},
   "outputs": [
    {
     "data": {
      "text/plain": [
       "10"
      ]
     },
     "execution_count": 190,
     "metadata": {},
     "output_type": "execute_result"
    }
   ],
   "source": [
    "s[0]"
   ]
  },
  {
   "cell_type": "code",
   "execution_count": 191,
   "id": "329fff57",
   "metadata": {},
   "outputs": [
    {
     "data": {
      "text/plain": [
       "0    10\n",
       "1    20\n",
       "dtype: int64"
      ]
     },
     "execution_count": 191,
     "metadata": {},
     "output_type": "execute_result"
    }
   ],
   "source": [
    "s[0:2]"
   ]
  },
  {
   "cell_type": "code",
   "execution_count": 193,
   "id": "8b280631",
   "metadata": {},
   "outputs": [
    {
     "data": {
      "text/plain": [
       "210"
      ]
     },
     "execution_count": 193,
     "metadata": {},
     "output_type": "execute_result"
    }
   ],
   "source": [
    "# methods on our series\n",
    "s.sum()"
   ]
  },
  {
   "cell_type": "code",
   "execution_count": 194,
   "id": "c9c56edc",
   "metadata": {},
   "outputs": [
    {
     "data": {
      "text/plain": [
       "35.0"
      ]
     },
     "execution_count": 194,
     "metadata": {},
     "output_type": "execute_result"
    }
   ],
   "source": [
    "s.mean()"
   ]
  },
  {
   "cell_type": "code",
   "execution_count": 195,
   "id": "2cb45201",
   "metadata": {},
   "outputs": [
    {
     "data": {
      "text/plain": [
       "18.708286933869708"
      ]
     },
     "execution_count": 195,
     "metadata": {},
     "output_type": "execute_result"
    }
   ],
   "source": [
    "s.std()"
   ]
  },
  {
   "cell_type": "code",
   "execution_count": 196,
   "id": "bee880a2",
   "metadata": {},
   "outputs": [
    {
     "data": {
      "text/plain": [
       "array([10, 20, 30, 40, 50, 60])"
      ]
     },
     "execution_count": 196,
     "metadata": {},
     "output_type": "execute_result"
    }
   ],
   "source": [
    "# what is behind the scenes?\n",
    "s.values"
   ]
  },
  {
   "cell_type": "code",
   "execution_count": 197,
   "id": "69bbcbd3",
   "metadata": {},
   "outputs": [],
   "source": [
    "s = Series([10, 20, 30, 40, 50],\n",
    "          index=[2,4,6,8,10])"
   ]
  },
  {
   "cell_type": "code",
   "execution_count": 198,
   "id": "fca0bd36",
   "metadata": {},
   "outputs": [
    {
     "data": {
      "text/plain": [
       "2     10\n",
       "4     20\n",
       "6     30\n",
       "8     40\n",
       "10    50\n",
       "dtype: int64"
      ]
     },
     "execution_count": 198,
     "metadata": {},
     "output_type": "execute_result"
    }
   ],
   "source": [
    "s"
   ]
  },
  {
   "cell_type": "code",
   "execution_count": 199,
   "id": "2c80a9a6",
   "metadata": {},
   "outputs": [
    {
     "data": {
      "text/plain": [
       "30"
      ]
     },
     "execution_count": 199,
     "metadata": {},
     "output_type": "execute_result"
    }
   ],
   "source": [
    "s[6]"
   ]
  },
  {
   "cell_type": "code",
   "execution_count": 200,
   "id": "766ee8c1",
   "metadata": {},
   "outputs": [
    {
     "ename": "KeyError",
     "evalue": "0",
     "output_type": "error",
     "traceback": [
      "\u001b[0;31m---------------------------------------------------------------------------\u001b[0m",
      "\u001b[0;31mKeyError\u001b[0m                                  Traceback (most recent call last)",
      "File \u001b[0;32m/usr/local/lib/python3.11/site-packages/pandas/core/indexes/base.py:3652\u001b[0m, in \u001b[0;36mIndex.get_loc\u001b[0;34m(self, key)\u001b[0m\n\u001b[1;32m   3651\u001b[0m \u001b[38;5;28;01mtry\u001b[39;00m:\n\u001b[0;32m-> 3652\u001b[0m     \u001b[38;5;28;01mreturn\u001b[39;00m \u001b[38;5;28;43mself\u001b[39;49m\u001b[38;5;241;43m.\u001b[39;49m\u001b[43m_engine\u001b[49m\u001b[38;5;241;43m.\u001b[39;49m\u001b[43mget_loc\u001b[49m\u001b[43m(\u001b[49m\u001b[43mcasted_key\u001b[49m\u001b[43m)\u001b[49m\n\u001b[1;32m   3653\u001b[0m \u001b[38;5;28;01mexcept\u001b[39;00m \u001b[38;5;167;01mKeyError\u001b[39;00m \u001b[38;5;28;01mas\u001b[39;00m err:\n",
      "File \u001b[0;32m/usr/local/lib/python3.11/site-packages/pandas/_libs/index.pyx:147\u001b[0m, in \u001b[0;36mpandas._libs.index.IndexEngine.get_loc\u001b[0;34m()\u001b[0m\n",
      "File \u001b[0;32m/usr/local/lib/python3.11/site-packages/pandas/_libs/index.pyx:176\u001b[0m, in \u001b[0;36mpandas._libs.index.IndexEngine.get_loc\u001b[0;34m()\u001b[0m\n",
      "File \u001b[0;32mpandas/_libs/hashtable_class_helper.pxi:2606\u001b[0m, in \u001b[0;36mpandas._libs.hashtable.Int64HashTable.get_item\u001b[0;34m()\u001b[0m\n",
      "File \u001b[0;32mpandas/_libs/hashtable_class_helper.pxi:2630\u001b[0m, in \u001b[0;36mpandas._libs.hashtable.Int64HashTable.get_item\u001b[0;34m()\u001b[0m\n",
      "\u001b[0;31mKeyError\u001b[0m: 0",
      "\nThe above exception was the direct cause of the following exception:\n",
      "\u001b[0;31mKeyError\u001b[0m                                  Traceback (most recent call last)",
      "Cell \u001b[0;32mIn [200], line 1\u001b[0m\n\u001b[0;32m----> 1\u001b[0m \u001b[43ms\u001b[49m\u001b[43m[\u001b[49m\u001b[38;5;241;43m0\u001b[39;49m\u001b[43m]\u001b[49m\n",
      "File \u001b[0;32m/usr/local/lib/python3.11/site-packages/pandas/core/series.py:1007\u001b[0m, in \u001b[0;36mSeries.__getitem__\u001b[0;34m(self, key)\u001b[0m\n\u001b[1;32m   1004\u001b[0m     \u001b[38;5;28;01mreturn\u001b[39;00m \u001b[38;5;28mself\u001b[39m\u001b[38;5;241m.\u001b[39m_values[key]\n\u001b[1;32m   1006\u001b[0m \u001b[38;5;28;01melif\u001b[39;00m key_is_scalar:\n\u001b[0;32m-> 1007\u001b[0m     \u001b[38;5;28;01mreturn\u001b[39;00m \u001b[38;5;28;43mself\u001b[39;49m\u001b[38;5;241;43m.\u001b[39;49m\u001b[43m_get_value\u001b[49m\u001b[43m(\u001b[49m\u001b[43mkey\u001b[49m\u001b[43m)\u001b[49m\n\u001b[1;32m   1009\u001b[0m \u001b[38;5;28;01mif\u001b[39;00m is_hashable(key):\n\u001b[1;32m   1010\u001b[0m     \u001b[38;5;66;03m# Otherwise index.get_value will raise InvalidIndexError\u001b[39;00m\n\u001b[1;32m   1011\u001b[0m     \u001b[38;5;28;01mtry\u001b[39;00m:\n\u001b[1;32m   1012\u001b[0m         \u001b[38;5;66;03m# For labels that don't resolve as scalars like tuples and frozensets\u001b[39;00m\n",
      "File \u001b[0;32m/usr/local/lib/python3.11/site-packages/pandas/core/series.py:1116\u001b[0m, in \u001b[0;36mSeries._get_value\u001b[0;34m(self, label, takeable)\u001b[0m\n\u001b[1;32m   1113\u001b[0m     \u001b[38;5;28;01mreturn\u001b[39;00m \u001b[38;5;28mself\u001b[39m\u001b[38;5;241m.\u001b[39m_values[label]\n\u001b[1;32m   1115\u001b[0m \u001b[38;5;66;03m# Similar to Index.get_value, but we do not fall back to positional\u001b[39;00m\n\u001b[0;32m-> 1116\u001b[0m loc \u001b[38;5;241m=\u001b[39m \u001b[38;5;28;43mself\u001b[39;49m\u001b[38;5;241;43m.\u001b[39;49m\u001b[43mindex\u001b[49m\u001b[38;5;241;43m.\u001b[39;49m\u001b[43mget_loc\u001b[49m\u001b[43m(\u001b[49m\u001b[43mlabel\u001b[49m\u001b[43m)\u001b[49m\n\u001b[1;32m   1118\u001b[0m \u001b[38;5;28;01mif\u001b[39;00m is_integer(loc):\n\u001b[1;32m   1119\u001b[0m     \u001b[38;5;28;01mreturn\u001b[39;00m \u001b[38;5;28mself\u001b[39m\u001b[38;5;241m.\u001b[39m_values[loc]\n",
      "File \u001b[0;32m/usr/local/lib/python3.11/site-packages/pandas/core/indexes/base.py:3654\u001b[0m, in \u001b[0;36mIndex.get_loc\u001b[0;34m(self, key)\u001b[0m\n\u001b[1;32m   3652\u001b[0m     \u001b[38;5;28;01mreturn\u001b[39;00m \u001b[38;5;28mself\u001b[39m\u001b[38;5;241m.\u001b[39m_engine\u001b[38;5;241m.\u001b[39mget_loc(casted_key)\n\u001b[1;32m   3653\u001b[0m \u001b[38;5;28;01mexcept\u001b[39;00m \u001b[38;5;167;01mKeyError\u001b[39;00m \u001b[38;5;28;01mas\u001b[39;00m err:\n\u001b[0;32m-> 3654\u001b[0m     \u001b[38;5;28;01mraise\u001b[39;00m \u001b[38;5;167;01mKeyError\u001b[39;00m(key) \u001b[38;5;28;01mfrom\u001b[39;00m \u001b[38;5;21;01merr\u001b[39;00m\n\u001b[1;32m   3655\u001b[0m \u001b[38;5;28;01mexcept\u001b[39;00m \u001b[38;5;167;01mTypeError\u001b[39;00m:\n\u001b[1;32m   3656\u001b[0m     \u001b[38;5;66;03m# If we have a listlike key, _check_indexing_error will raise\u001b[39;00m\n\u001b[1;32m   3657\u001b[0m     \u001b[38;5;66;03m#  InvalidIndexError. Otherwise we fall through and re-raise\u001b[39;00m\n\u001b[1;32m   3658\u001b[0m     \u001b[38;5;66;03m#  the TypeError.\u001b[39;00m\n\u001b[1;32m   3659\u001b[0m     \u001b[38;5;28mself\u001b[39m\u001b[38;5;241m.\u001b[39m_check_indexing_error(key)\n",
      "\u001b[0;31mKeyError\u001b[0m: 0"
     ]
    }
   ],
   "source": [
    "s[0]"
   ]
  },
  {
   "cell_type": "code",
   "execution_count": 201,
   "id": "568f1b1d",
   "metadata": {},
   "outputs": [],
   "source": [
    "s = Series([10, 20, 30, 40, 50],\n",
    "          index=list('abcde'))"
   ]
  },
  {
   "cell_type": "code",
   "execution_count": 202,
   "id": "793bcc7e",
   "metadata": {},
   "outputs": [
    {
     "data": {
      "text/plain": [
       "a    10\n",
       "b    20\n",
       "c    30\n",
       "d    40\n",
       "e    50\n",
       "dtype: int64"
      ]
     },
     "execution_count": 202,
     "metadata": {},
     "output_type": "execute_result"
    }
   ],
   "source": [
    "s"
   ]
  },
  {
   "cell_type": "code",
   "execution_count": 203,
   "id": "8bccf552",
   "metadata": {},
   "outputs": [
    {
     "data": {
      "text/plain": [
       "10"
      ]
     },
     "execution_count": 203,
     "metadata": {},
     "output_type": "execute_result"
    }
   ],
   "source": [
    "s['a']"
   ]
  },
  {
   "cell_type": "code",
   "execution_count": 204,
   "id": "f77c00f5",
   "metadata": {},
   "outputs": [
    {
     "data": {
      "text/plain": [
       "30"
      ]
     },
     "execution_count": 204,
     "metadata": {},
     "output_type": "execute_result"
    }
   ],
   "source": [
    "s['c']"
   ]
  },
  {
   "cell_type": "code",
   "execution_count": 205,
   "id": "27ebac71",
   "metadata": {},
   "outputs": [
    {
     "data": {
      "text/plain": [
       "a    10\n",
       "c    30\n",
       "dtype: int64"
      ]
     },
     "execution_count": 205,
     "metadata": {},
     "output_type": "execute_result"
    }
   ],
   "source": [
    "s[['a', 'c']]   # fancy index"
   ]
  },
  {
   "cell_type": "code",
   "execution_count": 207,
   "id": "078d8e50",
   "metadata": {},
   "outputs": [
    {
     "data": {
      "text/plain": [
       "a    10\n",
       "b    20\n",
       "c    30\n",
       "dtype: int64"
      ]
     },
     "execution_count": 207,
     "metadata": {},
     "output_type": "execute_result"
    }
   ],
   "source": [
    "# slices are up to *and* including!\n",
    "s['a':'c']"
   ]
  },
  {
   "cell_type": "code",
   "execution_count": 208,
   "id": "b4efab29",
   "metadata": {},
   "outputs": [
    {
     "data": {
      "text/plain": [
       "a    10\n",
       "b    20\n",
       "c    30\n",
       "d    40\n",
       "e    50\n",
       "dtype: int64"
      ]
     },
     "execution_count": 208,
     "metadata": {},
     "output_type": "execute_result"
    }
   ],
   "source": [
    "s"
   ]
  },
  {
   "cell_type": "markdown",
   "id": "9495038a",
   "metadata": {},
   "source": [
    "# Exercise: Simple series\n",
    "\n",
    "1. Create a series containing 10 random ints, with index a-j.\n",
    "2. Get the item at index `b`.\n",
    "3. Retrieve items at indexes `c`, `d`, and `f`.\n",
    "4. What is the mean of items at indexes `a`, `e`, `g`, and `h`?\n",
    "5. What is the sum of the even values?"
   ]
  },
  {
   "cell_type": "code",
   "execution_count": 209,
   "id": "6fb97291",
   "metadata": {},
   "outputs": [
    {
     "data": {
      "text/plain": [
       "['a', 'b', 'c', 'd', 'e']"
      ]
     },
     "execution_count": 209,
     "metadata": {},
     "output_type": "execute_result"
    }
   ],
   "source": [
    "list('abcde')"
   ]
  },
  {
   "cell_type": "code",
   "execution_count": 210,
   "id": "c896ddda",
   "metadata": {},
   "outputs": [
    {
     "data": {
      "text/plain": [
       "a    44\n",
       "b    47\n",
       "c    64\n",
       "d    67\n",
       "e    67\n",
       "f     9\n",
       "g    83\n",
       "h    21\n",
       "i    36\n",
       "j    87\n",
       "dtype: int64"
      ]
     },
     "execution_count": 210,
     "metadata": {},
     "output_type": "execute_result"
    }
   ],
   "source": [
    "np.random.seed(0)\n",
    "s = Series(np.random.randint(0, 100, 10),\n",
    "          index=list('abcdefghij'))\n",
    "s"
   ]
  },
  {
   "cell_type": "code",
   "execution_count": 211,
   "id": "96564703",
   "metadata": {},
   "outputs": [
    {
     "data": {
      "text/plain": [
       "a    44\n",
       "b    47\n",
       "c    64\n",
       "d    67\n",
       "e    67\n",
       "f     9\n",
       "g    83\n",
       "h    21\n",
       "i    36\n",
       "j    87\n",
       "dtype: int64"
      ]
     },
     "execution_count": 211,
     "metadata": {},
     "output_type": "execute_result"
    }
   ],
   "source": [
    "import string\n",
    "np.random.seed(0)\n",
    "s = Series(np.random.randint(0, 100, 10),\n",
    "          index=list(string.ascii_lowercase[:10]))\n",
    "s"
   ]
  },
  {
   "cell_type": "code",
   "execution_count": 212,
   "id": "d1d4d4a1",
   "metadata": {},
   "outputs": [
    {
     "data": {
      "text/plain": [
       "47"
      ]
     },
     "execution_count": 212,
     "metadata": {},
     "output_type": "execute_result"
    }
   ],
   "source": [
    "s['b']"
   ]
  },
  {
   "cell_type": "code",
   "execution_count": null,
   "id": "43cee1fe",
   "metadata": {},
   "outputs": [],
   "source": []
  }
 ],
 "metadata": {
  "kernelspec": {
   "display_name": "Python 3 (ipykernel)",
   "language": "python",
   "name": "python3"
  },
  "language_info": {
   "codemirror_mode": {
    "name": "ipython",
    "version": 3
   },
   "file_extension": ".py",
   "mimetype": "text/x-python",
   "name": "python",
   "nbconvert_exporter": "python",
   "pygments_lexer": "ipython3",
   "version": "3.11.3"
  }
 },
 "nbformat": 4,
 "nbformat_minor": 5
}
