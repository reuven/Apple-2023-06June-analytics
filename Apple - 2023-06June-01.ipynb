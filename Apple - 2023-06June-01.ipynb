{
 "cells": [
  {
   "cell_type": "markdown",
   "metadata": {},
   "source": [
    "# Agenda\n",
    "\n",
    "1. Intro to Jupyter\n",
    "2. NumPy\n",
    "    - Array \n",
    "    - dtypes\n",
    "    - Boolean indexing\n",
    "    - Broadcasting\n",
    "3. Pandas\n",
    "    - Series and data frames\n",
    "    - Setting and retrieving\n",
    "    - Filtering \n",
    "    - String data\n",
    "    - Times and dates\n",
    "    - Sorting\n",
    "    - Grouping\n",
    "    - Pivot tables\n",
    "    - Optimization\n",
    "    - Plotting (esp with Seaborn)"
   ]
  },
  {
   "cell_type": "code",
   "execution_count": 1,
   "metadata": {},
   "outputs": [
    {
     "name": "stdout",
     "output_type": "stream",
     "text": [
      "Hello!\n"
     ]
    }
   ],
   "source": [
    "print('Hello!')"
   ]
  },
  {
   "cell_type": "code",
   "execution_count": 4,
   "metadata": {},
   "outputs": [],
   "source": [
    "x = 102"
   ]
  },
  {
   "cell_type": "code",
   "execution_count": 5,
   "metadata": {},
   "outputs": [
    {
     "name": "stdout",
     "output_type": "stream",
     "text": [
      "102\n"
     ]
    }
   ],
   "source": [
    "print(x)"
   ]
  },
  {
   "cell_type": "markdown",
   "metadata": {},
   "source": [
    "# Two modes\n",
    "\n",
    "- Edit mode -- when I type, the text is placed in the cell. Click in the cell or press ENTER for edit mode. Green outline in edit mode.\n",
    "- Command mode -- anything I type is treated as a Jupyter command. Click to the left of the cell or press ESC for command mode.  Blue outline in command mode.\n",
    "\n",
    "Commands in command mode:\n",
    "- `c` -- copy the cell\n",
    "- `x` -- cut the cell\n",
    "- `v` -- paste the cell\n",
    "- `h` -- help, what keys do what?\n",
    "- `a` -- create a new cell *above* the current one\n",
    "- `b` -- create a new cell *below* the current one\n",
    "- `y` -- turn a cell into a code cell\n",
    "- `m` -- turn a cell into Markdown documentation\n",
    "\n",
    "Shift+ENTER = execute the cell"
   ]
  },
  {
   "cell_type": "code",
   "execution_count": 1,
   "metadata": {},
   "outputs": [
    {
     "name": "stdout",
     "output_type": "stream",
     "text": [
      "Hello\n"
     ]
    }
   ],
   "source": [
    "print('Hello')"
   ]
  },
  {
   "cell_type": "markdown",
   "metadata": {},
   "source": [
    "# Magic commands\n",
    "\n",
    "All magic commands start with `%`."
   ]
  },
  {
   "cell_type": "code",
   "execution_count": 7,
   "metadata": {},
   "outputs": [
    {
     "name": "stdout",
     "output_type": "stream",
     "text": [
      "'Apple - 2023-06June-01.ipynb'\r\n"
     ]
    }
   ],
   "source": [
    "%ls"
   ]
  },
  {
   "cell_type": "code",
   "execution_count": 8,
   "metadata": {},
   "outputs": [
    {
     "name": "stdout",
     "output_type": "stream",
     "text": [
      "6to4.conf.applesaved\t\t       ntp.conf.applesaved\r\n",
      "AFP.conf\t\t\t       ntp_opendirectory.conf\r\n",
      "CiscoSystemsVPNClient@\t\t       openldap/\r\n",
      "X11@\t\t\t\t       openssl/\r\n",
      "afpovertcp.cfg\t\t\t       opt/\r\n",
      "afpovertcp.cfg~orig\t\t       pam.d/\r\n",
      "aliases@\t\t\t       passwd\r\n",
      "aliases.db\t\t\t       passwd~orig\r\n",
      "apache2/\t\t\t       paths\r\n",
      "asl/\t\t\t\t       paths.d/\r\n",
      "asl.conf\t\t\t       paths~orig\r\n",
      "authorization.deprecated\t       pear.conf-previous\r\n",
      "authorization.user_modified\t       periodic/\r\n",
      "auto_home\t\t\t       pf.anchors/\r\n",
      "auto_master\t\t\t       pf.conf\r\n",
      "auto_master~orig\t\t       pf.os\r\n",
      "autofs.conf\t\t\t       php.ini.default-5.2-previous\r\n",
      "bash_completion.d*\t\t       php.ini.default-5.2-previous~orig\r\n",
      "bashrc\t\t\t\t       php.ini.default-previous\r\n",
      "bashrc_Apple_Terminal\t\t       php.ini.default-previous~orig\r\n",
      "bashrc~previous\t\t\t       postfix/\r\n",
      "com.apple.screensharing.agent.launchd  postgres-reg.ini\r\n",
      "crontab\t\t\t\t       ppp/\r\n",
      "crontab.applesaved\t\t       printcap\r\n",
      "csh.cshrc\t\t\t       profile\r\n",
      "csh.cshrc~orig\t\t\t       profile~orig\r\n",
      "csh.login\t\t\t       protocols\r\n",
      "csh.login~orig\t\t\t       protocols~previous\r\n",
      "csh.logout\t\t\t       racoon/\r\n",
      "csh.logout~orig\t\t\t       rc.common\r\n",
      "cups/\t\t\t\t       rc.common~previous\r\n",
      "defaults/\t\t\t       rc.netboot\r\n",
      "dictionaries-common/\t\t       resolv.conf@\r\n",
      "dumpdates\t\t\t       resolver/\r\n",
      "efax.rc~previous\t\t       rmtab\r\n",
      "emacs/\t\t\t\t       rpc\r\n",
      "find.codes\t\t\t       rpc~previous\r\n",
      "find.codes~orig\t\t\t       rtadvd.conf\r\n",
      "fonts/\t\t\t\t       rtadvd.conf.applesaved\r\n",
      "fstab\t\t\t\t       rtadvd.conf~previous\r\n",
      "fstab.hd~previous\t\t       security/\r\n",
      "ftpusers\t\t\t       services\r\n",
      "ftpusers~orig\t\t\t       services~previous\r\n",
      "gettytab\t\t\t       shells\r\n",
      "gettytab~orig\t\t\t       shells~orig\r\n",
      "group\t\t\t\t       slpsa.conf\r\n",
      "group~previous\t\t\t       slpsa.conf.applesaved\r\n",
      "hostconfig\t\t\t       smb.conf.applesaved\r\n",
      "hostconfig.system_default\t       smb.conf.old\r\n",
      "hosts\t\t\t\t       snmp/\r\n",
      "hosts.equiv\t\t\t       ssh/\r\n",
      "hosts.lpd\t\t\t       ssh_config.applesaved\r\n",
      "hosts~orig\t\t\t       ssh_config.system_default\r\n",
      "inetd.conf.applesaved\t\t       ssh_config~orig\r\n",
      "irbrc\t\t\t\t       sshd_config.applesaved\r\n",
      "kern_loader.conf\t\t       sshd_config.system_default\r\n",
      "kern_loader.conf.applesaved\t       sshd_config~previous\r\n",
      "kern_loader.conf~previous\t       ssl/\r\n",
      "krb5.keytab\t\t\t       sudo_lecture\r\n",
      "launchd.conf\t\t\t       sudoers\r\n",
      "localtime@\t\t\t       sudoers.d/\r\n",
      "locate.rc\t\t\t       sudoers~\r\n",
      "mail.rc\t\t\t\t       sudoers~orig\r\n",
      "mail.rc~orig\t\t\t       sysctl.conf.pg\r\n",
      "man.conf\t\t\t       syslog.conf\r\n",
      "manpaths\t\t\t       syslog.conf.applesaved\r\n",
      "manpaths.d/\t\t\t       syslog.conf~previous\r\n",
      "master.passwd\t\t\t       ttys\r\n",
      "master.passwd~orig\t\t       ttys.applesaved\r\n",
      "moduli~previous\t\t\t       ttys~previous\r\n",
      "named.conf.applesaved\t\t       uucp/\r\n",
      "networks\t\t\t       wfs/\r\n",
      "networks~orig\t\t\t       xinetd.conf.applesaved\r\n",
      "newsyslog.conf\t\t\t       xinetd.d/\r\n",
      "newsyslog.d/\t\t\t       xinetd.d-migrated2launchd/\r\n",
      "nfs.conf\t\t\t       xtab\r\n",
      "nfs.conf~orig\t\t\t       zprofile\r\n",
      "notify.conf\t\t\t       zshrc\r\n",
      "ntp.conf\t\t\t       zshrc_Apple_Terminal\r\n"
     ]
    }
   ],
   "source": [
    "%ls /etc/"
   ]
  },
  {
   "cell_type": "code",
   "execution_count": 9,
   "metadata": {},
   "outputs": [],
   "source": [
    "x = 100\n",
    "y = [10, 20, 30]\n",
    "z = {'a':10, 'b':20}"
   ]
  },
  {
   "cell_type": "code",
   "execution_count": 10,
   "metadata": {},
   "outputs": [
    {
     "name": "stdout",
     "output_type": "stream",
     "text": [
      "Variable   Type    Data/Info\n",
      "----------------------------\n",
      "x          int     100\n",
      "y          list    n=3\n",
      "z          dict    n=2\n"
     ]
    }
   ],
   "source": [
    "%whos"
   ]
  },
  {
   "cell_type": "code",
   "execution_count": 14,
   "metadata": {},
   "outputs": [],
   "source": [
    "def hello(name):\n",
    "    x += 1\n",
    "    return f'Hello, {name}!'"
   ]
  },
  {
   "cell_type": "code",
   "execution_count": 15,
   "metadata": {},
   "outputs": [
    {
     "ename": "UnboundLocalError",
     "evalue": "cannot access local variable 'x' where it is not associated with a value",
     "output_type": "error",
     "traceback": [
      "\u001b[0;31m---------------------------------------------------------------------------\u001b[0m",
      "\u001b[0;31mUnboundLocalError\u001b[0m                         Traceback (most recent call last)",
      "Cell \u001b[0;32mIn [15], line 1\u001b[0m\n\u001b[0;32m----> 1\u001b[0m \u001b[43mhello\u001b[49m\u001b[43m(\u001b[49m\u001b[38;5;124;43m'\u001b[39;49m\u001b[38;5;124;43mworld\u001b[39;49m\u001b[38;5;124;43m'\u001b[39;49m\u001b[43m)\u001b[49m\n",
      "Cell \u001b[0;32mIn [14], line 2\u001b[0m, in \u001b[0;36mhello\u001b[0;34m(name)\u001b[0m\n\u001b[1;32m      1\u001b[0m \u001b[38;5;28;01mdef\u001b[39;00m \u001b[38;5;21mhello\u001b[39m(name):\n\u001b[0;32m----> 2\u001b[0m     \u001b[43mx\u001b[49m \u001b[38;5;241m+\u001b[39m\u001b[38;5;241m=\u001b[39m \u001b[38;5;241m1\u001b[39m\n\u001b[1;32m      3\u001b[0m     \u001b[38;5;28;01mreturn\u001b[39;00m \u001b[38;5;124mf\u001b[39m\u001b[38;5;124m'\u001b[39m\u001b[38;5;124mHello, \u001b[39m\u001b[38;5;132;01m{\u001b[39;00mname\u001b[38;5;132;01m}\u001b[39;00m\u001b[38;5;124m!\u001b[39m\u001b[38;5;124m'\u001b[39m\n",
      "\u001b[0;31mUnboundLocalError\u001b[0m: cannot access local variable 'x' where it is not associated with a value"
     ]
    }
   ],
   "source": [
    "hello('world')"
   ]
  },
  {
   "cell_type": "code",
   "execution_count": 16,
   "metadata": {},
   "outputs": [
    {
     "name": "stdout",
     "output_type": "stream",
     "text": [
      "> \u001b[0;32m/var/folders/d9/v8tsklln4477fll05wkgcpth0000gn/T/ipykernel_36788/1902841121.py\u001b[0m(2)\u001b[0;36mhello\u001b[0;34m()\u001b[0m\n",
      "\u001b[0;32m      1 \u001b[0;31m\u001b[0;32mdef\u001b[0m \u001b[0mhello\u001b[0m\u001b[0;34m(\u001b[0m\u001b[0mname\u001b[0m\u001b[0;34m)\u001b[0m\u001b[0;34m:\u001b[0m\u001b[0;34m\u001b[0m\u001b[0;34m\u001b[0m\u001b[0m\n",
      "\u001b[0m\u001b[0;32m----> 2 \u001b[0;31m    \u001b[0mx\u001b[0m \u001b[0;34m+=\u001b[0m \u001b[0;36m1\u001b[0m\u001b[0;34m\u001b[0m\u001b[0;34m\u001b[0m\u001b[0m\n",
      "\u001b[0m\u001b[0;32m      3 \u001b[0;31m    \u001b[0;32mreturn\u001b[0m \u001b[0;34mf'Hello, {name}!'\u001b[0m\u001b[0;34m\u001b[0m\u001b[0;34m\u001b[0m\u001b[0m\n",
      "\u001b[0m\n",
      "ipdb> q\n"
     ]
    }
   ],
   "source": [
    "%debug"
   ]
  },
  {
   "cell_type": "code",
   "execution_count": 17,
   "metadata": {},
   "outputs": [],
   "source": [
    "%magic"
   ]
  },
  {
   "cell_type": "code",
   "execution_count": 18,
   "metadata": {},
   "outputs": [
    {
     "data": {
      "application/javascript": [
       "IPython.notebook.set_autosave_interval(30000)"
      ]
     },
     "metadata": {},
     "output_type": "display_data"
    },
    {
     "name": "stdout",
     "output_type": "stream",
     "text": [
      "Autosaving every 30 seconds\n"
     ]
    }
   ],
   "source": [
    "%autosave 30"
   ]
  },
  {
   "cell_type": "code",
   "execution_count": 2,
   "metadata": {},
   "outputs": [
    {
     "name": "stdout",
     "output_type": "stream",
     "text": [
      "6to4.conf.applesaved\t\t       ntp.conf.applesaved\r\n",
      "AFP.conf\t\t\t       ntp_opendirectory.conf\r\n",
      "CiscoSystemsVPNClient\t\t       openldap\r\n",
      "X11\t\t\t\t       openssl\r\n",
      "afpovertcp.cfg\t\t\t       opt\r\n",
      "afpovertcp.cfg~orig\t\t       pam.d\r\n",
      "aliases\t\t\t\t       passwd\r\n",
      "aliases.db\t\t\t       passwd~orig\r\n",
      "apache2\t\t\t\t       paths\r\n",
      "asl\t\t\t\t       paths.d\r\n",
      "asl.conf\t\t\t       paths~orig\r\n",
      "authorization.deprecated\t       pear.conf-previous\r\n",
      "authorization.user_modified\t       periodic\r\n",
      "auto_home\t\t\t       pf.anchors\r\n",
      "auto_master\t\t\t       pf.conf\r\n",
      "auto_master~orig\t\t       pf.os\r\n",
      "autofs.conf\t\t\t       php.ini.default-5.2-previous\r\n",
      "bash_completion.d\t\t       php.ini.default-5.2-previous~orig\r\n",
      "bashrc\t\t\t\t       php.ini.default-previous\r\n",
      "bashrc_Apple_Terminal\t\t       php.ini.default-previous~orig\r\n",
      "bashrc~previous\t\t\t       postfix\r\n",
      "com.apple.screensharing.agent.launchd  postgres-reg.ini\r\n",
      "crontab\t\t\t\t       ppp\r\n",
      "crontab.applesaved\t\t       printcap\r\n",
      "csh.cshrc\t\t\t       profile\r\n",
      "csh.cshrc~orig\t\t\t       profile~orig\r\n",
      "csh.login\t\t\t       protocols\r\n",
      "csh.login~orig\t\t\t       protocols~previous\r\n",
      "csh.logout\t\t\t       racoon\r\n",
      "csh.logout~orig\t\t\t       rc.common\r\n",
      "cups\t\t\t\t       rc.common~previous\r\n",
      "defaults\t\t\t       rc.netboot\r\n",
      "dictionaries-common\t\t       resolv.conf\r\n",
      "dumpdates\t\t\t       resolver\r\n",
      "efax.rc~previous\t\t       rmtab\r\n",
      "emacs\t\t\t\t       rpc\r\n",
      "find.codes\t\t\t       rpc~previous\r\n",
      "find.codes~orig\t\t\t       rtadvd.conf\r\n",
      "fonts\t\t\t\t       rtadvd.conf.applesaved\r\n",
      "fstab\t\t\t\t       rtadvd.conf~previous\r\n",
      "fstab.hd~previous\t\t       security\r\n",
      "ftpusers\t\t\t       services\r\n",
      "ftpusers~orig\t\t\t       services~previous\r\n",
      "gettytab\t\t\t       shells\r\n",
      "gettytab~orig\t\t\t       shells~orig\r\n",
      "group\t\t\t\t       slpsa.conf\r\n",
      "group~previous\t\t\t       slpsa.conf.applesaved\r\n",
      "hostconfig\t\t\t       smb.conf.applesaved\r\n",
      "hostconfig.system_default\t       smb.conf.old\r\n",
      "hosts\t\t\t\t       snmp\r\n",
      "hosts.equiv\t\t\t       ssh\r\n",
      "hosts.lpd\t\t\t       ssh_config.applesaved\r\n",
      "hosts~orig\t\t\t       ssh_config.system_default\r\n",
      "inetd.conf.applesaved\t\t       ssh_config~orig\r\n",
      "irbrc\t\t\t\t       sshd_config.applesaved\r\n",
      "kern_loader.conf\t\t       sshd_config.system_default\r\n",
      "kern_loader.conf.applesaved\t       sshd_config~previous\r\n",
      "kern_loader.conf~previous\t       ssl\r\n",
      "krb5.keytab\t\t\t       sudo_lecture\r\n",
      "launchd.conf\t\t\t       sudoers\r\n",
      "localtime\t\t\t       sudoers.d\r\n",
      "locate.rc\t\t\t       sudoers~\r\n",
      "mail.rc\t\t\t\t       sudoers~orig\r\n",
      "mail.rc~orig\t\t\t       sysctl.conf.pg\r\n",
      "man.conf\t\t\t       syslog.conf\r\n",
      "manpaths\t\t\t       syslog.conf.applesaved\r\n",
      "manpaths.d\t\t\t       syslog.conf~previous\r\n",
      "master.passwd\t\t\t       ttys\r\n",
      "master.passwd~orig\t\t       ttys.applesaved\r\n",
      "moduli~previous\t\t\t       ttys~previous\r\n",
      "named.conf.applesaved\t\t       uucp\r\n",
      "networks\t\t\t       wfs\r\n",
      "networks~orig\t\t\t       xinetd.conf.applesaved\r\n",
      "newsyslog.conf\t\t\t       xinetd.d\r\n",
      "newsyslog.d\t\t\t       xinetd.d-migrated2launchd\r\n",
      "nfs.conf\t\t\t       xtab\r\n",
      "nfs.conf~orig\t\t\t       zprofile\r\n",
      "notify.conf\t\t\t       zshrc\r\n",
      "ntp.conf\t\t\t       zshrc_Apple_Terminal\r\n"
     ]
    }
   ],
   "source": [
    "!ls /etc/"
   ]
  },
  {
   "cell_type": "code",
   "execution_count": 12,
   "metadata": {},
   "outputs": [],
   "source": [
    "filenames = !ls"
   ]
  },
  {
   "cell_type": "code",
   "execution_count": 13,
   "metadata": {},
   "outputs": [
    {
     "data": {
      "text/plain": [
       "IPython.utils.text.SList"
      ]
     },
     "execution_count": 13,
     "metadata": {},
     "output_type": "execute_result"
    }
   ],
   "source": [
    "type(filenames)"
   ]
  },
  {
   "cell_type": "code",
   "execution_count": 14,
   "metadata": {},
   "outputs": [
    {
     "data": {
      "text/plain": [
       "[PosixPath('Apple - 2023-06June-01.ipynb')]"
      ]
     },
     "execution_count": 14,
     "metadata": {},
     "output_type": "execute_result"
    }
   ],
   "source": [
    "filenames.get_paths()"
   ]
  },
  {
   "cell_type": "markdown",
   "metadata": {},
   "source": [
    "# NumPy"
   ]
  },
  {
   "cell_type": "code",
   "execution_count": 15,
   "metadata": {},
   "outputs": [],
   "source": [
    "x = 1"
   ]
  },
  {
   "cell_type": "code",
   "execution_count": 16,
   "metadata": {},
   "outputs": [
    {
     "data": {
      "text/plain": [
       "28"
      ]
     },
     "execution_count": 16,
     "metadata": {},
     "output_type": "execute_result"
    }
   ],
   "source": [
    "import sys\n",
    "sys.getsizeof(x)"
   ]
  },
  {
   "cell_type": "code",
   "execution_count": 17,
   "metadata": {},
   "outputs": [],
   "source": [
    "x = 123414141414141341 ** 1000"
   ]
  },
  {
   "cell_type": "code",
   "execution_count": 18,
   "metadata": {},
   "outputs": [
    {
     "data": {
      "text/plain": [
       "7596"
      ]
     },
     "execution_count": 18,
     "metadata": {},
     "output_type": "execute_result"
    }
   ],
   "source": [
    "sys.getsizeof(x)"
   ]
  },
  {
   "cell_type": "markdown",
   "metadata": {},
   "source": [
    "# NumPy\n",
    "\n",
    "NumPy provides us with a data structure: NumPy ndarray -- n-dimensional array."
   ]
  },
  {
   "cell_type": "code",
   "execution_count": 19,
   "metadata": {},
   "outputs": [],
   "source": [
    "import numpy as np"
   ]
  },
  {
   "cell_type": "code",
   "execution_count": 20,
   "metadata": {},
   "outputs": [],
   "source": [
    "# don't use np.ndarray!\n",
    "\n",
    "a = np.array([10, 20, 30, 40, 50, 60, 70, 80, 90])"
   ]
  },
  {
   "cell_type": "code",
   "execution_count": 21,
   "metadata": {},
   "outputs": [
    {
     "data": {
      "text/plain": [
       "numpy.ndarray"
      ]
     },
     "execution_count": 21,
     "metadata": {},
     "output_type": "execute_result"
    }
   ],
   "source": [
    "type(a)"
   ]
  },
  {
   "cell_type": "code",
   "execution_count": 22,
   "metadata": {},
   "outputs": [
    {
     "data": {
      "text/plain": [
       "array([10, 20, 30, 40, 50, 60, 70, 80, 90])"
      ]
     },
     "execution_count": 22,
     "metadata": {},
     "output_type": "execute_result"
    }
   ],
   "source": [
    "a"
   ]
  },
  {
   "cell_type": "code",
   "execution_count": 23,
   "metadata": {},
   "outputs": [
    {
     "data": {
      "text/plain": [
       "10"
      ]
     },
     "execution_count": 23,
     "metadata": {},
     "output_type": "execute_result"
    }
   ],
   "source": [
    "# can we try some list things?\n",
    "\n",
    "a[0]"
   ]
  },
  {
   "cell_type": "code",
   "execution_count": 24,
   "metadata": {},
   "outputs": [
    {
     "data": {
      "text/plain": [
       "20"
      ]
     },
     "execution_count": 24,
     "metadata": {},
     "output_type": "execute_result"
    }
   ],
   "source": [
    "a[1]"
   ]
  },
  {
   "cell_type": "code",
   "execution_count": 25,
   "metadata": {},
   "outputs": [
    {
     "data": {
      "text/plain": [
       "90"
      ]
     },
     "execution_count": 25,
     "metadata": {},
     "output_type": "execute_result"
    }
   ],
   "source": [
    "a[-1]"
   ]
  },
  {
   "cell_type": "code",
   "execution_count": 26,
   "metadata": {},
   "outputs": [
    {
     "data": {
      "text/plain": [
       "80"
      ]
     },
     "execution_count": 26,
     "metadata": {},
     "output_type": "execute_result"
    }
   ],
   "source": [
    "a[-2]"
   ]
  },
  {
   "cell_type": "code",
   "execution_count": 27,
   "metadata": {},
   "outputs": [
    {
     "data": {
      "text/plain": [
       "array([50, 60, 70])"
      ]
     },
     "execution_count": 27,
     "metadata": {},
     "output_type": "execute_result"
    }
   ],
   "source": [
    "# slice\n",
    "a[4:7]"
   ]
  },
  {
   "cell_type": "code",
   "execution_count": 28,
   "metadata": {},
   "outputs": [
    {
     "data": {
      "text/plain": [
       "array([10, 20, 30, 40, 50, 60, 70, 80, 90])"
      ]
     },
     "execution_count": 28,
     "metadata": {},
     "output_type": "execute_result"
    }
   ],
   "source": [
    "a"
   ]
  },
  {
   "cell_type": "code",
   "execution_count": 29,
   "metadata": {},
   "outputs": [
    {
     "data": {
      "text/plain": [
       "[10, 20, 30, 10, 20, 30]"
      ]
     },
     "execution_count": 29,
     "metadata": {},
     "output_type": "execute_result"
    }
   ],
   "source": [
    "mylist = [10, 20, 30]\n",
    "mylist + mylist"
   ]
  },
  {
   "cell_type": "code",
   "execution_count": 30,
   "metadata": {},
   "outputs": [
    {
     "data": {
      "text/plain": [
       "array([ 20,  40,  60,  80, 100, 120, 140, 160, 180])"
      ]
     },
     "execution_count": 30,
     "metadata": {},
     "output_type": "execute_result"
    }
   ],
   "source": [
    "# add a NumPy array to another array\n",
    "a + a"
   ]
  },
  {
   "cell_type": "code",
   "execution_count": 31,
   "metadata": {},
   "outputs": [
    {
     "ename": "ValueError",
     "evalue": "operands could not be broadcast together with shapes (9,) (2,) ",
     "output_type": "error",
     "traceback": [
      "\u001b[0;31m---------------------------------------------------------------------------\u001b[0m",
      "\u001b[0;31mValueError\u001b[0m                                Traceback (most recent call last)",
      "Cell \u001b[0;32mIn [31], line 3\u001b[0m\n\u001b[1;32m      1\u001b[0m b \u001b[38;5;241m=\u001b[39m np\u001b[38;5;241m.\u001b[39marray([\u001b[38;5;241m100\u001b[39m, \u001b[38;5;241m200\u001b[39m])\n\u001b[0;32m----> 3\u001b[0m \u001b[43ma\u001b[49m\u001b[43m \u001b[49m\u001b[38;5;241;43m+\u001b[39;49m\u001b[43m \u001b[49m\u001b[43mb\u001b[49m\n",
      "\u001b[0;31mValueError\u001b[0m: operands could not be broadcast together with shapes (9,) (2,) "
     ]
    }
   ],
   "source": [
    "b = np.array([100, 200])\n",
    "\n",
    "a + b"
   ]
  },
  {
   "cell_type": "markdown",
   "metadata": {},
   "source": [
    " # Another few ways to create arrays\n",
    " \n"
   ]
  },
  {
   "cell_type": "code",
   "execution_count": null,
   "metadata": {},
   "outputs": [],
   "source": []
  }
 ],
 "metadata": {
  "kernelspec": {
   "display_name": "Python 3 (ipykernel)",
   "language": "python",
   "name": "python3"
  },
  "language_info": {
   "codemirror_mode": {
    "name": "ipython",
    "version": 3
   },
   "file_extension": ".py",
   "mimetype": "text/x-python",
   "name": "python",
   "nbconvert_exporter": "python",
   "pygments_lexer": "ipython3",
   "version": "3.11.3"
  }
 },
 "nbformat": 4,
 "nbformat_minor": 4
}
