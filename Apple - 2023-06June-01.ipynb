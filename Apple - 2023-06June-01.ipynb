{
 "cells": [
  {
   "cell_type": "markdown",
   "metadata": {},
   "source": [
    "# Agenda\n",
    "\n",
    "1. Intro to Jupyter\n",
    "2. NumPy\n",
    "    - Array \n",
    "    - dtypes\n",
    "    - Boolean indexing\n",
    "    - Broadcasting\n",
    "3. Pandas\n",
    "    - Series and data frames\n",
    "    - Setting and retrieving\n",
    "    - Filtering \n",
    "    - String data\n",
    "    - Times and dates\n",
    "    - Sorting\n",
    "    - Grouping\n",
    "    - Pivot tables\n",
    "    - Optimization\n",
    "    - Plotting (esp with Seaborn)"
   ]
  },
  {
   "cell_type": "code",
   "execution_count": 1,
   "metadata": {},
   "outputs": [
    {
     "name": "stdout",
     "output_type": "stream",
     "text": [
      "Hello!\n"
     ]
    }
   ],
   "source": [
    "print('Hello!')"
   ]
  },
  {
   "cell_type": "code",
   "execution_count": 4,
   "metadata": {},
   "outputs": [],
   "source": [
    "x = 102"
   ]
  },
  {
   "cell_type": "code",
   "execution_count": 5,
   "metadata": {},
   "outputs": [
    {
     "name": "stdout",
     "output_type": "stream",
     "text": [
      "102\n"
     ]
    }
   ],
   "source": [
    "print(x)"
   ]
  },
  {
   "cell_type": "markdown",
   "metadata": {},
   "source": [
    "# Two modes\n",
    "\n",
    "- Edit mode -- when I type, the text is placed in the cell. Click in the cell or press ENTER for edit mode. Green outline in edit mode.\n",
    "- Command mode -- anything I type is treated as a Jupyter command. Click to the left of the cell or press ESC for command mode.  Blue outline in command mode.\n",
    "\n",
    "Commands in command mode:\n",
    "- `c` -- copy the cell\n",
    "- `x` -- cut the cell\n",
    "- `v` -- paste the cell\n",
    "- `h` -- help, what keys do what?\n",
    "- `a` -- create a new cell *above* the current one\n",
    "- `b` -- create a new cell *below* the current one\n",
    "- `y` -- turn a cell into a code cell\n",
    "- `m` -- turn a cell into Markdown documentation\n",
    "\n",
    "Shift+ENTER = execute the cell"
   ]
  },
  {
   "cell_type": "code",
   "execution_count": 1,
   "metadata": {},
   "outputs": [
    {
     "name": "stdout",
     "output_type": "stream",
     "text": [
      "Hello\n"
     ]
    }
   ],
   "source": [
    "print('Hello')"
   ]
  },
  {
   "cell_type": "markdown",
   "metadata": {},
   "source": [
    "# Magic commands\n",
    "\n",
    "All magic commands start with `%`."
   ]
  },
  {
   "cell_type": "code",
   "execution_count": 7,
   "metadata": {},
   "outputs": [
    {
     "name": "stdout",
     "output_type": "stream",
     "text": [
      "'Apple - 2023-06June-01.ipynb'\r\n"
     ]
    }
   ],
   "source": [
    "%ls"
   ]
  },
  {
   "cell_type": "code",
   "execution_count": 8,
   "metadata": {},
   "outputs": [
    {
     "name": "stdout",
     "output_type": "stream",
     "text": [
      "6to4.conf.applesaved\t\t       ntp.conf.applesaved\r\n",
      "AFP.conf\t\t\t       ntp_opendirectory.conf\r\n",
      "CiscoSystemsVPNClient@\t\t       openldap/\r\n",
      "X11@\t\t\t\t       openssl/\r\n",
      "afpovertcp.cfg\t\t\t       opt/\r\n",
      "afpovertcp.cfg~orig\t\t       pam.d/\r\n",
      "aliases@\t\t\t       passwd\r\n",
      "aliases.db\t\t\t       passwd~orig\r\n",
      "apache2/\t\t\t       paths\r\n",
      "asl/\t\t\t\t       paths.d/\r\n",
      "asl.conf\t\t\t       paths~orig\r\n",
      "authorization.deprecated\t       pear.conf-previous\r\n",
      "authorization.user_modified\t       periodic/\r\n",
      "auto_home\t\t\t       pf.anchors/\r\n",
      "auto_master\t\t\t       pf.conf\r\n",
      "auto_master~orig\t\t       pf.os\r\n",
      "autofs.conf\t\t\t       php.ini.default-5.2-previous\r\n",
      "bash_completion.d*\t\t       php.ini.default-5.2-previous~orig\r\n",
      "bashrc\t\t\t\t       php.ini.default-previous\r\n",
      "bashrc_Apple_Terminal\t\t       php.ini.default-previous~orig\r\n",
      "bashrc~previous\t\t\t       postfix/\r\n",
      "com.apple.screensharing.agent.launchd  postgres-reg.ini\r\n",
      "crontab\t\t\t\t       ppp/\r\n",
      "crontab.applesaved\t\t       printcap\r\n",
      "csh.cshrc\t\t\t       profile\r\n",
      "csh.cshrc~orig\t\t\t       profile~orig\r\n",
      "csh.login\t\t\t       protocols\r\n",
      "csh.login~orig\t\t\t       protocols~previous\r\n",
      "csh.logout\t\t\t       racoon/\r\n",
      "csh.logout~orig\t\t\t       rc.common\r\n",
      "cups/\t\t\t\t       rc.common~previous\r\n",
      "defaults/\t\t\t       rc.netboot\r\n",
      "dictionaries-common/\t\t       resolv.conf@\r\n",
      "dumpdates\t\t\t       resolver/\r\n",
      "efax.rc~previous\t\t       rmtab\r\n",
      "emacs/\t\t\t\t       rpc\r\n",
      "find.codes\t\t\t       rpc~previous\r\n",
      "find.codes~orig\t\t\t       rtadvd.conf\r\n",
      "fonts/\t\t\t\t       rtadvd.conf.applesaved\r\n",
      "fstab\t\t\t\t       rtadvd.conf~previous\r\n",
      "fstab.hd~previous\t\t       security/\r\n",
      "ftpusers\t\t\t       services\r\n",
      "ftpusers~orig\t\t\t       services~previous\r\n",
      "gettytab\t\t\t       shells\r\n",
      "gettytab~orig\t\t\t       shells~orig\r\n",
      "group\t\t\t\t       slpsa.conf\r\n",
      "group~previous\t\t\t       slpsa.conf.applesaved\r\n",
      "hostconfig\t\t\t       smb.conf.applesaved\r\n",
      "hostconfig.system_default\t       smb.conf.old\r\n",
      "hosts\t\t\t\t       snmp/\r\n",
      "hosts.equiv\t\t\t       ssh/\r\n",
      "hosts.lpd\t\t\t       ssh_config.applesaved\r\n",
      "hosts~orig\t\t\t       ssh_config.system_default\r\n",
      "inetd.conf.applesaved\t\t       ssh_config~orig\r\n",
      "irbrc\t\t\t\t       sshd_config.applesaved\r\n",
      "kern_loader.conf\t\t       sshd_config.system_default\r\n",
      "kern_loader.conf.applesaved\t       sshd_config~previous\r\n",
      "kern_loader.conf~previous\t       ssl/\r\n",
      "krb5.keytab\t\t\t       sudo_lecture\r\n",
      "launchd.conf\t\t\t       sudoers\r\n",
      "localtime@\t\t\t       sudoers.d/\r\n",
      "locate.rc\t\t\t       sudoers~\r\n",
      "mail.rc\t\t\t\t       sudoers~orig\r\n",
      "mail.rc~orig\t\t\t       sysctl.conf.pg\r\n",
      "man.conf\t\t\t       syslog.conf\r\n",
      "manpaths\t\t\t       syslog.conf.applesaved\r\n",
      "manpaths.d/\t\t\t       syslog.conf~previous\r\n",
      "master.passwd\t\t\t       ttys\r\n",
      "master.passwd~orig\t\t       ttys.applesaved\r\n",
      "moduli~previous\t\t\t       ttys~previous\r\n",
      "named.conf.applesaved\t\t       uucp/\r\n",
      "networks\t\t\t       wfs/\r\n",
      "networks~orig\t\t\t       xinetd.conf.applesaved\r\n",
      "newsyslog.conf\t\t\t       xinetd.d/\r\n",
      "newsyslog.d/\t\t\t       xinetd.d-migrated2launchd/\r\n",
      "nfs.conf\t\t\t       xtab\r\n",
      "nfs.conf~orig\t\t\t       zprofile\r\n",
      "notify.conf\t\t\t       zshrc\r\n",
      "ntp.conf\t\t\t       zshrc_Apple_Terminal\r\n"
     ]
    }
   ],
   "source": [
    "%ls /etc/"
   ]
  },
  {
   "cell_type": "code",
   "execution_count": 9,
   "metadata": {},
   "outputs": [],
   "source": [
    "x = 100\n",
    "y = [10, 20, 30]\n",
    "z = {'a':10, 'b':20}"
   ]
  },
  {
   "cell_type": "code",
   "execution_count": 10,
   "metadata": {},
   "outputs": [
    {
     "name": "stdout",
     "output_type": "stream",
     "text": [
      "Variable   Type    Data/Info\n",
      "----------------------------\n",
      "x          int     100\n",
      "y          list    n=3\n",
      "z          dict    n=2\n"
     ]
    }
   ],
   "source": [
    "%whos"
   ]
  },
  {
   "cell_type": "code",
   "execution_count": 14,
   "metadata": {},
   "outputs": [],
   "source": [
    "def hello(name):\n",
    "    x += 1\n",
    "    return f'Hello, {name}!'"
   ]
  },
  {
   "cell_type": "code",
   "execution_count": 15,
   "metadata": {},
   "outputs": [
    {
     "ename": "UnboundLocalError",
     "evalue": "cannot access local variable 'x' where it is not associated with a value",
     "output_type": "error",
     "traceback": [
      "\u001b[0;31m---------------------------------------------------------------------------\u001b[0m",
      "\u001b[0;31mUnboundLocalError\u001b[0m                         Traceback (most recent call last)",
      "Cell \u001b[0;32mIn [15], line 1\u001b[0m\n\u001b[0;32m----> 1\u001b[0m \u001b[43mhello\u001b[49m\u001b[43m(\u001b[49m\u001b[38;5;124;43m'\u001b[39;49m\u001b[38;5;124;43mworld\u001b[39;49m\u001b[38;5;124;43m'\u001b[39;49m\u001b[43m)\u001b[49m\n",
      "Cell \u001b[0;32mIn [14], line 2\u001b[0m, in \u001b[0;36mhello\u001b[0;34m(name)\u001b[0m\n\u001b[1;32m      1\u001b[0m \u001b[38;5;28;01mdef\u001b[39;00m \u001b[38;5;21mhello\u001b[39m(name):\n\u001b[0;32m----> 2\u001b[0m     \u001b[43mx\u001b[49m \u001b[38;5;241m+\u001b[39m\u001b[38;5;241m=\u001b[39m \u001b[38;5;241m1\u001b[39m\n\u001b[1;32m      3\u001b[0m     \u001b[38;5;28;01mreturn\u001b[39;00m \u001b[38;5;124mf\u001b[39m\u001b[38;5;124m'\u001b[39m\u001b[38;5;124mHello, \u001b[39m\u001b[38;5;132;01m{\u001b[39;00mname\u001b[38;5;132;01m}\u001b[39;00m\u001b[38;5;124m!\u001b[39m\u001b[38;5;124m'\u001b[39m\n",
      "\u001b[0;31mUnboundLocalError\u001b[0m: cannot access local variable 'x' where it is not associated with a value"
     ]
    }
   ],
   "source": [
    "hello('world')"
   ]
  },
  {
   "cell_type": "code",
   "execution_count": 16,
   "metadata": {},
   "outputs": [
    {
     "name": "stdout",
     "output_type": "stream",
     "text": [
      "> \u001b[0;32m/var/folders/d9/v8tsklln4477fll05wkgcpth0000gn/T/ipykernel_36788/1902841121.py\u001b[0m(2)\u001b[0;36mhello\u001b[0;34m()\u001b[0m\n",
      "\u001b[0;32m      1 \u001b[0;31m\u001b[0;32mdef\u001b[0m \u001b[0mhello\u001b[0m\u001b[0;34m(\u001b[0m\u001b[0mname\u001b[0m\u001b[0;34m)\u001b[0m\u001b[0;34m:\u001b[0m\u001b[0;34m\u001b[0m\u001b[0;34m\u001b[0m\u001b[0m\n",
      "\u001b[0m\u001b[0;32m----> 2 \u001b[0;31m    \u001b[0mx\u001b[0m \u001b[0;34m+=\u001b[0m \u001b[0;36m1\u001b[0m\u001b[0;34m\u001b[0m\u001b[0;34m\u001b[0m\u001b[0m\n",
      "\u001b[0m\u001b[0;32m      3 \u001b[0;31m    \u001b[0;32mreturn\u001b[0m \u001b[0;34mf'Hello, {name}!'\u001b[0m\u001b[0;34m\u001b[0m\u001b[0;34m\u001b[0m\u001b[0m\n",
      "\u001b[0m\n",
      "ipdb> q\n"
     ]
    }
   ],
   "source": [
    "%debug"
   ]
  },
  {
   "cell_type": "code",
   "execution_count": 17,
   "metadata": {},
   "outputs": [],
   "source": [
    "%magic"
   ]
  },
  {
   "cell_type": "code",
   "execution_count": 18,
   "metadata": {},
   "outputs": [
    {
     "data": {
      "application/javascript": [
       "IPython.notebook.set_autosave_interval(30000)"
      ]
     },
     "metadata": {},
     "output_type": "display_data"
    },
    {
     "name": "stdout",
     "output_type": "stream",
     "text": [
      "Autosaving every 30 seconds\n"
     ]
    }
   ],
   "source": [
    "%autosave 30"
   ]
  },
  {
   "cell_type": "code",
   "execution_count": 2,
   "metadata": {},
   "outputs": [
    {
     "name": "stdout",
     "output_type": "stream",
     "text": [
      "6to4.conf.applesaved\t\t       ntp.conf.applesaved\r\n",
      "AFP.conf\t\t\t       ntp_opendirectory.conf\r\n",
      "CiscoSystemsVPNClient\t\t       openldap\r\n",
      "X11\t\t\t\t       openssl\r\n",
      "afpovertcp.cfg\t\t\t       opt\r\n",
      "afpovertcp.cfg~orig\t\t       pam.d\r\n",
      "aliases\t\t\t\t       passwd\r\n",
      "aliases.db\t\t\t       passwd~orig\r\n",
      "apache2\t\t\t\t       paths\r\n",
      "asl\t\t\t\t       paths.d\r\n",
      "asl.conf\t\t\t       paths~orig\r\n",
      "authorization.deprecated\t       pear.conf-previous\r\n",
      "authorization.user_modified\t       periodic\r\n",
      "auto_home\t\t\t       pf.anchors\r\n",
      "auto_master\t\t\t       pf.conf\r\n",
      "auto_master~orig\t\t       pf.os\r\n",
      "autofs.conf\t\t\t       php.ini.default-5.2-previous\r\n",
      "bash_completion.d\t\t       php.ini.default-5.2-previous~orig\r\n",
      "bashrc\t\t\t\t       php.ini.default-previous\r\n",
      "bashrc_Apple_Terminal\t\t       php.ini.default-previous~orig\r\n",
      "bashrc~previous\t\t\t       postfix\r\n",
      "com.apple.screensharing.agent.launchd  postgres-reg.ini\r\n",
      "crontab\t\t\t\t       ppp\r\n",
      "crontab.applesaved\t\t       printcap\r\n",
      "csh.cshrc\t\t\t       profile\r\n",
      "csh.cshrc~orig\t\t\t       profile~orig\r\n",
      "csh.login\t\t\t       protocols\r\n",
      "csh.login~orig\t\t\t       protocols~previous\r\n",
      "csh.logout\t\t\t       racoon\r\n",
      "csh.logout~orig\t\t\t       rc.common\r\n",
      "cups\t\t\t\t       rc.common~previous\r\n",
      "defaults\t\t\t       rc.netboot\r\n",
      "dictionaries-common\t\t       resolv.conf\r\n",
      "dumpdates\t\t\t       resolver\r\n",
      "efax.rc~previous\t\t       rmtab\r\n",
      "emacs\t\t\t\t       rpc\r\n",
      "find.codes\t\t\t       rpc~previous\r\n",
      "find.codes~orig\t\t\t       rtadvd.conf\r\n",
      "fonts\t\t\t\t       rtadvd.conf.applesaved\r\n",
      "fstab\t\t\t\t       rtadvd.conf~previous\r\n",
      "fstab.hd~previous\t\t       security\r\n",
      "ftpusers\t\t\t       services\r\n",
      "ftpusers~orig\t\t\t       services~previous\r\n",
      "gettytab\t\t\t       shells\r\n",
      "gettytab~orig\t\t\t       shells~orig\r\n",
      "group\t\t\t\t       slpsa.conf\r\n",
      "group~previous\t\t\t       slpsa.conf.applesaved\r\n",
      "hostconfig\t\t\t       smb.conf.applesaved\r\n",
      "hostconfig.system_default\t       smb.conf.old\r\n",
      "hosts\t\t\t\t       snmp\r\n",
      "hosts.equiv\t\t\t       ssh\r\n",
      "hosts.lpd\t\t\t       ssh_config.applesaved\r\n",
      "hosts~orig\t\t\t       ssh_config.system_default\r\n",
      "inetd.conf.applesaved\t\t       ssh_config~orig\r\n",
      "irbrc\t\t\t\t       sshd_config.applesaved\r\n",
      "kern_loader.conf\t\t       sshd_config.system_default\r\n",
      "kern_loader.conf.applesaved\t       sshd_config~previous\r\n",
      "kern_loader.conf~previous\t       ssl\r\n",
      "krb5.keytab\t\t\t       sudo_lecture\r\n",
      "launchd.conf\t\t\t       sudoers\r\n",
      "localtime\t\t\t       sudoers.d\r\n",
      "locate.rc\t\t\t       sudoers~\r\n",
      "mail.rc\t\t\t\t       sudoers~orig\r\n",
      "mail.rc~orig\t\t\t       sysctl.conf.pg\r\n",
      "man.conf\t\t\t       syslog.conf\r\n",
      "manpaths\t\t\t       syslog.conf.applesaved\r\n",
      "manpaths.d\t\t\t       syslog.conf~previous\r\n",
      "master.passwd\t\t\t       ttys\r\n",
      "master.passwd~orig\t\t       ttys.applesaved\r\n",
      "moduli~previous\t\t\t       ttys~previous\r\n",
      "named.conf.applesaved\t\t       uucp\r\n",
      "networks\t\t\t       wfs\r\n",
      "networks~orig\t\t\t       xinetd.conf.applesaved\r\n",
      "newsyslog.conf\t\t\t       xinetd.d\r\n",
      "newsyslog.d\t\t\t       xinetd.d-migrated2launchd\r\n",
      "nfs.conf\t\t\t       xtab\r\n",
      "nfs.conf~orig\t\t\t       zprofile\r\n",
      "notify.conf\t\t\t       zshrc\r\n",
      "ntp.conf\t\t\t       zshrc_Apple_Terminal\r\n"
     ]
    }
   ],
   "source": [
    "!ls /etc/"
   ]
  },
  {
   "cell_type": "code",
   "execution_count": 12,
   "metadata": {},
   "outputs": [],
   "source": [
    "filenames = !ls"
   ]
  },
  {
   "cell_type": "code",
   "execution_count": 13,
   "metadata": {},
   "outputs": [
    {
     "data": {
      "text/plain": [
       "IPython.utils.text.SList"
      ]
     },
     "execution_count": 13,
     "metadata": {},
     "output_type": "execute_result"
    }
   ],
   "source": [
    "type(filenames)"
   ]
  },
  {
   "cell_type": "code",
   "execution_count": 14,
   "metadata": {},
   "outputs": [
    {
     "data": {
      "text/plain": [
       "[PosixPath('Apple - 2023-06June-01.ipynb')]"
      ]
     },
     "execution_count": 14,
     "metadata": {},
     "output_type": "execute_result"
    }
   ],
   "source": [
    "filenames.get_paths()"
   ]
  },
  {
   "cell_type": "markdown",
   "metadata": {},
   "source": [
    "# NumPy"
   ]
  },
  {
   "cell_type": "code",
   "execution_count": 15,
   "metadata": {},
   "outputs": [],
   "source": [
    "x = 1"
   ]
  },
  {
   "cell_type": "code",
   "execution_count": 16,
   "metadata": {},
   "outputs": [
    {
     "data": {
      "text/plain": [
       "28"
      ]
     },
     "execution_count": 16,
     "metadata": {},
     "output_type": "execute_result"
    }
   ],
   "source": [
    "import sys\n",
    "sys.getsizeof(x)"
   ]
  },
  {
   "cell_type": "code",
   "execution_count": 17,
   "metadata": {},
   "outputs": [],
   "source": [
    "x = 123414141414141341 ** 1000"
   ]
  },
  {
   "cell_type": "code",
   "execution_count": 18,
   "metadata": {},
   "outputs": [
    {
     "data": {
      "text/plain": [
       "7596"
      ]
     },
     "execution_count": 18,
     "metadata": {},
     "output_type": "execute_result"
    }
   ],
   "source": [
    "sys.getsizeof(x)"
   ]
  },
  {
   "cell_type": "markdown",
   "metadata": {},
   "source": [
    "# NumPy\n",
    "\n",
    "NumPy provides us with a data structure: NumPy ndarray -- n-dimensional array."
   ]
  },
  {
   "cell_type": "code",
   "execution_count": 19,
   "metadata": {},
   "outputs": [],
   "source": [
    "import numpy as np"
   ]
  },
  {
   "cell_type": "code",
   "execution_count": 20,
   "metadata": {},
   "outputs": [],
   "source": [
    "# don't use np.ndarray!\n",
    "\n",
    "a = np.array([10, 20, 30, 40, 50, 60, 70, 80, 90])"
   ]
  },
  {
   "cell_type": "code",
   "execution_count": 21,
   "metadata": {},
   "outputs": [
    {
     "data": {
      "text/plain": [
       "numpy.ndarray"
      ]
     },
     "execution_count": 21,
     "metadata": {},
     "output_type": "execute_result"
    }
   ],
   "source": [
    "type(a)"
   ]
  },
  {
   "cell_type": "code",
   "execution_count": 22,
   "metadata": {},
   "outputs": [
    {
     "data": {
      "text/plain": [
       "array([10, 20, 30, 40, 50, 60, 70, 80, 90])"
      ]
     },
     "execution_count": 22,
     "metadata": {},
     "output_type": "execute_result"
    }
   ],
   "source": [
    "a"
   ]
  },
  {
   "cell_type": "code",
   "execution_count": 23,
   "metadata": {},
   "outputs": [
    {
     "data": {
      "text/plain": [
       "10"
      ]
     },
     "execution_count": 23,
     "metadata": {},
     "output_type": "execute_result"
    }
   ],
   "source": [
    "# can we try some list things?\n",
    "\n",
    "a[0]"
   ]
  },
  {
   "cell_type": "code",
   "execution_count": 24,
   "metadata": {},
   "outputs": [
    {
     "data": {
      "text/plain": [
       "20"
      ]
     },
     "execution_count": 24,
     "metadata": {},
     "output_type": "execute_result"
    }
   ],
   "source": [
    "a[1]"
   ]
  },
  {
   "cell_type": "code",
   "execution_count": 25,
   "metadata": {},
   "outputs": [
    {
     "data": {
      "text/plain": [
       "90"
      ]
     },
     "execution_count": 25,
     "metadata": {},
     "output_type": "execute_result"
    }
   ],
   "source": [
    "a[-1]"
   ]
  },
  {
   "cell_type": "code",
   "execution_count": 26,
   "metadata": {},
   "outputs": [
    {
     "data": {
      "text/plain": [
       "80"
      ]
     },
     "execution_count": 26,
     "metadata": {},
     "output_type": "execute_result"
    }
   ],
   "source": [
    "a[-2]"
   ]
  },
  {
   "cell_type": "code",
   "execution_count": 27,
   "metadata": {},
   "outputs": [
    {
     "data": {
      "text/plain": [
       "array([50, 60, 70])"
      ]
     },
     "execution_count": 27,
     "metadata": {},
     "output_type": "execute_result"
    }
   ],
   "source": [
    "# slice\n",
    "a[4:7]"
   ]
  },
  {
   "cell_type": "code",
   "execution_count": 28,
   "metadata": {},
   "outputs": [
    {
     "data": {
      "text/plain": [
       "array([10, 20, 30, 40, 50, 60, 70, 80, 90])"
      ]
     },
     "execution_count": 28,
     "metadata": {},
     "output_type": "execute_result"
    }
   ],
   "source": [
    "a"
   ]
  },
  {
   "cell_type": "code",
   "execution_count": 29,
   "metadata": {},
   "outputs": [
    {
     "data": {
      "text/plain": [
       "[10, 20, 30, 10, 20, 30]"
      ]
     },
     "execution_count": 29,
     "metadata": {},
     "output_type": "execute_result"
    }
   ],
   "source": [
    "mylist = [10, 20, 30]\n",
    "mylist + mylist"
   ]
  },
  {
   "cell_type": "code",
   "execution_count": 30,
   "metadata": {},
   "outputs": [
    {
     "data": {
      "text/plain": [
       "array([ 20,  40,  60,  80, 100, 120, 140, 160, 180])"
      ]
     },
     "execution_count": 30,
     "metadata": {},
     "output_type": "execute_result"
    }
   ],
   "source": [
    "# add a NumPy array to another array\n",
    "a + a"
   ]
  },
  {
   "cell_type": "code",
   "execution_count": 31,
   "metadata": {},
   "outputs": [
    {
     "ename": "ValueError",
     "evalue": "operands could not be broadcast together with shapes (9,) (2,) ",
     "output_type": "error",
     "traceback": [
      "\u001b[0;31m---------------------------------------------------------------------------\u001b[0m",
      "\u001b[0;31mValueError\u001b[0m                                Traceback (most recent call last)",
      "Cell \u001b[0;32mIn [31], line 3\u001b[0m\n\u001b[1;32m      1\u001b[0m b \u001b[38;5;241m=\u001b[39m np\u001b[38;5;241m.\u001b[39marray([\u001b[38;5;241m100\u001b[39m, \u001b[38;5;241m200\u001b[39m])\n\u001b[0;32m----> 3\u001b[0m \u001b[43ma\u001b[49m\u001b[43m \u001b[49m\u001b[38;5;241;43m+\u001b[39;49m\u001b[43m \u001b[49m\u001b[43mb\u001b[49m\n",
      "\u001b[0;31mValueError\u001b[0m: operands could not be broadcast together with shapes (9,) (2,) "
     ]
    }
   ],
   "source": [
    "b = np.array([100, 200])\n",
    "\n",
    "a + b"
   ]
  },
  {
   "cell_type": "markdown",
   "metadata": {},
   "source": [
    " # Another few ways to create arrays\n",
    " \n"
   ]
  },
  {
   "cell_type": "code",
   "execution_count": 32,
   "metadata": {},
   "outputs": [
    {
     "data": {
      "text/plain": [
       "array([10, 11, 12, 13, 14, 15, 16, 17, 18, 19])"
      ]
     },
     "execution_count": 32,
     "metadata": {},
     "output_type": "execute_result"
    }
   ],
   "source": [
    "# we could do this...\n",
    "a = np.array(range(10, 20))\n",
    "a"
   ]
  },
  {
   "cell_type": "code",
   "execution_count": 33,
   "metadata": {},
   "outputs": [
    {
     "data": {
      "text/plain": [
       "array([10, 11, 12, 13, 14, 15, 16, 17, 18, 19])"
      ]
     },
     "execution_count": 33,
     "metadata": {},
     "output_type": "execute_result"
    }
   ],
   "source": [
    "# ... but instead, we should do this:\n",
    "a = np.arange(10, 20)\n",
    "a"
   ]
  },
  {
   "cell_type": "code",
   "execution_count": 34,
   "metadata": {},
   "outputs": [
    {
     "data": {
      "text/plain": [
       "array([1., 1., 1., 1., 1., 1., 1., 1., 1., 1.])"
      ]
     },
     "execution_count": 34,
     "metadata": {},
     "output_type": "execute_result"
    }
   ],
   "source": [
    "# get a bunch of ones\n",
    "np.ones(10)"
   ]
  },
  {
   "cell_type": "code",
   "execution_count": 35,
   "metadata": {},
   "outputs": [
    {
     "data": {
      "text/plain": [
       "array([0., 0., 0., 0., 0., 0., 0., 0., 0., 0.])"
      ]
     },
     "execution_count": 35,
     "metadata": {},
     "output_type": "execute_result"
    }
   ],
   "source": [
    "# get a bunch of zeroes\n",
    "np.zeros(10)"
   ]
  },
  {
   "cell_type": "code",
   "execution_count": 37,
   "metadata": {},
   "outputs": [
    {
     "data": {
      "text/plain": [
       "array([44, 47, 64, 67, 67])"
      ]
     },
     "execution_count": 37,
     "metadata": {},
     "output_type": "execute_result"
    }
   ],
   "source": [
    "# what about random numbers?\n",
    "np.random.seed(0)\n",
    "np.random.randint(0, 100, 5)   # 5 numbers from 0-100"
   ]
  },
  {
   "cell_type": "code",
   "execution_count": 38,
   "metadata": {
    "collapsed": true
   },
   "outputs": [
    {
     "name": "stdout",
     "output_type": "stream",
     "text": [
      "Help on built-in function randint:\n",
      "\n",
      "randint(...) method of numpy.random.mtrand.RandomState instance\n",
      "    randint(low, high=None, size=None, dtype=int)\n",
      "    \n",
      "    Return random integers from `low` (inclusive) to `high` (exclusive).\n",
      "    \n",
      "    Return random integers from the \"discrete uniform\" distribution of\n",
      "    the specified dtype in the \"half-open\" interval [`low`, `high`). If\n",
      "    `high` is None (the default), then results are from [0, `low`).\n",
      "    \n",
      "    .. note::\n",
      "        New code should use the `~numpy.random.Generator.randint`\n",
      "        method of a `~numpy.random.Generator` instance instead;\n",
      "        please see the :ref:`random-quick-start`.\n",
      "    \n",
      "    Parameters\n",
      "    ----------\n",
      "    low : int or array-like of ints\n",
      "        Lowest (signed) integers to be drawn from the distribution (unless\n",
      "        ``high=None``, in which case this parameter is one above the\n",
      "        *highest* such integer).\n",
      "    high : int or array-like of ints, optional\n",
      "        If provided, one above the largest (signed) integer to be drawn\n",
      "        from the distribution (see above for behavior if ``high=None``).\n",
      "        If array-like, must contain integer values\n",
      "    size : int or tuple of ints, optional\n",
      "        Output shape.  If the given shape is, e.g., ``(m, n, k)``, then\n",
      "        ``m * n * k`` samples are drawn.  Default is None, in which case a\n",
      "        single value is returned.\n",
      "    dtype : dtype, optional\n",
      "        Desired dtype of the result. Byteorder must be native.\n",
      "        The default value is int.\n",
      "    \n",
      "        .. versionadded:: 1.11.0\n",
      "    \n",
      "    Returns\n",
      "    -------\n",
      "    out : int or ndarray of ints\n",
      "        `size`-shaped array of random integers from the appropriate\n",
      "        distribution, or a single such random int if `size` not provided.\n",
      "    \n",
      "    See Also\n",
      "    --------\n",
      "    random_integers : similar to `randint`, only for the closed\n",
      "        interval [`low`, `high`], and 1 is the lowest value if `high` is\n",
      "        omitted.\n",
      "    random.Generator.integers: which should be used for new code.\n",
      "    \n",
      "    Examples\n",
      "    --------\n",
      "    >>> np.random.randint(2, size=10)\n",
      "    array([1, 0, 0, 0, 1, 1, 0, 0, 1, 0]) # random\n",
      "    >>> np.random.randint(1, size=10)\n",
      "    array([0, 0, 0, 0, 0, 0, 0, 0, 0, 0])\n",
      "    \n",
      "    Generate a 2 x 4 array of ints between 0 and 4, inclusive:\n",
      "    \n",
      "    >>> np.random.randint(5, size=(2, 4))\n",
      "    array([[4, 0, 2, 1], # random\n",
      "           [3, 2, 2, 0]])\n",
      "    \n",
      "    Generate a 1 x 3 array with 3 different upper bounds\n",
      "    \n",
      "    >>> np.random.randint(1, [3, 5, 10])\n",
      "    array([2, 2, 9]) # random\n",
      "    \n",
      "    Generate a 1 by 3 array with 3 different lower bounds\n",
      "    \n",
      "    >>> np.random.randint([1, 5, 7], 10)\n",
      "    array([9, 8, 7]) # random\n",
      "    \n",
      "    Generate a 2 by 4 array using broadcasting with dtype of uint8\n",
      "    \n",
      "    >>> np.random.randint([1, 3, 5, 7], [[10], [20]], dtype=np.uint8)\n",
      "    array([[ 8,  6,  9,  7], # random\n",
      "           [ 1, 16,  9, 12]], dtype=uint8)\n",
      "\n"
     ]
    }
   ],
   "source": [
    "help(np.random.randint)"
   ]
  },
  {
   "cell_type": "code",
   "execution_count": 39,
   "metadata": {},
   "outputs": [
    {
     "data": {
      "text/plain": [
       "array([0.84725174, 0.6235637 , 0.38438171, 0.29753461, 0.05671298,\n",
       "       0.27265629, 0.47766512, 0.81216873, 0.47997717, 0.3927848 ])"
      ]
     },
     "execution_count": 39,
     "metadata": {},
     "output_type": "execute_result"
    }
   ],
   "source": [
    "# what about random floats?\n",
    "\n",
    "np.random.rand(10)   # how many numbers"
   ]
  },
  {
   "cell_type": "code",
   "execution_count": 40,
   "metadata": {},
   "outputs": [
    {
     "data": {
      "text/plain": [
       "array([10, 11, 12, 13, 14, 15, 16, 17, 18, 19])"
      ]
     },
     "execution_count": 40,
     "metadata": {},
     "output_type": "execute_result"
    }
   ],
   "source": [
    "a"
   ]
  },
  {
   "cell_type": "code",
   "execution_count": 41,
   "metadata": {},
   "outputs": [
    {
     "data": {
      "text/plain": [
       "13"
      ]
     },
     "execution_count": 41,
     "metadata": {},
     "output_type": "execute_result"
    }
   ],
   "source": [
    "# I want index 3\n",
    "a[3]"
   ]
  },
  {
   "cell_type": "code",
   "execution_count": 42,
   "metadata": {},
   "outputs": [
    {
     "data": {
      "text/plain": [
       "15"
      ]
     },
     "execution_count": 42,
     "metadata": {},
     "output_type": "execute_result"
    }
   ],
   "source": [
    "# I want index 5\n",
    "a[5]"
   ]
  },
  {
   "cell_type": "code",
   "execution_count": 44,
   "metadata": {},
   "outputs": [
    {
     "data": {
      "text/plain": [
       "array([13, 15])"
      ]
     },
     "execution_count": 44,
     "metadata": {},
     "output_type": "execute_result"
    }
   ],
   "source": [
    "# I want indexes 3 and 5 -- fancy indexing\n",
    "a[ [3,5] ]"
   ]
  },
  {
   "cell_type": "code",
   "execution_count": null,
   "metadata": {},
   "outputs": [],
   "source": []
  }
 ],
 "metadata": {
  "kernelspec": {
   "display_name": "Python 3 (ipykernel)",
   "language": "python",
   "name": "python3"
  },
  "language_info": {
   "codemirror_mode": {
    "name": "ipython",
    "version": 3
   },
   "file_extension": ".py",
   "mimetype": "text/x-python",
   "name": "python",
   "nbconvert_exporter": "python",
   "pygments_lexer": "ipython3",
   "version": "3.11.3"
  }
 },
 "nbformat": 4,
 "nbformat_minor": 4
}
