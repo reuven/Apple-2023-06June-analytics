{
 "cells": [
  {
   "cell_type": "markdown",
   "id": "d8a9d3b8",
   "metadata": {},
   "source": [
    "# Agenda\n",
    "\n",
    "1. String in a series\n",
    "2. Data frame\n",
    "    - Creating\n",
    "    - Retrieving from a data frame\n",
    "    - Methods on a data frame"
   ]
  },
  {
   "cell_type": "code",
   "execution_count": 2,
   "id": "e20553e9",
   "metadata": {},
   "outputs": [],
   "source": [
    "import numpy as np\n",
    "import pandas as pd\n",
    "from pandas import Series, DataFrame"
   ]
  },
  {
   "cell_type": "code",
   "execution_count": 3,
   "id": "978380d9",
   "metadata": {},
   "outputs": [
    {
     "data": {
      "text/plain": [
       "0    10\n",
       "1    20\n",
       "2    30\n",
       "dtype: int64"
      ]
     },
     "execution_count": 3,
     "metadata": {},
     "output_type": "execute_result"
    }
   ],
   "source": [
    "s = Series([10, 20, 30])\n",
    "s"
   ]
  },
  {
   "cell_type": "code",
   "execution_count": 4,
   "id": "943d2fbb",
   "metadata": {},
   "outputs": [
    {
     "data": {
      "text/plain": [
       "0    10\n",
       "1    20\n",
       "2    30\n",
       "dtype: int8"
      ]
     },
     "execution_count": 4,
     "metadata": {},
     "output_type": "execute_result"
    }
   ],
   "source": [
    "s = Series([10, 20, 30], dtype=np.int8)\n",
    "s"
   ]
  },
  {
   "cell_type": "code",
   "execution_count": 5,
   "id": "03d8ac8b",
   "metadata": {},
   "outputs": [
    {
     "data": {
      "text/plain": [
       "dtype('int8')"
      ]
     },
     "execution_count": 5,
     "metadata": {},
     "output_type": "execute_result"
    }
   ],
   "source": [
    "s.dtype"
   ]
  },
  {
   "cell_type": "code",
   "execution_count": 6,
   "id": "f3f904d6",
   "metadata": {},
   "outputs": [
    {
     "ename": "AttributeError",
     "evalue": "property 'dtype' of 'Series' object has no setter",
     "output_type": "error",
     "traceback": [
      "\u001b[0;31m---------------------------------------------------------------------------\u001b[0m",
      "\u001b[0;31mAttributeError\u001b[0m                            Traceback (most recent call last)",
      "File \u001b[0;32m/usr/local/lib/python3.11/site-packages/pandas/core/generic.py:6020\u001b[0m, in \u001b[0;36mNDFrame.__setattr__\u001b[0;34m(self, name, value)\u001b[0m\n\u001b[1;32m   6019\u001b[0m     \u001b[38;5;28;01melse\u001b[39;00m:\n\u001b[0;32m-> 6020\u001b[0m         \u001b[38;5;28;43mobject\u001b[39;49m\u001b[38;5;241;43m.\u001b[39;49m\u001b[38;5;21;43m__setattr__\u001b[39;49m\u001b[43m(\u001b[49m\u001b[38;5;28;43mself\u001b[39;49m\u001b[43m,\u001b[49m\u001b[43m \u001b[49m\u001b[43mname\u001b[49m\u001b[43m,\u001b[49m\u001b[43m \u001b[49m\u001b[43mvalue\u001b[49m\u001b[43m)\u001b[49m\n\u001b[1;32m   6021\u001b[0m \u001b[38;5;28;01mexcept\u001b[39;00m (\u001b[38;5;167;01mAttributeError\u001b[39;00m, \u001b[38;5;167;01mTypeError\u001b[39;00m):\n",
      "\u001b[0;31mAttributeError\u001b[0m: property 'dtype' of 'Series' object has no setter",
      "\nDuring handling of the above exception, another exception occurred:\n",
      "\u001b[0;31mAttributeError\u001b[0m                            Traceback (most recent call last)",
      "Cell \u001b[0;32mIn [6], line 1\u001b[0m\n\u001b[0;32m----> 1\u001b[0m \u001b[43ms\u001b[49m\u001b[38;5;241;43m.\u001b[39;49m\u001b[43mdtype\u001b[49m \u001b[38;5;241m=\u001b[39m np\u001b[38;5;241m.\u001b[39mfloat16\n",
      "File \u001b[0;32m/usr/local/lib/python3.11/site-packages/pandas/core/generic.py:6030\u001b[0m, in \u001b[0;36mNDFrame.__setattr__\u001b[0;34m(self, name, value)\u001b[0m\n\u001b[1;32m   6022\u001b[0m \u001b[38;5;28;01mif\u001b[39;00m \u001b[38;5;28misinstance\u001b[39m(\u001b[38;5;28mself\u001b[39m, ABCDataFrame) \u001b[38;5;129;01mand\u001b[39;00m (is_list_like(value)):\n\u001b[1;32m   6023\u001b[0m     warnings\u001b[38;5;241m.\u001b[39mwarn(\n\u001b[1;32m   6024\u001b[0m         \u001b[38;5;124m\"\u001b[39m\u001b[38;5;124mPandas doesn\u001b[39m\u001b[38;5;124m'\u001b[39m\u001b[38;5;124mt allow columns to be \u001b[39m\u001b[38;5;124m\"\u001b[39m\n\u001b[1;32m   6025\u001b[0m         \u001b[38;5;124m\"\u001b[39m\u001b[38;5;124mcreated via a new attribute name - see \u001b[39m\u001b[38;5;124m\"\u001b[39m\n\u001b[0;32m   (...)\u001b[0m\n\u001b[1;32m   6028\u001b[0m         stacklevel\u001b[38;5;241m=\u001b[39mfind_stack_level(),\n\u001b[1;32m   6029\u001b[0m     )\n\u001b[0;32m-> 6030\u001b[0m \u001b[38;5;28;43mobject\u001b[39;49m\u001b[38;5;241;43m.\u001b[39;49m\u001b[38;5;21;43m__setattr__\u001b[39;49m\u001b[43m(\u001b[49m\u001b[38;5;28;43mself\u001b[39;49m\u001b[43m,\u001b[49m\u001b[43m \u001b[49m\u001b[43mname\u001b[49m\u001b[43m,\u001b[49m\u001b[43m \u001b[49m\u001b[43mvalue\u001b[49m\u001b[43m)\u001b[49m\n",
      "\u001b[0;31mAttributeError\u001b[0m: property 'dtype' of 'Series' object has no setter"
     ]
    }
   ],
   "source": [
    "s.dtype = np.float16"
   ]
  },
  {
   "cell_type": "code",
   "execution_count": 7,
   "id": "9ede6663",
   "metadata": {},
   "outputs": [
    {
     "data": {
      "text/plain": [
       "0    10.0\n",
       "1    20.0\n",
       "2    30.0\n",
       "dtype: float16"
      ]
     },
     "execution_count": 7,
     "metadata": {},
     "output_type": "execute_result"
    }
   ],
   "source": [
    "s.astype(np.float16)"
   ]
  },
  {
   "cell_type": "code",
   "execution_count": 8,
   "id": "8817854c",
   "metadata": {},
   "outputs": [
    {
     "data": {
      "text/plain": [
       "array(['hello', 'out', 'there'], dtype='<U5')"
      ]
     },
     "execution_count": 8,
     "metadata": {},
     "output_type": "execute_result"
    }
   ],
   "source": [
    "a = np.array('hello out there'.split())\n",
    "a"
   ]
  },
  {
   "cell_type": "code",
   "execution_count": 9,
   "id": "fff2bfc1",
   "metadata": {},
   "outputs": [],
   "source": [
    "s = Series('hello out there'.split())"
   ]
  },
  {
   "cell_type": "code",
   "execution_count": 10,
   "id": "ffa4c037",
   "metadata": {},
   "outputs": [
    {
     "data": {
      "text/plain": [
       "0    hello\n",
       "1      out\n",
       "2    there\n",
       "dtype: object"
      ]
     },
     "execution_count": 10,
     "metadata": {},
     "output_type": "execute_result"
    }
   ],
   "source": [
    "s"
   ]
  },
  {
   "cell_type": "code",
   "execution_count": 12,
   "id": "b4acca8f",
   "metadata": {},
   "outputs": [
    {
     "name": "stdout",
     "output_type": "stream",
     "text": [
      "5\n",
      "3\n",
      "5\n"
     ]
    }
   ],
   "source": [
    "# I want the length of each word\n",
    "\n",
    "# don't ever do this!\n",
    "for one_word in s:\n",
    "    print(len(one_word))"
   ]
  },
  {
   "cell_type": "code",
   "execution_count": 13,
   "id": "8a1598ff",
   "metadata": {},
   "outputs": [
    {
     "data": {
      "text/plain": [
       "<pandas.core.strings.accessor.StringMethods at 0x12adb01d0>"
      ]
     },
     "execution_count": 13,
     "metadata": {},
     "output_type": "execute_result"
    }
   ],
   "source": [
    "s.str       # str accessor"
   ]
  },
  {
   "cell_type": "code",
   "execution_count": 14,
   "id": "59d32b15",
   "metadata": {},
   "outputs": [
    {
     "data": {
      "text/plain": [
       "0    5\n",
       "1    3\n",
       "2    5\n",
       "dtype: int64"
      ]
     },
     "execution_count": 14,
     "metadata": {},
     "output_type": "execute_result"
    }
   ],
   "source": [
    "s.str.len()"
   ]
  },
  {
   "cell_type": "code",
   "execution_count": 15,
   "id": "930cbf44",
   "metadata": {},
   "outputs": [
    {
     "data": {
      "text/plain": [
       "0     True\n",
       "1    False\n",
       "2     True\n",
       "dtype: bool"
      ]
     },
     "execution_count": 15,
     "metadata": {},
     "output_type": "execute_result"
    }
   ],
   "source": [
    "# which words have 'e' in them?\n",
    "\n",
    "s.str.contains('e')"
   ]
  },
  {
   "cell_type": "code",
   "execution_count": 16,
   "id": "a697830b",
   "metadata": {},
   "outputs": [
    {
     "data": {
      "text/plain": [
       "0    hello\n",
       "2    there\n",
       "dtype: object"
      ]
     },
     "execution_count": 16,
     "metadata": {},
     "output_type": "execute_result"
    }
   ],
   "source": [
    "s.loc[s.str.contains('e')]"
   ]
  },
  {
   "cell_type": "code",
   "execution_count": 17,
   "id": "647a8d5d",
   "metadata": {},
   "outputs": [
    {
     "data": {
      "text/plain": [
       "0    hello\n",
       "1      out\n",
       "2    there\n",
       "dtype: object"
      ]
     },
     "execution_count": 17,
     "metadata": {},
     "output_type": "execute_result"
    }
   ],
   "source": [
    "s"
   ]
  },
  {
   "cell_type": "code",
   "execution_count": 18,
   "id": "5c9003a6",
   "metadata": {},
   "outputs": [
    {
     "data": {
      "text/plain": [
       "x    hello\n",
       "y      out\n",
       "z    there\n",
       "dtype: object"
      ]
     },
     "execution_count": 18,
     "metadata": {},
     "output_type": "execute_result"
    }
   ],
   "source": [
    "s = Series('hello out there'.split(),\n",
    "          index=list('xyz'))\n",
    "s"
   ]
  },
  {
   "cell_type": "code",
   "execution_count": 19,
   "id": "f326b3fb",
   "metadata": {},
   "outputs": [
    {
     "data": {
      "text/plain": [
       "'hello'"
      ]
     },
     "execution_count": 19,
     "metadata": {},
     "output_type": "execute_result"
    }
   ],
   "source": [
    "s.loc['x']"
   ]
  },
  {
   "cell_type": "code",
   "execution_count": 20,
   "id": "486493dd",
   "metadata": {},
   "outputs": [
    {
     "data": {
      "text/plain": [
       "'hello'"
      ]
     },
     "execution_count": 20,
     "metadata": {},
     "output_type": "execute_result"
    }
   ],
   "source": [
    "s.iloc[0]"
   ]
  },
  {
   "cell_type": "markdown",
   "id": "49d0a328",
   "metadata": {},
   "source": [
    "# Exercise: String practice\n",
    "\n",
    "1. Define a series with 10 words.\n",
    "2. Find all of the words with odd lengths.\n",
    "3. Find all of the words with below-average lengths.\n",
    "4. Find all words containing 'a' or 'e'."
   ]
  },
  {
   "cell_type": "code",
   "execution_count": 21,
   "id": "5834a1d6",
   "metadata": {},
   "outputs": [],
   "source": [
    "# https://RegexpCrashCourse.com/ "
   ]
  },
  {
   "cell_type": "code",
   "execution_count": 23,
   "id": "f1720403",
   "metadata": {},
   "outputs": [],
   "source": [
    "s = Series('this is a fantastic test sentence for my course today'.split())"
   ]
  },
  {
   "cell_type": "code",
   "execution_count": 24,
   "id": "41f7d159",
   "metadata": {},
   "outputs": [
    {
     "data": {
      "text/plain": [
       "0         this\n",
       "1           is\n",
       "2            a\n",
       "3    fantastic\n",
       "4         test\n",
       "5     sentence\n",
       "6          for\n",
       "7           my\n",
       "8       course\n",
       "9        today\n",
       "dtype: object"
      ]
     },
     "execution_count": 24,
     "metadata": {},
     "output_type": "execute_result"
    }
   ],
   "source": [
    "s"
   ]
  },
  {
   "cell_type": "code",
   "execution_count": 30,
   "id": "1e07093d",
   "metadata": {},
   "outputs": [
    {
     "data": {
      "text/plain": [
       "2            a\n",
       "3    fantastic\n",
       "6          for\n",
       "9        today\n",
       "dtype: object"
      ]
     },
     "execution_count": 30,
     "metadata": {},
     "output_type": "execute_result"
    }
   ],
   "source": [
    "s.loc[s.str.len() % 2 == 1]"
   ]
  },
  {
   "cell_type": "code",
   "execution_count": 33,
   "id": "2fa3e2ac",
   "metadata": {},
   "outputs": [
    {
     "data": {
      "text/plain": [
       "0    this\n",
       "1      is\n",
       "2       a\n",
       "4    test\n",
       "6     for\n",
       "7      my\n",
       "dtype: object"
      ]
     },
     "execution_count": 33,
     "metadata": {},
     "output_type": "execute_result"
    }
   ],
   "source": [
    "s.loc[s.str.len() < s.str.len().mean()]"
   ]
  },
  {
   "cell_type": "code",
   "execution_count": null,
   "id": "3461db38",
   "metadata": {},
   "outputs": [],
   "source": []
  }
 ],
 "metadata": {
  "kernelspec": {
   "display_name": "Python 3 (ipykernel)",
   "language": "python",
   "name": "python3"
  },
  "language_info": {
   "codemirror_mode": {
    "name": "ipython",
    "version": 3
   },
   "file_extension": ".py",
   "mimetype": "text/x-python",
   "name": "python",
   "nbconvert_exporter": "python",
   "pygments_lexer": "ipython3",
   "version": "3.11.4"
  }
 },
 "nbformat": 4,
 "nbformat_minor": 5
}
