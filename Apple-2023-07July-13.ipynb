{
 "cells": [
  {
   "cell_type": "markdown",
   "id": "0a363829-e740-447d-9150-b7889beb21eb",
   "metadata": {},
   "source": [
    "# Agenda \n",
    "\n",
    "1. Timestamp + timedelta types\n",
    "2. Working with timestamps in data frames -- `.dt`\n",
    "3. Timedelta and comparisons\n",
    "4. Time series -- timesetamps as indexes\n",
    "5. Resampling"
   ]
  },
  {
   "cell_type": "markdown",
   "id": "0413f1b0-69c1-4b9a-bf73-a9b5432bfd7d",
   "metadata": {},
   "source": [
    "# Timestamp + timedelta\n",
    "\n",
    "We mean two things when we say \"time\":\n",
    "- A point in time (timestamp, datetime)\n",
    "- A span of time (timedelta, interval)\n",
    "\n",
    "  "
   ]
  },
  {
   "cell_type": "code",
   "execution_count": 1,
   "id": "bb3239aa-6591-48ac-8bad-ea3e29f0516b",
   "metadata": {},
   "outputs": [],
   "source": [
    "import pandas as pd\n",
    "from pandas import Series, DataFrame"
   ]
  },
  {
   "cell_type": "code",
   "execution_count": 2,
   "id": "8f026878-41df-4c3e-bb54-82e7df02b4e8",
   "metadata": {},
   "outputs": [],
   "source": [
    "df = pd.read_csv('taxi.csv',\n",
    "                usecols=['tpep_pickup_datetime', 'tpep_dropoff_datetime',\n",
    "                        'passenger_count', 'trip_distance', 'total_amount'])"
   ]
  },
  {
   "cell_type": "code",
   "execution_count": 3,
   "id": "8495b0ec-0c3c-4a44-afe4-ed54587815d6",
   "metadata": {},
   "outputs": [
    {
     "data": {
      "text/html": [
       "<div>\n",
       "<style scoped>\n",
       "    .dataframe tbody tr th:only-of-type {\n",
       "        vertical-align: middle;\n",
       "    }\n",
       "\n",
       "    .dataframe tbody tr th {\n",
       "        vertical-align: top;\n",
       "    }\n",
       "\n",
       "    .dataframe thead th {\n",
       "        text-align: right;\n",
       "    }\n",
       "</style>\n",
       "<table border=\"1\" class=\"dataframe\">\n",
       "  <thead>\n",
       "    <tr style=\"text-align: right;\">\n",
       "      <th></th>\n",
       "      <th>tpep_pickup_datetime</th>\n",
       "      <th>tpep_dropoff_datetime</th>\n",
       "      <th>passenger_count</th>\n",
       "      <th>trip_distance</th>\n",
       "      <th>total_amount</th>\n",
       "    </tr>\n",
       "  </thead>\n",
       "  <tbody>\n",
       "    <tr>\n",
       "      <th>0</th>\n",
       "      <td>2015-06-02 11:19:29</td>\n",
       "      <td>2015-06-02 11:47:52</td>\n",
       "      <td>1</td>\n",
       "      <td>1.63</td>\n",
       "      <td>17.80</td>\n",
       "    </tr>\n",
       "    <tr>\n",
       "      <th>1</th>\n",
       "      <td>2015-06-02 11:19:30</td>\n",
       "      <td>2015-06-02 11:27:56</td>\n",
       "      <td>1</td>\n",
       "      <td>0.46</td>\n",
       "      <td>8.30</td>\n",
       "    </tr>\n",
       "    <tr>\n",
       "      <th>2</th>\n",
       "      <td>2015-06-02 11:19:31</td>\n",
       "      <td>2015-06-02 11:30:30</td>\n",
       "      <td>1</td>\n",
       "      <td>0.87</td>\n",
       "      <td>11.00</td>\n",
       "    </tr>\n",
       "    <tr>\n",
       "      <th>3</th>\n",
       "      <td>2015-06-02 11:19:31</td>\n",
       "      <td>2015-06-02 11:39:02</td>\n",
       "      <td>1</td>\n",
       "      <td>2.13</td>\n",
       "      <td>17.16</td>\n",
       "    </tr>\n",
       "    <tr>\n",
       "      <th>4</th>\n",
       "      <td>2015-06-02 11:19:32</td>\n",
       "      <td>2015-06-02 11:32:49</td>\n",
       "      <td>1</td>\n",
       "      <td>1.40</td>\n",
       "      <td>10.30</td>\n",
       "    </tr>\n",
       "  </tbody>\n",
       "</table>\n",
       "</div>"
      ],
      "text/plain": [
       "  tpep_pickup_datetime tpep_dropoff_datetime  passenger_count  trip_distance  \\\n",
       "0  2015-06-02 11:19:29   2015-06-02 11:47:52                1           1.63   \n",
       "1  2015-06-02 11:19:30   2015-06-02 11:27:56                1           0.46   \n",
       "2  2015-06-02 11:19:31   2015-06-02 11:30:30                1           0.87   \n",
       "3  2015-06-02 11:19:31   2015-06-02 11:39:02                1           2.13   \n",
       "4  2015-06-02 11:19:32   2015-06-02 11:32:49                1           1.40   \n",
       "\n",
       "   total_amount  \n",
       "0         17.80  \n",
       "1          8.30  \n",
       "2         11.00  \n",
       "3         17.16  \n",
       "4         10.30  "
      ]
     },
     "execution_count": 3,
     "metadata": {},
     "output_type": "execute_result"
    }
   ],
   "source": [
    "df.head()"
   ]
  },
  {
   "cell_type": "code",
   "execution_count": 4,
   "id": "e82101dd-ed83-49a2-bc9e-3b0839f4cca2",
   "metadata": {},
   "outputs": [
    {
     "data": {
      "text/plain": [
       "tpep_pickup_datetime      object\n",
       "tpep_dropoff_datetime     object\n",
       "passenger_count            int64\n",
       "trip_distance            float64\n",
       "total_amount             float64\n",
       "dtype: object"
      ]
     },
     "execution_count": 4,
     "metadata": {},
     "output_type": "execute_result"
    }
   ],
   "source": [
    "df.dtypes"
   ]
  },
  {
   "cell_type": "code",
   "execution_count": 5,
   "id": "17cb0a8d-4a59-42e7-bc07-033ddb0d276d",
   "metadata": {},
   "outputs": [],
   "source": [
    "# How can I turn the timestamp columns into actual timestamps?\n",
    "\n",
    "df = pd.read_csv('taxi.csv',\n",
    "                usecols=['tpep_pickup_datetime', 'tpep_dropoff_datetime',\n",
    "                        'passenger_count', 'trip_distance', 'total_amount'],\n",
    "                parse_dates=['tpep_pickup_datetime',\n",
    "                            'tpep_dropoff_datetime'])"
   ]
  },
  {
   "cell_type": "code",
   "execution_count": 6,
   "id": "6f0c7bf8-3019-451e-8f55-b47d4e44b6b8",
   "metadata": {},
   "outputs": [
    {
     "data": {
      "text/html": [
       "<div>\n",
       "<style scoped>\n",
       "    .dataframe tbody tr th:only-of-type {\n",
       "        vertical-align: middle;\n",
       "    }\n",
       "\n",
       "    .dataframe tbody tr th {\n",
       "        vertical-align: top;\n",
       "    }\n",
       "\n",
       "    .dataframe thead th {\n",
       "        text-align: right;\n",
       "    }\n",
       "</style>\n",
       "<table border=\"1\" class=\"dataframe\">\n",
       "  <thead>\n",
       "    <tr style=\"text-align: right;\">\n",
       "      <th></th>\n",
       "      <th>tpep_pickup_datetime</th>\n",
       "      <th>tpep_dropoff_datetime</th>\n",
       "      <th>passenger_count</th>\n",
       "      <th>trip_distance</th>\n",
       "      <th>total_amount</th>\n",
       "    </tr>\n",
       "  </thead>\n",
       "  <tbody>\n",
       "    <tr>\n",
       "      <th>0</th>\n",
       "      <td>2015-06-02 11:19:29</td>\n",
       "      <td>2015-06-02 11:47:52</td>\n",
       "      <td>1</td>\n",
       "      <td>1.63</td>\n",
       "      <td>17.80</td>\n",
       "    </tr>\n",
       "    <tr>\n",
       "      <th>1</th>\n",
       "      <td>2015-06-02 11:19:30</td>\n",
       "      <td>2015-06-02 11:27:56</td>\n",
       "      <td>1</td>\n",
       "      <td>0.46</td>\n",
       "      <td>8.30</td>\n",
       "    </tr>\n",
       "    <tr>\n",
       "      <th>2</th>\n",
       "      <td>2015-06-02 11:19:31</td>\n",
       "      <td>2015-06-02 11:30:30</td>\n",
       "      <td>1</td>\n",
       "      <td>0.87</td>\n",
       "      <td>11.00</td>\n",
       "    </tr>\n",
       "    <tr>\n",
       "      <th>3</th>\n",
       "      <td>2015-06-02 11:19:31</td>\n",
       "      <td>2015-06-02 11:39:02</td>\n",
       "      <td>1</td>\n",
       "      <td>2.13</td>\n",
       "      <td>17.16</td>\n",
       "    </tr>\n",
       "    <tr>\n",
       "      <th>4</th>\n",
       "      <td>2015-06-02 11:19:32</td>\n",
       "      <td>2015-06-02 11:32:49</td>\n",
       "      <td>1</td>\n",
       "      <td>1.40</td>\n",
       "      <td>10.30</td>\n",
       "    </tr>\n",
       "  </tbody>\n",
       "</table>\n",
       "</div>"
      ],
      "text/plain": [
       "  tpep_pickup_datetime tpep_dropoff_datetime  passenger_count  trip_distance  \\\n",
       "0  2015-06-02 11:19:29   2015-06-02 11:47:52                1           1.63   \n",
       "1  2015-06-02 11:19:30   2015-06-02 11:27:56                1           0.46   \n",
       "2  2015-06-02 11:19:31   2015-06-02 11:30:30                1           0.87   \n",
       "3  2015-06-02 11:19:31   2015-06-02 11:39:02                1           2.13   \n",
       "4  2015-06-02 11:19:32   2015-06-02 11:32:49                1           1.40   \n",
       "\n",
       "   total_amount  \n",
       "0         17.80  \n",
       "1          8.30  \n",
       "2         11.00  \n",
       "3         17.16  \n",
       "4         10.30  "
      ]
     },
     "execution_count": 6,
     "metadata": {},
     "output_type": "execute_result"
    }
   ],
   "source": [
    "\n",
    "df.head()"
   ]
  },
  {
   "cell_type": "code",
   "execution_count": 7,
   "id": "fe6efc03-8d5a-4684-b339-aab40430e75f",
   "metadata": {},
   "outputs": [
    {
     "data": {
      "text/plain": [
       "tpep_pickup_datetime     datetime64[ns]\n",
       "tpep_dropoff_datetime    datetime64[ns]\n",
       "passenger_count                   int64\n",
       "trip_distance                   float64\n",
       "total_amount                    float64\n",
       "dtype: object"
      ]
     },
     "execution_count": 7,
     "metadata": {},
     "output_type": "execute_result"
    }
   ],
   "source": [
    "df.dtypes"
   ]
  },
  {
   "cell_type": "markdown",
   "id": "89a1949c-cb8c-4a23-8a88-4d4e92c49706",
   "metadata": {},
   "source": [
    "Just as we can use `.str` to retrieve from a string, we can use `.dt` to retrieve from a datetime."
   ]
  },
  {
   "cell_type": "code",
   "execution_count": 8,
   "id": "ac8e6973-3a25-4b41-821c-4289b7de7636",
   "metadata": {},
   "outputs": [
    {
     "data": {
      "text/plain": [
       "0       2015\n",
       "1       2015\n",
       "2       2015\n",
       "3       2015\n",
       "4       2015\n",
       "        ... \n",
       "9994    2015\n",
       "9995    2015\n",
       "9996    2015\n",
       "9997    2015\n",
       "9998    2015\n",
       "Name: tpep_pickup_datetime, Length: 9999, dtype: int32"
      ]
     },
     "execution_count": 8,
     "metadata": {},
     "output_type": "execute_result"
    }
   ],
   "source": [
    "# in what year were these trips?\n",
    "\n",
    "df['tpep_pickup_datetime'].dt.year"
   ]
  },
  {
   "cell_type": "code",
   "execution_count": 9,
   "id": "85ffeb96-12e3-4e1c-9d28-c7e17154aeeb",
   "metadata": {},
   "outputs": [
    {
     "data": {
      "text/plain": [
       "0       11\n",
       "1       11\n",
       "2       11\n",
       "3       11\n",
       "4       11\n",
       "        ..\n",
       "9994     0\n",
       "9995     0\n",
       "9996     0\n",
       "9997     0\n",
       "9998     0\n",
       "Name: tpep_pickup_datetime, Length: 9999, dtype: int32"
      ]
     },
     "execution_count": 9,
     "metadata": {},
     "output_type": "execute_result"
    }
   ],
   "source": [
    "df['tpep_pickup_datetime'].dt.hour"
   ]
  },
  {
   "cell_type": "code",
   "execution_count": 12,
   "id": "346e8c14-6c4b-4c4d-a35b-f506ee9f7b35",
   "metadata": {},
   "outputs": [
    {
     "data": {
      "text/plain": [
       "0       False\n",
       "1       False\n",
       "2       False\n",
       "3       False\n",
       "4       False\n",
       "        ...  \n",
       "9994    False\n",
       "9995    False\n",
       "9996    False\n",
       "9997    False\n",
       "9998    False\n",
       "Name: tpep_pickup_datetime, Length: 9999, dtype: bool"
      ]
     },
     "execution_count": 12,
     "metadata": {},
     "output_type": "execute_result"
    }
   ],
   "source": [
    "df['tpep_pickup_datetime'].dt.is_quarter_end"
   ]
  },
  {
   "cell_type": "code",
   "execution_count": 13,
   "id": "a8a2f500-8149-4faf-949a-3bfff7ef6dd4",
   "metadata": {},
   "outputs": [
    {
     "data": {
      "text/plain": [
       "tpep_pickup_datetime\n",
       "0     4.381589\n",
       "1     4.277704\n",
       "2     4.041907\n",
       "3     4.536489\n",
       "4     4.660118\n",
       "5     4.393082\n",
       "6     4.641471\n",
       "7     4.439505\n",
       "8     3.997288\n",
       "9     4.481159\n",
       "10    4.250000\n",
       "11    4.197670\n",
       "12    3.941948\n",
       "13    4.102202\n",
       "15    3.670769\n",
       "16    3.055872\n",
       "17    2.925592\n",
       "18    2.931938\n",
       "19    2.552746\n",
       "20    2.734559\n",
       "21    2.837943\n",
       "22    2.859967\n",
       "23    2.874452\n",
       "24    2.416812\n",
       "25    2.676262\n",
       "26    2.677785\n",
       "27    2.884444\n",
       "28    2.577386\n",
       "29    2.644669\n",
       "30    2.885680\n",
       "31    2.856197\n",
       "32    2.724747\n",
       "33    2.483873\n",
       "51    2.416744\n",
       "52    2.791492\n",
       "53    2.978448\n",
       "Name: trip_distance, dtype: float64"
      ]
     },
     "execution_count": 13,
     "metadata": {},
     "output_type": "execute_result"
    }
   ],
   "source": [
    "# I can groupby on the values we get from .dt!\n",
    "\n",
    "df.groupby(df['tpep_pickup_datetime'].dt.minute)['trip_distance'].mean()"
   ]
  },
  {
   "cell_type": "code",
   "execution_count": 15,
   "id": "59d7b0c9-b02c-447f-944a-779ffdeb9935",
   "metadata": {},
   "outputs": [],
   "source": [
    "# 01-02-2023 # dayfirst=False is the default"
   ]
  },
  {
   "cell_type": "markdown",
   "id": "c81f39aa-8be6-4465-b73d-2217cfcd9f6f",
   "metadata": {},
   "source": [
    "# Exercise: Taxi dates\n",
    "\n",
    "1. Read the taxi data into a data frame using `parse_dates`.\n",
    "2. How many trips were there for each hour in the data set?\n",
    "3. How much did people spend, on average, on each day of the week?"
   ]
  },
  {
   "cell_type": "code",
   "execution_count": 17,
   "id": "d37fb52a-a074-4657-81dc-5be4a6c6979b",
   "metadata": {},
   "outputs": [],
   "source": [
    "df = pd.read_csv('taxi.csv',\n",
    "                usecols=['tpep_pickup_datetime', 'tpep_dropoff_datetime',\n",
    "                        'passenger_count', 'trip_distance', 'total_amount'],\n",
    "                 parse_dates=['tpep_pickup_datetime', 'tpep_dropoff_datetime'])\n"
   ]
  },
  {
   "cell_type": "code",
   "execution_count": 18,
   "id": "0edfa07d-d963-46f7-bd42-993d39b430a6",
   "metadata": {},
   "outputs": [
    {
     "data": {
      "text/html": [
       "<div>\n",
       "<style scoped>\n",
       "    .dataframe tbody tr th:only-of-type {\n",
       "        vertical-align: middle;\n",
       "    }\n",
       "\n",
       "    .dataframe tbody tr th {\n",
       "        vertical-align: top;\n",
       "    }\n",
       "\n",
       "    .dataframe thead th {\n",
       "        text-align: right;\n",
       "    }\n",
       "</style>\n",
       "<table border=\"1\" class=\"dataframe\">\n",
       "  <thead>\n",
       "    <tr style=\"text-align: right;\">\n",
       "      <th></th>\n",
       "      <th>tpep_pickup_datetime</th>\n",
       "      <th>tpep_dropoff_datetime</th>\n",
       "      <th>passenger_count</th>\n",
       "      <th>trip_distance</th>\n",
       "      <th>total_amount</th>\n",
       "    </tr>\n",
       "  </thead>\n",
       "  <tbody>\n",
       "    <tr>\n",
       "      <th>0</th>\n",
       "      <td>2015-06-02 11:19:29</td>\n",
       "      <td>2015-06-02 11:47:52</td>\n",
       "      <td>1</td>\n",
       "      <td>1.63</td>\n",
       "      <td>17.80</td>\n",
       "    </tr>\n",
       "    <tr>\n",
       "      <th>1</th>\n",
       "      <td>2015-06-02 11:19:30</td>\n",
       "      <td>2015-06-02 11:27:56</td>\n",
       "      <td>1</td>\n",
       "      <td>0.46</td>\n",
       "      <td>8.30</td>\n",
       "    </tr>\n",
       "    <tr>\n",
       "      <th>2</th>\n",
       "      <td>2015-06-02 11:19:31</td>\n",
       "      <td>2015-06-02 11:30:30</td>\n",
       "      <td>1</td>\n",
       "      <td>0.87</td>\n",
       "      <td>11.00</td>\n",
       "    </tr>\n",
       "    <tr>\n",
       "      <th>3</th>\n",
       "      <td>2015-06-02 11:19:31</td>\n",
       "      <td>2015-06-02 11:39:02</td>\n",
       "      <td>1</td>\n",
       "      <td>2.13</td>\n",
       "      <td>17.16</td>\n",
       "    </tr>\n",
       "    <tr>\n",
       "      <th>4</th>\n",
       "      <td>2015-06-02 11:19:32</td>\n",
       "      <td>2015-06-02 11:32:49</td>\n",
       "      <td>1</td>\n",
       "      <td>1.40</td>\n",
       "      <td>10.30</td>\n",
       "    </tr>\n",
       "  </tbody>\n",
       "</table>\n",
       "</div>"
      ],
      "text/plain": [
       "  tpep_pickup_datetime tpep_dropoff_datetime  passenger_count  trip_distance  \\\n",
       "0  2015-06-02 11:19:29   2015-06-02 11:47:52                1           1.63   \n",
       "1  2015-06-02 11:19:30   2015-06-02 11:27:56                1           0.46   \n",
       "2  2015-06-02 11:19:31   2015-06-02 11:30:30                1           0.87   \n",
       "3  2015-06-02 11:19:31   2015-06-02 11:39:02                1           2.13   \n",
       "4  2015-06-02 11:19:32   2015-06-02 11:32:49                1           1.40   \n",
       "\n",
       "   total_amount  \n",
       "0         17.80  \n",
       "1          8.30  \n",
       "2         11.00  \n",
       "3         17.16  \n",
       "4         10.30  "
      ]
     },
     "execution_count": 18,
     "metadata": {},
     "output_type": "execute_result"
    }
   ],
   "source": [
    "df.head()"
   ]
  },
  {
   "cell_type": "code",
   "execution_count": 19,
   "id": "5cc578ec-dd0e-4f55-a807-dd51309eea2f",
   "metadata": {},
   "outputs": [
    {
     "data": {
      "text/plain": [
       "tpep_pickup_datetime     datetime64[ns]\n",
       "tpep_dropoff_datetime    datetime64[ns]\n",
       "passenger_count                   int64\n",
       "trip_distance                   float64\n",
       "total_amount                    float64\n",
       "dtype: object"
      ]
     },
     "execution_count": 19,
     "metadata": {},
     "output_type": "execute_result"
    }
   ],
   "source": [
    "df.dtypes"
   ]
  },
  {
   "cell_type": "code",
   "execution_count": 21,
   "id": "87dbcfb9-47af-472a-8118-38d73914000a",
   "metadata": {},
   "outputs": [
    {
     "data": {
      "text/plain": [
       "tpep_pickup_datetime\n",
       "11    4396\n",
       "15    2536\n",
       "0     2439\n",
       "16     628\n",
       "Name: count, dtype: int64"
      ]
     },
     "execution_count": 21,
     "metadata": {},
     "output_type": "execute_result"
    }
   ],
   "source": [
    "# 2. How many trips were there for each hour in the data set?\n",
    "\n",
    "df['tpep_pickup_datetime'].dt.hour.value_counts()\n"
   ]
  },
  {
   "cell_type": "code",
   "execution_count": 23,
   "id": "c50880e2-d9e0-4c4c-8214-a082a06690c8",
   "metadata": {},
   "outputs": [
    {
     "data": {
      "text/plain": [
       "tpep_pickup_datetime\n",
       "0     2439\n",
       "11    4396\n",
       "15    2536\n",
       "16     628\n",
       "Name: passenger_count, dtype: int64"
      ]
     },
     "execution_count": 23,
     "metadata": {},
     "output_type": "execute_result"
    }
   ],
   "source": [
    "df.groupby(df['tpep_pickup_datetime'].dt.hour)['passenger_count'].count()"
   ]
  },
  {
   "cell_type": "code",
   "execution_count": 28,
   "id": "72a453be-99bd-478e-ba6c-54fc05bae038",
   "metadata": {},
   "outputs": [
    {
     "data": {
      "text/plain": [
       "tpep_pickup_datetime\n",
       "11    1142\n",
       "15     777\n",
       "0      649\n",
       "16     222\n",
       "Name: count, dtype: int64"
      ]
     },
     "execution_count": 28,
     "metadata": {},
     "output_type": "execute_result"
    }
   ],
   "source": [
    "df.loc[\n",
    "  df['passenger_count'] > 1, \n",
    "  'tpep_pickup_datetime'\n",
    "].dt.hour.value_counts()"
   ]
  },
  {
   "cell_type": "code",
   "execution_count": 29,
   "id": "19671359-fcaf-4d7a-b0cc-b2aa3e237c4b",
   "metadata": {},
   "outputs": [
    {
     "data": {
      "text/plain": [
       "<pandas.core.indexes.accessors.DatetimeProperties object at 0x125f26d50>"
      ]
     },
     "execution_count": 29,
     "metadata": {},
     "output_type": "execute_result"
    }
   ],
   "source": [
    "df['tpep_pickup_datetime'].dt"
   ]
  },
  {
   "cell_type": "markdown",
   "id": "f8207243-4b86-497b-96e4-69ef90c5e1b6",
   "metadata": {},
   "source": [
    "# Timedelta\n",
    "\n",
    "Time math looks like this:\n",
    "\n",
    "- timestamp - timestamp = timedelta\n",
    "- timestamp + timedelta = timestamp"
   ]
  },
  {
   "cell_type": "code",
   "execution_count": 30,
   "id": "b873f24c-b559-463f-9766-456bb79344d8",
   "metadata": {},
   "outputs": [
    {
     "data": {
      "text/plain": [
       "0      0 days 00:28:23\n",
       "1      0 days 00:08:26\n",
       "2      0 days 00:10:59\n",
       "3      0 days 00:19:31\n",
       "4      0 days 00:13:17\n",
       "             ...      \n",
       "9994   0 days 00:11:19\n",
       "9995   0 days 00:15:17\n",
       "9996   0 days 00:24:25\n",
       "9997   0 days 00:06:08\n",
       "9998   0 days 00:23:29\n",
       "Length: 9999, dtype: timedelta64[ns]"
      ]
     },
     "execution_count": 30,
     "metadata": {},
     "output_type": "execute_result"
    }
   ],
   "source": [
    "df['tpep_dropoff_datetime'] - df['tpep_pickup_datetime']"
   ]
  },
  {
   "cell_type": "code",
   "execution_count": 31,
   "id": "d71996aa-8fc8-4557-8d24-ca82bba0fef1",
   "metadata": {},
   "outputs": [],
   "source": [
    "# let's add a new column to our data frame with this timedelta\n",
    "\n",
    "df['trip_time'] = df['tpep_dropoff_datetime'] - df['tpep_pickup_datetime']"
   ]
  },
  {
   "cell_type": "code",
   "execution_count": 32,
   "id": "0bc487c8-18eb-4493-80b3-52f7997b4e68",
   "metadata": {},
   "outputs": [
    {
     "data": {
      "text/html": [
       "<div>\n",
       "<style scoped>\n",
       "    .dataframe tbody tr th:only-of-type {\n",
       "        vertical-align: middle;\n",
       "    }\n",
       "\n",
       "    .dataframe tbody tr th {\n",
       "        vertical-align: top;\n",
       "    }\n",
       "\n",
       "    .dataframe thead th {\n",
       "        text-align: right;\n",
       "    }\n",
       "</style>\n",
       "<table border=\"1\" class=\"dataframe\">\n",
       "  <thead>\n",
       "    <tr style=\"text-align: right;\">\n",
       "      <th></th>\n",
       "      <th>tpep_pickup_datetime</th>\n",
       "      <th>tpep_dropoff_datetime</th>\n",
       "      <th>passenger_count</th>\n",
       "      <th>trip_distance</th>\n",
       "      <th>total_amount</th>\n",
       "      <th>trip_time</th>\n",
       "    </tr>\n",
       "  </thead>\n",
       "  <tbody>\n",
       "    <tr>\n",
       "      <th>0</th>\n",
       "      <td>2015-06-02 11:19:29</td>\n",
       "      <td>2015-06-02 11:47:52</td>\n",
       "      <td>1</td>\n",
       "      <td>1.63</td>\n",
       "      <td>17.80</td>\n",
       "      <td>0 days 00:28:23</td>\n",
       "    </tr>\n",
       "    <tr>\n",
       "      <th>1</th>\n",
       "      <td>2015-06-02 11:19:30</td>\n",
       "      <td>2015-06-02 11:27:56</td>\n",
       "      <td>1</td>\n",
       "      <td>0.46</td>\n",
       "      <td>8.30</td>\n",
       "      <td>0 days 00:08:26</td>\n",
       "    </tr>\n",
       "    <tr>\n",
       "      <th>2</th>\n",
       "      <td>2015-06-02 11:19:31</td>\n",
       "      <td>2015-06-02 11:30:30</td>\n",
       "      <td>1</td>\n",
       "      <td>0.87</td>\n",
       "      <td>11.00</td>\n",
       "      <td>0 days 00:10:59</td>\n",
       "    </tr>\n",
       "    <tr>\n",
       "      <th>3</th>\n",
       "      <td>2015-06-02 11:19:31</td>\n",
       "      <td>2015-06-02 11:39:02</td>\n",
       "      <td>1</td>\n",
       "      <td>2.13</td>\n",
       "      <td>17.16</td>\n",
       "      <td>0 days 00:19:31</td>\n",
       "    </tr>\n",
       "    <tr>\n",
       "      <th>4</th>\n",
       "      <td>2015-06-02 11:19:32</td>\n",
       "      <td>2015-06-02 11:32:49</td>\n",
       "      <td>1</td>\n",
       "      <td>1.40</td>\n",
       "      <td>10.30</td>\n",
       "      <td>0 days 00:13:17</td>\n",
       "    </tr>\n",
       "  </tbody>\n",
       "</table>\n",
       "</div>"
      ],
      "text/plain": [
       "  tpep_pickup_datetime tpep_dropoff_datetime  passenger_count  trip_distance  \\\n",
       "0  2015-06-02 11:19:29   2015-06-02 11:47:52                1           1.63   \n",
       "1  2015-06-02 11:19:30   2015-06-02 11:27:56                1           0.46   \n",
       "2  2015-06-02 11:19:31   2015-06-02 11:30:30                1           0.87   \n",
       "3  2015-06-02 11:19:31   2015-06-02 11:39:02                1           2.13   \n",
       "4  2015-06-02 11:19:32   2015-06-02 11:32:49                1           1.40   \n",
       "\n",
       "   total_amount       trip_time  \n",
       "0         17.80 0 days 00:28:23  \n",
       "1          8.30 0 days 00:08:26  \n",
       "2         11.00 0 days 00:10:59  \n",
       "3         17.16 0 days 00:19:31  \n",
       "4         10.30 0 days 00:13:17  "
      ]
     },
     "execution_count": 32,
     "metadata": {},
     "output_type": "execute_result"
    }
   ],
   "source": [
    "df.head()"
   ]
  },
  {
   "cell_type": "code",
   "execution_count": 33,
   "id": "506773e9-7e37-4edc-88bb-e834fda028cf",
   "metadata": {},
   "outputs": [
    {
     "data": {
      "text/plain": [
       "tpep_pickup_datetime      datetime64[ns]\n",
       "tpep_dropoff_datetime     datetime64[ns]\n",
       "passenger_count                    int64\n",
       "trip_distance                    float64\n",
       "total_amount                     float64\n",
       "trip_time                timedelta64[ns]\n",
       "dtype: object"
      ]
     },
     "execution_count": 33,
     "metadata": {},
     "output_type": "execute_result"
    }
   ],
   "source": [
    "df.dtypes"
   ]
  },
  {
   "cell_type": "code",
   "execution_count": 36,
   "id": "a1c2aca2-3d80-43bb-bcbe-492ad4017b3c",
   "metadata": {},
   "outputs": [
    {
     "data": {
      "text/html": [
       "<div>\n",
       "<style scoped>\n",
       "    .dataframe tbody tr th:only-of-type {\n",
       "        vertical-align: middle;\n",
       "    }\n",
       "\n",
       "    .dataframe tbody tr th {\n",
       "        vertical-align: top;\n",
       "    }\n",
       "\n",
       "    .dataframe thead th {\n",
       "        text-align: right;\n",
       "    }\n",
       "</style>\n",
       "<table border=\"1\" class=\"dataframe\">\n",
       "  <thead>\n",
       "    <tr style=\"text-align: right;\">\n",
       "      <th></th>\n",
       "      <th>tpep_pickup_datetime</th>\n",
       "      <th>tpep_dropoff_datetime</th>\n",
       "      <th>passenger_count</th>\n",
       "      <th>trip_distance</th>\n",
       "      <th>total_amount</th>\n",
       "      <th>trip_time</th>\n",
       "    </tr>\n",
       "  </thead>\n",
       "  <tbody>\n",
       "    <tr>\n",
       "      <th>10</th>\n",
       "      <td>2015-06-02 11:19:38</td>\n",
       "      <td>2015-06-02 11:19:43</td>\n",
       "      <td>3</td>\n",
       "      <td>0.01</td>\n",
       "      <td>52.80</td>\n",
       "      <td>0 days 00:00:05</td>\n",
       "    </tr>\n",
       "    <tr>\n",
       "      <th>149</th>\n",
       "      <td>2015-06-02 11:21:25</td>\n",
       "      <td>2015-06-02 11:21:50</td>\n",
       "      <td>1</td>\n",
       "      <td>0.00</td>\n",
       "      <td>4.30</td>\n",
       "      <td>0 days 00:00:25</td>\n",
       "    </tr>\n",
       "    <tr>\n",
       "      <th>297</th>\n",
       "      <td>2015-06-02 11:20:23</td>\n",
       "      <td>2015-06-02 11:20:23</td>\n",
       "      <td>2</td>\n",
       "      <td>0.00</td>\n",
       "      <td>2.30</td>\n",
       "      <td>0 days 00:00:00</td>\n",
       "    </tr>\n",
       "    <tr>\n",
       "      <th>516</th>\n",
       "      <td>2015-06-02 11:21:14</td>\n",
       "      <td>2015-06-02 11:22:03</td>\n",
       "      <td>1</td>\n",
       "      <td>0.03</td>\n",
       "      <td>3.96</td>\n",
       "      <td>0 days 00:00:49</td>\n",
       "    </tr>\n",
       "    <tr>\n",
       "      <th>657</th>\n",
       "      <td>2015-06-02 11:24:33</td>\n",
       "      <td>2015-06-02 11:24:50</td>\n",
       "      <td>1</td>\n",
       "      <td>0.00</td>\n",
       "      <td>15.35</td>\n",
       "      <td>0 days 00:00:17</td>\n",
       "    </tr>\n",
       "    <tr>\n",
       "      <th>...</th>\n",
       "      <td>...</td>\n",
       "      <td>...</td>\n",
       "      <td>...</td>\n",
       "      <td>...</td>\n",
       "      <td>...</td>\n",
       "      <td>...</td>\n",
       "    </tr>\n",
       "    <tr>\n",
       "      <th>9452</th>\n",
       "      <td>2015-06-01 00:10:45</td>\n",
       "      <td>2015-06-01 00:11:28</td>\n",
       "      <td>1</td>\n",
       "      <td>0.10</td>\n",
       "      <td>3.80</td>\n",
       "      <td>0 days 00:00:43</td>\n",
       "    </tr>\n",
       "    <tr>\n",
       "      <th>9693</th>\n",
       "      <td>2015-06-01 00:11:08</td>\n",
       "      <td>2015-06-01 00:11:08</td>\n",
       "      <td>1</td>\n",
       "      <td>5.03</td>\n",
       "      <td>18.80</td>\n",
       "      <td>0 days 00:00:00</td>\n",
       "    </tr>\n",
       "    <tr>\n",
       "      <th>9761</th>\n",
       "      <td>2015-06-01 00:12:46</td>\n",
       "      <td>2015-06-01 00:12:46</td>\n",
       "      <td>1</td>\n",
       "      <td>0.00</td>\n",
       "      <td>5.80</td>\n",
       "      <td>0 days 00:00:00</td>\n",
       "    </tr>\n",
       "    <tr>\n",
       "      <th>9868</th>\n",
       "      <td>2015-06-01 00:12:31</td>\n",
       "      <td>2015-06-01 00:12:56</td>\n",
       "      <td>2</td>\n",
       "      <td>2.40</td>\n",
       "      <td>58.34</td>\n",
       "      <td>0 days 00:00:25</td>\n",
       "    </tr>\n",
       "    <tr>\n",
       "      <th>9937</th>\n",
       "      <td>2015-06-01 00:13:22</td>\n",
       "      <td>2015-06-01 00:14:18</td>\n",
       "      <td>1</td>\n",
       "      <td>0.10</td>\n",
       "      <td>3.80</td>\n",
       "      <td>0 days 00:00:56</td>\n",
       "    </tr>\n",
       "  </tbody>\n",
       "</table>\n",
       "<p>84 rows × 6 columns</p>\n",
       "</div>"
      ],
      "text/plain": [
       "     tpep_pickup_datetime tpep_dropoff_datetime  passenger_count  \\\n",
       "10    2015-06-02 11:19:38   2015-06-02 11:19:43                3   \n",
       "149   2015-06-02 11:21:25   2015-06-02 11:21:50                1   \n",
       "297   2015-06-02 11:20:23   2015-06-02 11:20:23                2   \n",
       "516   2015-06-02 11:21:14   2015-06-02 11:22:03                1   \n",
       "657   2015-06-02 11:24:33   2015-06-02 11:24:50                1   \n",
       "...                   ...                   ...              ...   \n",
       "9452  2015-06-01 00:10:45   2015-06-01 00:11:28                1   \n",
       "9693  2015-06-01 00:11:08   2015-06-01 00:11:08                1   \n",
       "9761  2015-06-01 00:12:46   2015-06-01 00:12:46                1   \n",
       "9868  2015-06-01 00:12:31   2015-06-01 00:12:56                2   \n",
       "9937  2015-06-01 00:13:22   2015-06-01 00:14:18                1   \n",
       "\n",
       "      trip_distance  total_amount       trip_time  \n",
       "10             0.01         52.80 0 days 00:00:05  \n",
       "149            0.00          4.30 0 days 00:00:25  \n",
       "297            0.00          2.30 0 days 00:00:00  \n",
       "516            0.03          3.96 0 days 00:00:49  \n",
       "657            0.00         15.35 0 days 00:00:17  \n",
       "...             ...           ...             ...  \n",
       "9452           0.10          3.80 0 days 00:00:43  \n",
       "9693           5.03         18.80 0 days 00:00:00  \n",
       "9761           0.00          5.80 0 days 00:00:00  \n",
       "9868           2.40         58.34 0 days 00:00:25  \n",
       "9937           0.10          3.80 0 days 00:00:56  \n",
       "\n",
       "[84 rows x 6 columns]"
      ]
     },
     "execution_count": 36,
     "metadata": {},
     "output_type": "execute_result"
    }
   ],
   "source": [
    "df.loc[df['trip_time'] < '0 days 00:01:00']"
   ]
  },
  {
   "cell_type": "code",
   "execution_count": 37,
   "id": "fec8502f-e8dc-4f15-8a33-2af6d924283c",
   "metadata": {},
   "outputs": [
    {
     "data": {
      "text/html": [
       "<div>\n",
       "<style scoped>\n",
       "    .dataframe tbody tr th:only-of-type {\n",
       "        vertical-align: middle;\n",
       "    }\n",
       "\n",
       "    .dataframe tbody tr th {\n",
       "        vertical-align: top;\n",
       "    }\n",
       "\n",
       "    .dataframe thead th {\n",
       "        text-align: right;\n",
       "    }\n",
       "</style>\n",
       "<table border=\"1\" class=\"dataframe\">\n",
       "  <thead>\n",
       "    <tr style=\"text-align: right;\">\n",
       "      <th></th>\n",
       "      <th>tpep_pickup_datetime</th>\n",
       "      <th>tpep_dropoff_datetime</th>\n",
       "      <th>passenger_count</th>\n",
       "      <th>trip_distance</th>\n",
       "      <th>total_amount</th>\n",
       "      <th>trip_time</th>\n",
       "    </tr>\n",
       "  </thead>\n",
       "  <tbody>\n",
       "    <tr>\n",
       "      <th>10</th>\n",
       "      <td>2015-06-02 11:19:38</td>\n",
       "      <td>2015-06-02 11:19:43</td>\n",
       "      <td>3</td>\n",
       "      <td>0.01</td>\n",
       "      <td>52.80</td>\n",
       "      <td>0 days 00:00:05</td>\n",
       "    </tr>\n",
       "    <tr>\n",
       "      <th>149</th>\n",
       "      <td>2015-06-02 11:21:25</td>\n",
       "      <td>2015-06-02 11:21:50</td>\n",
       "      <td>1</td>\n",
       "      <td>0.00</td>\n",
       "      <td>4.30</td>\n",
       "      <td>0 days 00:00:25</td>\n",
       "    </tr>\n",
       "    <tr>\n",
       "      <th>297</th>\n",
       "      <td>2015-06-02 11:20:23</td>\n",
       "      <td>2015-06-02 11:20:23</td>\n",
       "      <td>2</td>\n",
       "      <td>0.00</td>\n",
       "      <td>2.30</td>\n",
       "      <td>0 days 00:00:00</td>\n",
       "    </tr>\n",
       "    <tr>\n",
       "      <th>516</th>\n",
       "      <td>2015-06-02 11:21:14</td>\n",
       "      <td>2015-06-02 11:22:03</td>\n",
       "      <td>1</td>\n",
       "      <td>0.03</td>\n",
       "      <td>3.96</td>\n",
       "      <td>0 days 00:00:49</td>\n",
       "    </tr>\n",
       "    <tr>\n",
       "      <th>657</th>\n",
       "      <td>2015-06-02 11:24:33</td>\n",
       "      <td>2015-06-02 11:24:50</td>\n",
       "      <td>1</td>\n",
       "      <td>0.00</td>\n",
       "      <td>15.35</td>\n",
       "      <td>0 days 00:00:17</td>\n",
       "    </tr>\n",
       "    <tr>\n",
       "      <th>...</th>\n",
       "      <td>...</td>\n",
       "      <td>...</td>\n",
       "      <td>...</td>\n",
       "      <td>...</td>\n",
       "      <td>...</td>\n",
       "      <td>...</td>\n",
       "    </tr>\n",
       "    <tr>\n",
       "      <th>9452</th>\n",
       "      <td>2015-06-01 00:10:45</td>\n",
       "      <td>2015-06-01 00:11:28</td>\n",
       "      <td>1</td>\n",
       "      <td>0.10</td>\n",
       "      <td>3.80</td>\n",
       "      <td>0 days 00:00:43</td>\n",
       "    </tr>\n",
       "    <tr>\n",
       "      <th>9693</th>\n",
       "      <td>2015-06-01 00:11:08</td>\n",
       "      <td>2015-06-01 00:11:08</td>\n",
       "      <td>1</td>\n",
       "      <td>5.03</td>\n",
       "      <td>18.80</td>\n",
       "      <td>0 days 00:00:00</td>\n",
       "    </tr>\n",
       "    <tr>\n",
       "      <th>9761</th>\n",
       "      <td>2015-06-01 00:12:46</td>\n",
       "      <td>2015-06-01 00:12:46</td>\n",
       "      <td>1</td>\n",
       "      <td>0.00</td>\n",
       "      <td>5.80</td>\n",
       "      <td>0 days 00:00:00</td>\n",
       "    </tr>\n",
       "    <tr>\n",
       "      <th>9868</th>\n",
       "      <td>2015-06-01 00:12:31</td>\n",
       "      <td>2015-06-01 00:12:56</td>\n",
       "      <td>2</td>\n",
       "      <td>2.40</td>\n",
       "      <td>58.34</td>\n",
       "      <td>0 days 00:00:25</td>\n",
       "    </tr>\n",
       "    <tr>\n",
       "      <th>9937</th>\n",
       "      <td>2015-06-01 00:13:22</td>\n",
       "      <td>2015-06-01 00:14:18</td>\n",
       "      <td>1</td>\n",
       "      <td>0.10</td>\n",
       "      <td>3.80</td>\n",
       "      <td>0 days 00:00:56</td>\n",
       "    </tr>\n",
       "  </tbody>\n",
       "</table>\n",
       "<p>84 rows × 6 columns</p>\n",
       "</div>"
      ],
      "text/plain": [
       "     tpep_pickup_datetime tpep_dropoff_datetime  passenger_count  \\\n",
       "10    2015-06-02 11:19:38   2015-06-02 11:19:43                3   \n",
       "149   2015-06-02 11:21:25   2015-06-02 11:21:50                1   \n",
       "297   2015-06-02 11:20:23   2015-06-02 11:20:23                2   \n",
       "516   2015-06-02 11:21:14   2015-06-02 11:22:03                1   \n",
       "657   2015-06-02 11:24:33   2015-06-02 11:24:50                1   \n",
       "...                   ...                   ...              ...   \n",
       "9452  2015-06-01 00:10:45   2015-06-01 00:11:28                1   \n",
       "9693  2015-06-01 00:11:08   2015-06-01 00:11:08                1   \n",
       "9761  2015-06-01 00:12:46   2015-06-01 00:12:46                1   \n",
       "9868  2015-06-01 00:12:31   2015-06-01 00:12:56                2   \n",
       "9937  2015-06-01 00:13:22   2015-06-01 00:14:18                1   \n",
       "\n",
       "      trip_distance  total_amount       trip_time  \n",
       "10             0.01         52.80 0 days 00:00:05  \n",
       "149            0.00          4.30 0 days 00:00:25  \n",
       "297            0.00          2.30 0 days 00:00:00  \n",
       "516            0.03          3.96 0 days 00:00:49  \n",
       "657            0.00         15.35 0 days 00:00:17  \n",
       "...             ...           ...             ...  \n",
       "9452           0.10          3.80 0 days 00:00:43  \n",
       "9693           5.03         18.80 0 days 00:00:00  \n",
       "9761           0.00          5.80 0 days 00:00:00  \n",
       "9868           2.40         58.34 0 days 00:00:25  \n",
       "9937           0.10          3.80 0 days 00:00:56  \n",
       "\n",
       "[84 rows x 6 columns]"
      ]
     },
     "execution_count": 37,
     "metadata": {},
     "output_type": "execute_result"
    }
   ],
   "source": [
    "# we can also do this\n",
    "df.loc[df['trip_time'] < '00:01:00']    # just write the time in HH:MM:SS"
   ]
  },
  {
   "cell_type": "code",
   "execution_count": 43,
   "id": "4a66c76a-9895-40e9-8022-a29ca3b82940",
   "metadata": {},
   "outputs": [
    {
     "data": {
      "text/html": [
       "<div>\n",
       "<style scoped>\n",
       "    .dataframe tbody tr th:only-of-type {\n",
       "        vertical-align: middle;\n",
       "    }\n",
       "\n",
       "    .dataframe tbody tr th {\n",
       "        vertical-align: top;\n",
       "    }\n",
       "\n",
       "    .dataframe thead th {\n",
       "        text-align: right;\n",
       "    }\n",
       "</style>\n",
       "<table border=\"1\" class=\"dataframe\">\n",
       "  <thead>\n",
       "    <tr style=\"text-align: right;\">\n",
       "      <th></th>\n",
       "      <th>tpep_pickup_datetime</th>\n",
       "      <th>tpep_dropoff_datetime</th>\n",
       "      <th>passenger_count</th>\n",
       "      <th>trip_distance</th>\n",
       "      <th>total_amount</th>\n",
       "      <th>trip_time</th>\n",
       "    </tr>\n",
       "  </thead>\n",
       "  <tbody>\n",
       "    <tr>\n",
       "      <th>10</th>\n",
       "      <td>2015-06-02 11:19:38</td>\n",
       "      <td>2015-06-02 11:19:43</td>\n",
       "      <td>3</td>\n",
       "      <td>0.01</td>\n",
       "      <td>52.80</td>\n",
       "      <td>0 days 00:00:05</td>\n",
       "    </tr>\n",
       "    <tr>\n",
       "      <th>149</th>\n",
       "      <td>2015-06-02 11:21:25</td>\n",
       "      <td>2015-06-02 11:21:50</td>\n",
       "      <td>1</td>\n",
       "      <td>0.00</td>\n",
       "      <td>4.30</td>\n",
       "      <td>0 days 00:00:25</td>\n",
       "    </tr>\n",
       "    <tr>\n",
       "      <th>297</th>\n",
       "      <td>2015-06-02 11:20:23</td>\n",
       "      <td>2015-06-02 11:20:23</td>\n",
       "      <td>2</td>\n",
       "      <td>0.00</td>\n",
       "      <td>2.30</td>\n",
       "      <td>0 days 00:00:00</td>\n",
       "    </tr>\n",
       "    <tr>\n",
       "      <th>516</th>\n",
       "      <td>2015-06-02 11:21:14</td>\n",
       "      <td>2015-06-02 11:22:03</td>\n",
       "      <td>1</td>\n",
       "      <td>0.03</td>\n",
       "      <td>3.96</td>\n",
       "      <td>0 days 00:00:49</td>\n",
       "    </tr>\n",
       "    <tr>\n",
       "      <th>657</th>\n",
       "      <td>2015-06-02 11:24:33</td>\n",
       "      <td>2015-06-02 11:24:50</td>\n",
       "      <td>1</td>\n",
       "      <td>0.00</td>\n",
       "      <td>15.35</td>\n",
       "      <td>0 days 00:00:17</td>\n",
       "    </tr>\n",
       "    <tr>\n",
       "      <th>...</th>\n",
       "      <td>...</td>\n",
       "      <td>...</td>\n",
       "      <td>...</td>\n",
       "      <td>...</td>\n",
       "      <td>...</td>\n",
       "      <td>...</td>\n",
       "    </tr>\n",
       "    <tr>\n",
       "      <th>9452</th>\n",
       "      <td>2015-06-01 00:10:45</td>\n",
       "      <td>2015-06-01 00:11:28</td>\n",
       "      <td>1</td>\n",
       "      <td>0.10</td>\n",
       "      <td>3.80</td>\n",
       "      <td>0 days 00:00:43</td>\n",
       "    </tr>\n",
       "    <tr>\n",
       "      <th>9693</th>\n",
       "      <td>2015-06-01 00:11:08</td>\n",
       "      <td>2015-06-01 00:11:08</td>\n",
       "      <td>1</td>\n",
       "      <td>5.03</td>\n",
       "      <td>18.80</td>\n",
       "      <td>0 days 00:00:00</td>\n",
       "    </tr>\n",
       "    <tr>\n",
       "      <th>9761</th>\n",
       "      <td>2015-06-01 00:12:46</td>\n",
       "      <td>2015-06-01 00:12:46</td>\n",
       "      <td>1</td>\n",
       "      <td>0.00</td>\n",
       "      <td>5.80</td>\n",
       "      <td>0 days 00:00:00</td>\n",
       "    </tr>\n",
       "    <tr>\n",
       "      <th>9868</th>\n",
       "      <td>2015-06-01 00:12:31</td>\n",
       "      <td>2015-06-01 00:12:56</td>\n",
       "      <td>2</td>\n",
       "      <td>2.40</td>\n",
       "      <td>58.34</td>\n",
       "      <td>0 days 00:00:25</td>\n",
       "    </tr>\n",
       "    <tr>\n",
       "      <th>9937</th>\n",
       "      <td>2015-06-01 00:13:22</td>\n",
       "      <td>2015-06-01 00:14:18</td>\n",
       "      <td>1</td>\n",
       "      <td>0.10</td>\n",
       "      <td>3.80</td>\n",
       "      <td>0 days 00:00:56</td>\n",
       "    </tr>\n",
       "  </tbody>\n",
       "</table>\n",
       "<p>84 rows × 6 columns</p>\n",
       "</div>"
      ],
      "text/plain": [
       "     tpep_pickup_datetime tpep_dropoff_datetime  passenger_count  \\\n",
       "10    2015-06-02 11:19:38   2015-06-02 11:19:43                3   \n",
       "149   2015-06-02 11:21:25   2015-06-02 11:21:50                1   \n",
       "297   2015-06-02 11:20:23   2015-06-02 11:20:23                2   \n",
       "516   2015-06-02 11:21:14   2015-06-02 11:22:03                1   \n",
       "657   2015-06-02 11:24:33   2015-06-02 11:24:50                1   \n",
       "...                   ...                   ...              ...   \n",
       "9452  2015-06-01 00:10:45   2015-06-01 00:11:28                1   \n",
       "9693  2015-06-01 00:11:08   2015-06-01 00:11:08                1   \n",
       "9761  2015-06-01 00:12:46   2015-06-01 00:12:46                1   \n",
       "9868  2015-06-01 00:12:31   2015-06-01 00:12:56                2   \n",
       "9937  2015-06-01 00:13:22   2015-06-01 00:14:18                1   \n",
       "\n",
       "      trip_distance  total_amount       trip_time  \n",
       "10             0.01         52.80 0 days 00:00:05  \n",
       "149            0.00          4.30 0 days 00:00:25  \n",
       "297            0.00          2.30 0 days 00:00:00  \n",
       "516            0.03          3.96 0 days 00:00:49  \n",
       "657            0.00         15.35 0 days 00:00:17  \n",
       "...             ...           ...             ...  \n",
       "9452           0.10          3.80 0 days 00:00:43  \n",
       "9693           5.03         18.80 0 days 00:00:00  \n",
       "9761           0.00          5.80 0 days 00:00:00  \n",
       "9868           2.40         58.34 0 days 00:00:25  \n",
       "9937           0.10          3.80 0 days 00:00:56  \n",
       "\n",
       "[84 rows x 6 columns]"
      ]
     },
     "execution_count": 43,
     "metadata": {},
     "output_type": "execute_result"
    }
   ],
   "source": [
    "# we can even do this:\n",
    "df.loc[df['trip_time'] < '00:01:00']    # just write the time in HH:MM:SS"
   ]
  },
  {
   "cell_type": "markdown",
   "id": "fdbfca3f-500e-4596-8911-b685ebacdccc",
   "metadata": {},
   "source": [
    "# Exercise: Taxi times\n",
    "\n",
    "1. Create a `trip_time` column, like I did, with the timedelta of the trip time.\n",
    "2. Create a `trip_description` column, with values `short`, `medium`, or `long`. `short` will be for rides that were < 1 minute, `long` will be for all rides > 30 minutes, and `medium` will be for everything else.  How many trips were there of each sort?\n",
    "3. What were the average fare and distance for trips > 1 hour?\n",
    "4. What were the average fare and distance for trips < 1 minute?"
   ]
  },
  {
   "cell_type": "code",
   "execution_count": 44,
   "id": "31585b67-08d1-4fc7-9731-def4bf26773e",
   "metadata": {},
   "outputs": [],
   "source": [
    "df['trip_time'] = df['tpep_dropoff_datetime'] - df['tpep_pickup_datetime']\n"
   ]
  },
  {
   "cell_type": "code",
   "execution_count": 45,
   "id": "227a42bf-18e0-4a63-afcc-5902a3872c8f",
   "metadata": {},
   "outputs": [
    {
     "data": {
      "text/plain": [
       "tpep_pickup_datetime      datetime64[ns]\n",
       "tpep_dropoff_datetime     datetime64[ns]\n",
       "passenger_count                    int64\n",
       "trip_distance                    float64\n",
       "total_amount                     float64\n",
       "trip_time                timedelta64[ns]\n",
       "dtype: object"
      ]
     },
     "execution_count": 45,
     "metadata": {},
     "output_type": "execute_result"
    }
   ],
   "source": [
    "df.dtypes"
   ]
  },
  {
   "cell_type": "code",
   "execution_count": 46,
   "id": "9be68652-347f-48f2-89db-1717efe1edc8",
   "metadata": {},
   "outputs": [],
   "source": [
    "\n",
    "df['trip_description'] = 'medium'"
   ]
  },
  {
   "cell_type": "code",
   "execution_count": 48,
   "id": "fc4d2dfd-5419-4535-b7ea-a6335caa25e2",
   "metadata": {},
   "outputs": [],
   "source": [
    "df.loc[df['trip_time'] < '1 minute',\n",
    "      'trip_description'] = 'short'"
   ]
  },
  {
   "cell_type": "code",
   "execution_count": 49,
   "id": "636cb5de-6aaf-4371-94ef-fafa5713c114",
   "metadata": {},
   "outputs": [],
   "source": [
    "df.loc[df['trip_time'] > '30 minutes',\n",
    "      'trip_description'] = 'long'"
   ]
  },
  {
   "cell_type": "code",
   "execution_count": 50,
   "id": "47b6aba7-6488-47d0-9df9-b9282f3a6285",
   "metadata": {},
   "outputs": [
    {
     "data": {
      "text/plain": [
       "trip_description\n",
       "medium    8671\n",
       "long      1244\n",
       "short       84\n",
       "Name: count, dtype: int64"
      ]
     },
     "execution_count": 50,
     "metadata": {},
     "output_type": "execute_result"
    }
   ],
   "source": [
    "df['trip_description'].value_counts()"
   ]
  },
  {
   "cell_type": "code",
   "execution_count": 58,
   "id": "2bf8bc30-a2ca-47c3-a70f-d4060cf54f24",
   "metadata": {},
   "outputs": [],
   "source": [
    "import numpy as np\n",
    "# np.select(df['trip_time' < \"1 minute\"], ['short'])"
   ]
  },
  {
   "cell_type": "code",
   "execution_count": 61,
   "id": "68d5d9a3-a928-48b3-b1b0-e6bf1dec5225",
   "metadata": {},
   "outputs": [
    {
     "data": {
      "text/plain": [
       "trip_distance    16.294118\n",
       "total_amount     62.576529\n",
       "dtype: float64"
      ]
     },
     "execution_count": 61,
     "metadata": {},
     "output_type": "execute_result"
    }
   ],
   "source": [
    "# 3. What were the average fare and distance for trips > 1 hour?\n",
    "\n",
    "df.loc[\n",
    "     df['trip_time'] > '1 hour',\n",
    "    ['trip_distance', 'total_amount']].mean()"
   ]
  },
  {
   "cell_type": "code",
   "execution_count": 63,
   "id": "f1de02f7-bd52-476d-8514-a82602747967",
   "metadata": {},
   "outputs": [
    {
     "data": {
      "text/plain": [
       "trip_distance     1.338690\n",
       "total_amount     31.938929\n",
       "dtype: float64"
      ]
     },
     "execution_count": 63,
     "metadata": {},
     "output_type": "execute_result"
    }
   ],
   "source": [
    "# 4. What were the average fare and distance for trips < 1 minute?\n",
    "\n",
    "df.loc[\n",
    "     df['trip_time'] < '1 minute',\n",
    "    ['trip_distance', 'total_amount']].mean()"
   ]
  },
  {
   "cell_type": "code",
   "execution_count": 64,
   "id": "49ea08b2-ce28-4dbd-a428-bfccfc27abb6",
   "metadata": {},
   "outputs": [
    {
     "data": {
      "text/html": [
       "<div>\n",
       "<style scoped>\n",
       "    .dataframe tbody tr th:only-of-type {\n",
       "        vertical-align: middle;\n",
       "    }\n",
       "\n",
       "    .dataframe tbody tr th {\n",
       "        vertical-align: top;\n",
       "    }\n",
       "\n",
       "    .dataframe thead th {\n",
       "        text-align: right;\n",
       "    }\n",
       "</style>\n",
       "<table border=\"1\" class=\"dataframe\">\n",
       "  <thead>\n",
       "    <tr style=\"text-align: right;\">\n",
       "      <th></th>\n",
       "      <th>trip_distance</th>\n",
       "      <th>total_amount</th>\n",
       "    </tr>\n",
       "    <tr>\n",
       "      <th>trip_description</th>\n",
       "      <th></th>\n",
       "      <th></th>\n",
       "    </tr>\n",
       "  </thead>\n",
       "  <tbody>\n",
       "    <tr>\n",
       "      <th>long</th>\n",
       "      <td>9.412998</td>\n",
       "      <td>43.423023</td>\n",
       "    </tr>\n",
       "    <tr>\n",
       "      <th>medium</th>\n",
       "      <td>2.278829</td>\n",
       "      <td>13.701541</td>\n",
       "    </tr>\n",
       "    <tr>\n",
       "      <th>short</th>\n",
       "      <td>1.338690</td>\n",
       "      <td>31.938929</td>\n",
       "    </tr>\n",
       "  </tbody>\n",
       "</table>\n",
       "</div>"
      ],
      "text/plain": [
       "                  trip_distance  total_amount\n",
       "trip_description                             \n",
       "long                   9.412998     43.423023\n",
       "medium                 2.278829     13.701541\n",
       "short                  1.338690     31.938929"
      ]
     },
     "execution_count": 64,
     "metadata": {},
     "output_type": "execute_result"
    }
   ],
   "source": [
    "df.groupby('trip_description')[['trip_distance', 'total_amount']].mean()"
   ]
  },
  {
   "cell_type": "code",
   "execution_count": 67,
   "id": "19e84a42-0066-4136-8eb4-c6b7956720e6",
   "metadata": {},
   "outputs": [
    {
     "name": "stdout",
     "output_type": "stream",
     "text": [
      "-rw-r--r-- 1 reuven staff 2.2G Jul 29  2021 ../Data/nyc-parking-violations-2020.csv\n",
      "-rw-r--r-- 1 reuven staff 1.9K Jul 29  2021 ../Data/nyc-temps.txt\n",
      "-rw-r--r-- 1 reuven staff 656M Jul 29  2021 ../Data/nyc_taxi_2019-01.csv\n",
      "-rw-r--r-- 1 reuven staff 558M Jul 29  2021 ../Data/nyc_taxi_2019-07.csv\n",
      "-rw-r--r-- 1 reuven staff 567M Jul 29  2021 ../Data/nyc_taxi_2020-01.csv\n",
      "-rw-r--r-- 1 reuven staff  70M Jul 29  2021 ../Data/nyc_taxi_2020-07.csv\n"
     ]
    }
   ],
   "source": [
    "!ls -lh ../Data/*nyc*"
   ]
  },
  {
   "cell_type": "markdown",
   "id": "7d05b935-e1da-4829-b6f2-8597bb6f0542",
   "metadata": {},
   "source": [
    "# Exercise: Taxi comparisons\n",
    "\n",
    "1. Read the NYC taxi data from July 2019 and July 2020 into a single data frame.\n",
    "2. How many rides were there, per hour, in all of this data set?\n",
    "3. How far did someone ride, on average, per day of the week?\n",
    "4. How many passengers were there, on average, in 2019 vs. 2020?\n",
    "5. How many rides were there total, in 2019 vs. 2020?\n",
    "6. What percentage of people paid with credit vs. cash in 2019 vs. 2020? Check the `payment_type` column, 1 == credit, 2 == cash."
   ]
  },
  {
   "cell_type": "code",
   "execution_count": 68,
   "id": "b31ad776-f567-479b-b2fc-8940262eb4b2",
   "metadata": {},
   "outputs": [],
   "source": [
    "# https://files.lerner.co.il/pandas-workout-data.zip"
   ]
  },
  {
   "cell_type": "markdown",
   "id": "ac6d6829-3c74-4282-8537-cfa2aab813c0",
   "metadata": {},
   "source": [
    "If you have two data frames in a list, you can create a new data frame from them as:\n",
    "\n",
    "    new_df = pd.concat([df1, df2])"
   ]
  },
  {
   "cell_type": "code",
   "execution_count": 74,
   "id": "5943a2cd-c3c3-4ffb-9cba-fd5cc7a1cf6d",
   "metadata": {},
   "outputs": [],
   "source": [
    "import glob\n",
    "\n",
    "all_dfs = [pd.read_csv(one_filename,\n",
    "                      usecols=['tpep_pickup_datetime', 'tpep_dropoff_datetime',\n",
    "                              'passenger_count', 'trip_distance', 'total_amount',\n",
    "                              'payment_type'],\n",
    "                      parse_dates=['tpep_pickup_datetime', \n",
    "                                  'tpep_dropoff_datetime'])\n",
    "     for one_filename in glob.glob('../Data/nyc_taxi_20??-07.csv')]"
   ]
  },
  {
   "cell_type": "code",
   "execution_count": 75,
   "id": "1b2235ae-d6f5-4d98-b908-a75020eb1a14",
   "metadata": {},
   "outputs": [
    {
     "data": {
      "text/plain": [
       "2"
      ]
     },
     "execution_count": 75,
     "metadata": {},
     "output_type": "execute_result"
    }
   ],
   "source": [
    "len(all_dfs)"
   ]
  },
  {
   "cell_type": "code",
   "execution_count": 76,
   "id": "bdadca79-3874-4a68-a950-0392bd128d4e",
   "metadata": {},
   "outputs": [],
   "source": [
    "df = pd.concat(all_dfs)"
   ]
  },
  {
   "cell_type": "code",
   "execution_count": 77,
   "id": "b4907c39-5fd3-4b6d-9268-4956e5f98019",
   "metadata": {},
   "outputs": [
    {
     "data": {
      "text/plain": [
       "(7110831, 6)"
      ]
     },
     "execution_count": 77,
     "metadata": {},
     "output_type": "execute_result"
    }
   ],
   "source": [
    "df.shape"
   ]
  },
  {
   "cell_type": "code",
   "execution_count": 78,
   "id": "8ddfb671-9ca6-437e-bde4-66f0eb3b2e89",
   "metadata": {},
   "outputs": [
    {
     "data": {
      "text/plain": [
       "tpep_pickup_datetime     datetime64[ns]\n",
       "tpep_dropoff_datetime    datetime64[ns]\n",
       "passenger_count                 float64\n",
       "trip_distance                   float64\n",
       "payment_type                    float64\n",
       "total_amount                    float64\n",
       "dtype: object"
      ]
     },
     "execution_count": 78,
     "metadata": {},
     "output_type": "execute_result"
    }
   ],
   "source": [
    "df.dtypes"
   ]
  },
  {
   "cell_type": "code",
   "execution_count": 80,
   "id": "8e8fc458-fff4-4d56-98b7-f93adef4e954",
   "metadata": {},
   "outputs": [
    {
     "data": {
      "text/plain": [
       "tpep_pickup_datetime\n",
       "0     193718\n",
       "1     131216\n",
       "2      91382\n",
       "3      60874\n",
       "4      48945\n",
       "5      65119\n",
       "6     154861\n",
       "7     240207\n",
       "8     317075\n",
       "9     333967\n",
       "10    339585\n",
       "11    358137\n",
       "12    383888\n",
       "13    394439\n",
       "14    411184\n",
       "15    408219\n",
       "16    385015\n",
       "17    420856\n",
       "18    460453\n",
       "19    433717\n",
       "20    384774\n",
       "21    377363\n",
       "22    343277\n",
       "23    275754\n",
       "Name: passenger_count, dtype: int64"
      ]
     },
     "execution_count": 80,
     "metadata": {},
     "output_type": "execute_result"
    }
   ],
   "source": [
    "# 2. How many rides were there, per hour, in all of this data set?\n",
    "\n",
    "df.groupby(df['tpep_pickup_datetime'].dt.hour)['passenger_count'].count()"
   ]
  },
  {
   "cell_type": "code",
   "execution_count": 86,
   "id": "e9c84072-1e26-4bfc-883d-bc09d48c9b42",
   "metadata": {},
   "outputs": [
    {
     "data": {
      "text/html": [
       "<div>\n",
       "<style scoped>\n",
       "    .dataframe tbody tr th:only-of-type {\n",
       "        vertical-align: middle;\n",
       "    }\n",
       "\n",
       "    .dataframe tbody tr th {\n",
       "        vertical-align: top;\n",
       "    }\n",
       "\n",
       "    .dataframe thead th {\n",
       "        text-align: right;\n",
       "    }\n",
       "</style>\n",
       "<table border=\"1\" class=\"dataframe\">\n",
       "  <thead>\n",
       "    <tr style=\"text-align: right;\">\n",
       "      <th>tpep_pickup_datetime</th>\n",
       "      <th>2019</th>\n",
       "      <th>2020</th>\n",
       "    </tr>\n",
       "    <tr>\n",
       "      <th>tpep_pickup_datetime</th>\n",
       "      <th></th>\n",
       "      <th></th>\n",
       "    </tr>\n",
       "  </thead>\n",
       "  <tbody>\n",
       "    <tr>\n",
       "      <th>0</th>\n",
       "      <td>183530.0</td>\n",
       "      <td>10175.0</td>\n",
       "    </tr>\n",
       "    <tr>\n",
       "      <th>1</th>\n",
       "      <td>125536.0</td>\n",
       "      <td>5663.0</td>\n",
       "    </tr>\n",
       "    <tr>\n",
       "      <th>2</th>\n",
       "      <td>87592.0</td>\n",
       "      <td>3788.0</td>\n",
       "    </tr>\n",
       "    <tr>\n",
       "      <th>3</th>\n",
       "      <td>58452.0</td>\n",
       "      <td>2420.0</td>\n",
       "    </tr>\n",
       "    <tr>\n",
       "      <th>4</th>\n",
       "      <td>46419.0</td>\n",
       "      <td>2526.0</td>\n",
       "    </tr>\n",
       "    <tr>\n",
       "      <th>5</th>\n",
       "      <td>59017.0</td>\n",
       "      <td>6102.0</td>\n",
       "    </tr>\n",
       "    <tr>\n",
       "      <th>6</th>\n",
       "      <td>137598.0</td>\n",
       "      <td>17263.0</td>\n",
       "    </tr>\n",
       "    <tr>\n",
       "      <th>7</th>\n",
       "      <td>216047.0</td>\n",
       "      <td>24160.0</td>\n",
       "    </tr>\n",
       "    <tr>\n",
       "      <th>8</th>\n",
       "      <td>284184.0</td>\n",
       "      <td>32890.0</td>\n",
       "    </tr>\n",
       "    <tr>\n",
       "      <th>9</th>\n",
       "      <td>295529.0</td>\n",
       "      <td>38436.0</td>\n",
       "    </tr>\n",
       "    <tr>\n",
       "      <th>10</th>\n",
       "      <td>296189.0</td>\n",
       "      <td>43394.0</td>\n",
       "    </tr>\n",
       "    <tr>\n",
       "      <th>11</th>\n",
       "      <td>311414.0</td>\n",
       "      <td>46723.0</td>\n",
       "    </tr>\n",
       "    <tr>\n",
       "      <th>12</th>\n",
       "      <td>332855.0</td>\n",
       "      <td>51031.0</td>\n",
       "    </tr>\n",
       "    <tr>\n",
       "      <th>13</th>\n",
       "      <td>340513.0</td>\n",
       "      <td>53926.0</td>\n",
       "    </tr>\n",
       "    <tr>\n",
       "      <th>14</th>\n",
       "      <td>355703.0</td>\n",
       "      <td>55481.0</td>\n",
       "    </tr>\n",
       "    <tr>\n",
       "      <th>15</th>\n",
       "      <td>352275.0</td>\n",
       "      <td>55944.0</td>\n",
       "    </tr>\n",
       "    <tr>\n",
       "      <th>16</th>\n",
       "      <td>331283.0</td>\n",
       "      <td>53731.0</td>\n",
       "    </tr>\n",
       "    <tr>\n",
       "      <th>17</th>\n",
       "      <td>367108.0</td>\n",
       "      <td>53748.0</td>\n",
       "    </tr>\n",
       "    <tr>\n",
       "      <th>18</th>\n",
       "      <td>409743.0</td>\n",
       "      <td>50709.0</td>\n",
       "    </tr>\n",
       "    <tr>\n",
       "      <th>19</th>\n",
       "      <td>393227.0</td>\n",
       "      <td>40490.0</td>\n",
       "    </tr>\n",
       "    <tr>\n",
       "      <th>20</th>\n",
       "      <td>355628.0</td>\n",
       "      <td>29146.0</td>\n",
       "    </tr>\n",
       "    <tr>\n",
       "      <th>21</th>\n",
       "      <td>354054.0</td>\n",
       "      <td>23309.0</td>\n",
       "    </tr>\n",
       "    <tr>\n",
       "      <th>22</th>\n",
       "      <td>323722.0</td>\n",
       "      <td>19553.0</td>\n",
       "    </tr>\n",
       "    <tr>\n",
       "      <th>23</th>\n",
       "      <td>258786.0</td>\n",
       "      <td>16957.0</td>\n",
       "    </tr>\n",
       "  </tbody>\n",
       "</table>\n",
       "</div>"
      ],
      "text/plain": [
       "tpep_pickup_datetime      2019     2020\n",
       "tpep_pickup_datetime                   \n",
       "0                     183530.0  10175.0\n",
       "1                     125536.0   5663.0\n",
       "2                      87592.0   3788.0\n",
       "3                      58452.0   2420.0\n",
       "4                      46419.0   2526.0\n",
       "5                      59017.0   6102.0\n",
       "6                     137598.0  17263.0\n",
       "7                     216047.0  24160.0\n",
       "8                     284184.0  32890.0\n",
       "9                     295529.0  38436.0\n",
       "10                    296189.0  43394.0\n",
       "11                    311414.0  46723.0\n",
       "12                    332855.0  51031.0\n",
       "13                    340513.0  53926.0\n",
       "14                    355703.0  55481.0\n",
       "15                    352275.0  55944.0\n",
       "16                    331283.0  53731.0\n",
       "17                    367108.0  53748.0\n",
       "18                    409743.0  50709.0\n",
       "19                    393227.0  40490.0\n",
       "20                    355628.0  29146.0\n",
       "21                    354054.0  23309.0\n",
       "22                    323722.0  19553.0\n",
       "23                    258786.0  16957.0"
      ]
     },
     "execution_count": 86,
     "metadata": {},
     "output_type": "execute_result"
    }
   ],
   "source": [
    "# check the different years\n",
    "\n",
    "df.groupby([df['tpep_pickup_datetime'].dt.year,\n",
    "            df['tpep_pickup_datetime'].dt.hour])['passenger_count'].count().unstack(level=0)[[2019, 2020]]"
   ]
  },
  {
   "cell_type": "code",
   "execution_count": 87,
   "id": "0a1f0945-00aa-4f62-a449-cdaa6a2ab0df",
   "metadata": {},
   "outputs": [
    {
     "data": {
      "text/plain": [
       "tpep_pickup_datetime\n",
       "0    3.191806\n",
       "1    2.976121\n",
       "2    2.962656\n",
       "3    3.389869\n",
       "4    3.200213\n",
       "5    3.458577\n",
       "6    3.854376\n",
       "Name: trip_distance, dtype: float64"
      ]
     },
     "execution_count": 87,
     "metadata": {},
     "output_type": "execute_result"
    }
   ],
   "source": [
    "# 3. How far did someone ride, on average, per day of the week?\n",
    "\n",
    "df.groupby(df['tpep_pickup_datetime'].dt.day_of_week)['trip_distance'].mean()"
   ]
  },
  {
   "cell_type": "code",
   "execution_count": null,
   "id": "e6c5f35c-4794-45f9-9773-3f0e2404e5ae",
   "metadata": {},
   "outputs": [],
   "source": [
    "# 4. How many passengers were there, on average, in 2019 vs. 2020?\n",
    "# 5. How many rides were there total, in 2019 vs. 2020?\n",
    "# 6. What percentage of people paid with credit vs. cash in 2019 vs. 2020? Check the `payment_type` column, 1 == credit, 2 == cash."
   ]
  }
 ],
 "metadata": {
  "kernelspec": {
   "display_name": "Python 3 (ipykernel)",
   "language": "python",
   "name": "python3"
  },
  "language_info": {
   "codemirror_mode": {
    "name": "ipython",
    "version": 3
   },
   "file_extension": ".py",
   "mimetype": "text/x-python",
   "name": "python",
   "nbconvert_exporter": "python",
   "pygments_lexer": "ipython3",
   "version": "3.11.4"
  }
 },
 "nbformat": 4,
 "nbformat_minor": 5
}
