{
 "cells": [
  {
   "cell_type": "markdown",
   "id": "0a363829-e740-447d-9150-b7889beb21eb",
   "metadata": {},
   "source": [
    "# Agenda \n",
    "\n",
    "1. Timestamp + timedelta types\n",
    "2. Working with timestamps in data frames -- `.dt`\n",
    "3. Timedelta and comparisons\n",
    "4. Time series -- timesetamps as indexes\n",
    "5. Resampling"
   ]
  },
  {
   "cell_type": "markdown",
   "id": "0413f1b0-69c1-4b9a-bf73-a9b5432bfd7d",
   "metadata": {},
   "source": [
    "# Timestamp + timedelta\n",
    "\n",
    "We mean two things when we say \"time\":\n",
    "- A point in time (timestamp, datetime)\n",
    "- A span of time (timedelta, interval)\n",
    "\n",
    "  "
   ]
  },
  {
   "cell_type": "code",
   "execution_count": 1,
   "id": "bb3239aa-6591-48ac-8bad-ea3e29f0516b",
   "metadata": {},
   "outputs": [],
   "source": [
    "import pandas as pd\n",
    "from pandas import Series, DataFrame"
   ]
  },
  {
   "cell_type": "code",
   "execution_count": 2,
   "id": "8f026878-41df-4c3e-bb54-82e7df02b4e8",
   "metadata": {},
   "outputs": [],
   "source": [
    "df = pd.read_csv('taxi.csv',\n",
    "                usecols=['tpep_pickup_datetime', 'tpep_dropoff_datetime',\n",
    "                        'passenger_count', 'trip_distance', 'total_amount'])"
   ]
  },
  {
   "cell_type": "code",
   "execution_count": 3,
   "id": "8495b0ec-0c3c-4a44-afe4-ed54587815d6",
   "metadata": {},
   "outputs": [
    {
     "data": {
      "text/html": [
       "<div>\n",
       "<style scoped>\n",
       "    .dataframe tbody tr th:only-of-type {\n",
       "        vertical-align: middle;\n",
       "    }\n",
       "\n",
       "    .dataframe tbody tr th {\n",
       "        vertical-align: top;\n",
       "    }\n",
       "\n",
       "    .dataframe thead th {\n",
       "        text-align: right;\n",
       "    }\n",
       "</style>\n",
       "<table border=\"1\" class=\"dataframe\">\n",
       "  <thead>\n",
       "    <tr style=\"text-align: right;\">\n",
       "      <th></th>\n",
       "      <th>tpep_pickup_datetime</th>\n",
       "      <th>tpep_dropoff_datetime</th>\n",
       "      <th>passenger_count</th>\n",
       "      <th>trip_distance</th>\n",
       "      <th>total_amount</th>\n",
       "    </tr>\n",
       "  </thead>\n",
       "  <tbody>\n",
       "    <tr>\n",
       "      <th>0</th>\n",
       "      <td>2015-06-02 11:19:29</td>\n",
       "      <td>2015-06-02 11:47:52</td>\n",
       "      <td>1</td>\n",
       "      <td>1.63</td>\n",
       "      <td>17.80</td>\n",
       "    </tr>\n",
       "    <tr>\n",
       "      <th>1</th>\n",
       "      <td>2015-06-02 11:19:30</td>\n",
       "      <td>2015-06-02 11:27:56</td>\n",
       "      <td>1</td>\n",
       "      <td>0.46</td>\n",
       "      <td>8.30</td>\n",
       "    </tr>\n",
       "    <tr>\n",
       "      <th>2</th>\n",
       "      <td>2015-06-02 11:19:31</td>\n",
       "      <td>2015-06-02 11:30:30</td>\n",
       "      <td>1</td>\n",
       "      <td>0.87</td>\n",
       "      <td>11.00</td>\n",
       "    </tr>\n",
       "    <tr>\n",
       "      <th>3</th>\n",
       "      <td>2015-06-02 11:19:31</td>\n",
       "      <td>2015-06-02 11:39:02</td>\n",
       "      <td>1</td>\n",
       "      <td>2.13</td>\n",
       "      <td>17.16</td>\n",
       "    </tr>\n",
       "    <tr>\n",
       "      <th>4</th>\n",
       "      <td>2015-06-02 11:19:32</td>\n",
       "      <td>2015-06-02 11:32:49</td>\n",
       "      <td>1</td>\n",
       "      <td>1.40</td>\n",
       "      <td>10.30</td>\n",
       "    </tr>\n",
       "  </tbody>\n",
       "</table>\n",
       "</div>"
      ],
      "text/plain": [
       "  tpep_pickup_datetime tpep_dropoff_datetime  passenger_count  trip_distance  \\\n",
       "0  2015-06-02 11:19:29   2015-06-02 11:47:52                1           1.63   \n",
       "1  2015-06-02 11:19:30   2015-06-02 11:27:56                1           0.46   \n",
       "2  2015-06-02 11:19:31   2015-06-02 11:30:30                1           0.87   \n",
       "3  2015-06-02 11:19:31   2015-06-02 11:39:02                1           2.13   \n",
       "4  2015-06-02 11:19:32   2015-06-02 11:32:49                1           1.40   \n",
       "\n",
       "   total_amount  \n",
       "0         17.80  \n",
       "1          8.30  \n",
       "2         11.00  \n",
       "3         17.16  \n",
       "4         10.30  "
      ]
     },
     "execution_count": 3,
     "metadata": {},
     "output_type": "execute_result"
    }
   ],
   "source": [
    "df.head()"
   ]
  },
  {
   "cell_type": "code",
   "execution_count": 4,
   "id": "e82101dd-ed83-49a2-bc9e-3b0839f4cca2",
   "metadata": {},
   "outputs": [
    {
     "data": {
      "text/plain": [
       "tpep_pickup_datetime      object\n",
       "tpep_dropoff_datetime     object\n",
       "passenger_count            int64\n",
       "trip_distance            float64\n",
       "total_amount             float64\n",
       "dtype: object"
      ]
     },
     "execution_count": 4,
     "metadata": {},
     "output_type": "execute_result"
    }
   ],
   "source": [
    "df.dtypes"
   ]
  },
  {
   "cell_type": "code",
   "execution_count": 5,
   "id": "17cb0a8d-4a59-42e7-bc07-033ddb0d276d",
   "metadata": {},
   "outputs": [],
   "source": [
    "# How can I turn the timestamp columns into actual timestamps?\n",
    "\n",
    "df = pd.read_csv('taxi.csv',\n",
    "                usecols=['tpep_pickup_datetime', 'tpep_dropoff_datetime',\n",
    "                        'passenger_count', 'trip_distance', 'total_amount'],\n",
    "                parse_dates=['tpep_pickup_datetime',\n",
    "                            'tpep_dropoff_datetime'])"
   ]
  },
  {
   "cell_type": "code",
   "execution_count": 6,
   "id": "6f0c7bf8-3019-451e-8f55-b47d4e44b6b8",
   "metadata": {},
   "outputs": [
    {
     "data": {
      "text/html": [
       "<div>\n",
       "<style scoped>\n",
       "    .dataframe tbody tr th:only-of-type {\n",
       "        vertical-align: middle;\n",
       "    }\n",
       "\n",
       "    .dataframe tbody tr th {\n",
       "        vertical-align: top;\n",
       "    }\n",
       "\n",
       "    .dataframe thead th {\n",
       "        text-align: right;\n",
       "    }\n",
       "</style>\n",
       "<table border=\"1\" class=\"dataframe\">\n",
       "  <thead>\n",
       "    <tr style=\"text-align: right;\">\n",
       "      <th></th>\n",
       "      <th>tpep_pickup_datetime</th>\n",
       "      <th>tpep_dropoff_datetime</th>\n",
       "      <th>passenger_count</th>\n",
       "      <th>trip_distance</th>\n",
       "      <th>total_amount</th>\n",
       "    </tr>\n",
       "  </thead>\n",
       "  <tbody>\n",
       "    <tr>\n",
       "      <th>0</th>\n",
       "      <td>2015-06-02 11:19:29</td>\n",
       "      <td>2015-06-02 11:47:52</td>\n",
       "      <td>1</td>\n",
       "      <td>1.63</td>\n",
       "      <td>17.80</td>\n",
       "    </tr>\n",
       "    <tr>\n",
       "      <th>1</th>\n",
       "      <td>2015-06-02 11:19:30</td>\n",
       "      <td>2015-06-02 11:27:56</td>\n",
       "      <td>1</td>\n",
       "      <td>0.46</td>\n",
       "      <td>8.30</td>\n",
       "    </tr>\n",
       "    <tr>\n",
       "      <th>2</th>\n",
       "      <td>2015-06-02 11:19:31</td>\n",
       "      <td>2015-06-02 11:30:30</td>\n",
       "      <td>1</td>\n",
       "      <td>0.87</td>\n",
       "      <td>11.00</td>\n",
       "    </tr>\n",
       "    <tr>\n",
       "      <th>3</th>\n",
       "      <td>2015-06-02 11:19:31</td>\n",
       "      <td>2015-06-02 11:39:02</td>\n",
       "      <td>1</td>\n",
       "      <td>2.13</td>\n",
       "      <td>17.16</td>\n",
       "    </tr>\n",
       "    <tr>\n",
       "      <th>4</th>\n",
       "      <td>2015-06-02 11:19:32</td>\n",
       "      <td>2015-06-02 11:32:49</td>\n",
       "      <td>1</td>\n",
       "      <td>1.40</td>\n",
       "      <td>10.30</td>\n",
       "    </tr>\n",
       "  </tbody>\n",
       "</table>\n",
       "</div>"
      ],
      "text/plain": [
       "  tpep_pickup_datetime tpep_dropoff_datetime  passenger_count  trip_distance  \\\n",
       "0  2015-06-02 11:19:29   2015-06-02 11:47:52                1           1.63   \n",
       "1  2015-06-02 11:19:30   2015-06-02 11:27:56                1           0.46   \n",
       "2  2015-06-02 11:19:31   2015-06-02 11:30:30                1           0.87   \n",
       "3  2015-06-02 11:19:31   2015-06-02 11:39:02                1           2.13   \n",
       "4  2015-06-02 11:19:32   2015-06-02 11:32:49                1           1.40   \n",
       "\n",
       "   total_amount  \n",
       "0         17.80  \n",
       "1          8.30  \n",
       "2         11.00  \n",
       "3         17.16  \n",
       "4         10.30  "
      ]
     },
     "execution_count": 6,
     "metadata": {},
     "output_type": "execute_result"
    }
   ],
   "source": [
    "\n",
    "df.head()"
   ]
  },
  {
   "cell_type": "code",
   "execution_count": 7,
   "id": "fe6efc03-8d5a-4684-b339-aab40430e75f",
   "metadata": {},
   "outputs": [
    {
     "data": {
      "text/plain": [
       "tpep_pickup_datetime     datetime64[ns]\n",
       "tpep_dropoff_datetime    datetime64[ns]\n",
       "passenger_count                   int64\n",
       "trip_distance                   float64\n",
       "total_amount                    float64\n",
       "dtype: object"
      ]
     },
     "execution_count": 7,
     "metadata": {},
     "output_type": "execute_result"
    }
   ],
   "source": [
    "df.dtypes"
   ]
  },
  {
   "cell_type": "markdown",
   "id": "89a1949c-cb8c-4a23-8a88-4d4e92c49706",
   "metadata": {},
   "source": [
    "Just as we can use `.str` to retrieve from a string, we can use `.dt` to retrieve from a datetime."
   ]
  },
  {
   "cell_type": "code",
   "execution_count": 8,
   "id": "ac8e6973-3a25-4b41-821c-4289b7de7636",
   "metadata": {},
   "outputs": [
    {
     "data": {
      "text/plain": [
       "0       2015\n",
       "1       2015\n",
       "2       2015\n",
       "3       2015\n",
       "4       2015\n",
       "        ... \n",
       "9994    2015\n",
       "9995    2015\n",
       "9996    2015\n",
       "9997    2015\n",
       "9998    2015\n",
       "Name: tpep_pickup_datetime, Length: 9999, dtype: int32"
      ]
     },
     "execution_count": 8,
     "metadata": {},
     "output_type": "execute_result"
    }
   ],
   "source": [
    "# in what year were these trips?\n",
    "\n",
    "df['tpep_pickup_datetime'].dt.year"
   ]
  },
  {
   "cell_type": "code",
   "execution_count": 9,
   "id": "85ffeb96-12e3-4e1c-9d28-c7e17154aeeb",
   "metadata": {},
   "outputs": [
    {
     "data": {
      "text/plain": [
       "0       11\n",
       "1       11\n",
       "2       11\n",
       "3       11\n",
       "4       11\n",
       "        ..\n",
       "9994     0\n",
       "9995     0\n",
       "9996     0\n",
       "9997     0\n",
       "9998     0\n",
       "Name: tpep_pickup_datetime, Length: 9999, dtype: int32"
      ]
     },
     "execution_count": 9,
     "metadata": {},
     "output_type": "execute_result"
    }
   ],
   "source": [
    "df['tpep_pickup_datetime'].dt.hour"
   ]
  },
  {
   "cell_type": "code",
   "execution_count": 12,
   "id": "346e8c14-6c4b-4c4d-a35b-f506ee9f7b35",
   "metadata": {},
   "outputs": [
    {
     "data": {
      "text/plain": [
       "0       False\n",
       "1       False\n",
       "2       False\n",
       "3       False\n",
       "4       False\n",
       "        ...  \n",
       "9994    False\n",
       "9995    False\n",
       "9996    False\n",
       "9997    False\n",
       "9998    False\n",
       "Name: tpep_pickup_datetime, Length: 9999, dtype: bool"
      ]
     },
     "execution_count": 12,
     "metadata": {},
     "output_type": "execute_result"
    }
   ],
   "source": [
    "df['tpep_pickup_datetime'].dt.is_quarter_end"
   ]
  },
  {
   "cell_type": "code",
   "execution_count": 13,
   "id": "a8a2f500-8149-4faf-949a-3bfff7ef6dd4",
   "metadata": {},
   "outputs": [
    {
     "data": {
      "text/plain": [
       "tpep_pickup_datetime\n",
       "0     4.381589\n",
       "1     4.277704\n",
       "2     4.041907\n",
       "3     4.536489\n",
       "4     4.660118\n",
       "5     4.393082\n",
       "6     4.641471\n",
       "7     4.439505\n",
       "8     3.997288\n",
       "9     4.481159\n",
       "10    4.250000\n",
       "11    4.197670\n",
       "12    3.941948\n",
       "13    4.102202\n",
       "15    3.670769\n",
       "16    3.055872\n",
       "17    2.925592\n",
       "18    2.931938\n",
       "19    2.552746\n",
       "20    2.734559\n",
       "21    2.837943\n",
       "22    2.859967\n",
       "23    2.874452\n",
       "24    2.416812\n",
       "25    2.676262\n",
       "26    2.677785\n",
       "27    2.884444\n",
       "28    2.577386\n",
       "29    2.644669\n",
       "30    2.885680\n",
       "31    2.856197\n",
       "32    2.724747\n",
       "33    2.483873\n",
       "51    2.416744\n",
       "52    2.791492\n",
       "53    2.978448\n",
       "Name: trip_distance, dtype: float64"
      ]
     },
     "execution_count": 13,
     "metadata": {},
     "output_type": "execute_result"
    }
   ],
   "source": [
    "# I can groupby on the values we get from .dt!\n",
    "\n",
    "df.groupby(df['tpep_pickup_datetime'].dt.minute)['trip_distance'].mean()"
   ]
  },
  {
   "cell_type": "code",
   "execution_count": 15,
   "id": "59d7b0c9-b02c-447f-944a-779ffdeb9935",
   "metadata": {},
   "outputs": [],
   "source": [
    "# 01-02-2023 # dayfirst=False is the default"
   ]
  },
  {
   "cell_type": "markdown",
   "id": "c81f39aa-8be6-4465-b73d-2217cfcd9f6f",
   "metadata": {},
   "source": [
    "# Exercise: Taxi dates\n",
    "\n",
    "1. Read the taxi data into a data frame using `parse_dates`.\n",
    "2. How many trips were there for each hour in the data set?\n",
    "3. How much did people spend, on average, on each day of the week?"
   ]
  },
  {
   "cell_type": "code",
   "execution_count": 17,
   "id": "d37fb52a-a074-4657-81dc-5be4a6c6979b",
   "metadata": {},
   "outputs": [],
   "source": [
    "df = pd.read_csv('taxi.csv',\n",
    "                usecols=['tpep_pickup_datetime', 'tpep_dropoff_datetime',\n",
    "                        'passenger_count', 'trip_distance', 'total_amount'],\n",
    "                 parse_dates=['tpep_pickup_datetime', 'tpep_dropoff_datetime'])\n"
   ]
  },
  {
   "cell_type": "code",
   "execution_count": 18,
   "id": "0edfa07d-d963-46f7-bd42-993d39b430a6",
   "metadata": {},
   "outputs": [
    {
     "data": {
      "text/html": [
       "<div>\n",
       "<style scoped>\n",
       "    .dataframe tbody tr th:only-of-type {\n",
       "        vertical-align: middle;\n",
       "    }\n",
       "\n",
       "    .dataframe tbody tr th {\n",
       "        vertical-align: top;\n",
       "    }\n",
       "\n",
       "    .dataframe thead th {\n",
       "        text-align: right;\n",
       "    }\n",
       "</style>\n",
       "<table border=\"1\" class=\"dataframe\">\n",
       "  <thead>\n",
       "    <tr style=\"text-align: right;\">\n",
       "      <th></th>\n",
       "      <th>tpep_pickup_datetime</th>\n",
       "      <th>tpep_dropoff_datetime</th>\n",
       "      <th>passenger_count</th>\n",
       "      <th>trip_distance</th>\n",
       "      <th>total_amount</th>\n",
       "    </tr>\n",
       "  </thead>\n",
       "  <tbody>\n",
       "    <tr>\n",
       "      <th>0</th>\n",
       "      <td>2015-06-02 11:19:29</td>\n",
       "      <td>2015-06-02 11:47:52</td>\n",
       "      <td>1</td>\n",
       "      <td>1.63</td>\n",
       "      <td>17.80</td>\n",
       "    </tr>\n",
       "    <tr>\n",
       "      <th>1</th>\n",
       "      <td>2015-06-02 11:19:30</td>\n",
       "      <td>2015-06-02 11:27:56</td>\n",
       "      <td>1</td>\n",
       "      <td>0.46</td>\n",
       "      <td>8.30</td>\n",
       "    </tr>\n",
       "    <tr>\n",
       "      <th>2</th>\n",
       "      <td>2015-06-02 11:19:31</td>\n",
       "      <td>2015-06-02 11:30:30</td>\n",
       "      <td>1</td>\n",
       "      <td>0.87</td>\n",
       "      <td>11.00</td>\n",
       "    </tr>\n",
       "    <tr>\n",
       "      <th>3</th>\n",
       "      <td>2015-06-02 11:19:31</td>\n",
       "      <td>2015-06-02 11:39:02</td>\n",
       "      <td>1</td>\n",
       "      <td>2.13</td>\n",
       "      <td>17.16</td>\n",
       "    </tr>\n",
       "    <tr>\n",
       "      <th>4</th>\n",
       "      <td>2015-06-02 11:19:32</td>\n",
       "      <td>2015-06-02 11:32:49</td>\n",
       "      <td>1</td>\n",
       "      <td>1.40</td>\n",
       "      <td>10.30</td>\n",
       "    </tr>\n",
       "  </tbody>\n",
       "</table>\n",
       "</div>"
      ],
      "text/plain": [
       "  tpep_pickup_datetime tpep_dropoff_datetime  passenger_count  trip_distance  \\\n",
       "0  2015-06-02 11:19:29   2015-06-02 11:47:52                1           1.63   \n",
       "1  2015-06-02 11:19:30   2015-06-02 11:27:56                1           0.46   \n",
       "2  2015-06-02 11:19:31   2015-06-02 11:30:30                1           0.87   \n",
       "3  2015-06-02 11:19:31   2015-06-02 11:39:02                1           2.13   \n",
       "4  2015-06-02 11:19:32   2015-06-02 11:32:49                1           1.40   \n",
       "\n",
       "   total_amount  \n",
       "0         17.80  \n",
       "1          8.30  \n",
       "2         11.00  \n",
       "3         17.16  \n",
       "4         10.30  "
      ]
     },
     "execution_count": 18,
     "metadata": {},
     "output_type": "execute_result"
    }
   ],
   "source": [
    "df.head()"
   ]
  },
  {
   "cell_type": "code",
   "execution_count": 19,
   "id": "5cc578ec-dd0e-4f55-a807-dd51309eea2f",
   "metadata": {},
   "outputs": [
    {
     "data": {
      "text/plain": [
       "tpep_pickup_datetime     datetime64[ns]\n",
       "tpep_dropoff_datetime    datetime64[ns]\n",
       "passenger_count                   int64\n",
       "trip_distance                   float64\n",
       "total_amount                    float64\n",
       "dtype: object"
      ]
     },
     "execution_count": 19,
     "metadata": {},
     "output_type": "execute_result"
    }
   ],
   "source": [
    "df.dtypes"
   ]
  },
  {
   "cell_type": "code",
   "execution_count": 21,
   "id": "87dbcfb9-47af-472a-8118-38d73914000a",
   "metadata": {},
   "outputs": [
    {
     "data": {
      "text/plain": [
       "tpep_pickup_datetime\n",
       "11    4396\n",
       "15    2536\n",
       "0     2439\n",
       "16     628\n",
       "Name: count, dtype: int64"
      ]
     },
     "execution_count": 21,
     "metadata": {},
     "output_type": "execute_result"
    }
   ],
   "source": [
    "# 2. How many trips were there for each hour in the data set?\n",
    "\n",
    "df['tpep_pickup_datetime'].dt.hour.value_counts()\n"
   ]
  },
  {
   "cell_type": "code",
   "execution_count": 23,
   "id": "c50880e2-d9e0-4c4c-8214-a082a06690c8",
   "metadata": {},
   "outputs": [
    {
     "data": {
      "text/plain": [
       "tpep_pickup_datetime\n",
       "0     2439\n",
       "11    4396\n",
       "15    2536\n",
       "16     628\n",
       "Name: passenger_count, dtype: int64"
      ]
     },
     "execution_count": 23,
     "metadata": {},
     "output_type": "execute_result"
    }
   ],
   "source": [
    "df.groupby(df['tpep_pickup_datetime'].dt.hour)['passenger_count'].count()"
   ]
  },
  {
   "cell_type": "code",
   "execution_count": 28,
   "id": "72a453be-99bd-478e-ba6c-54fc05bae038",
   "metadata": {},
   "outputs": [
    {
     "data": {
      "text/plain": [
       "tpep_pickup_datetime\n",
       "11    1142\n",
       "15     777\n",
       "0      649\n",
       "16     222\n",
       "Name: count, dtype: int64"
      ]
     },
     "execution_count": 28,
     "metadata": {},
     "output_type": "execute_result"
    }
   ],
   "source": [
    "df.loc[\n",
    "  df['passenger_count'] > 1, \n",
    "  'tpep_pickup_datetime'\n",
    "].dt.hour.value_counts()"
   ]
  },
  {
   "cell_type": "code",
   "execution_count": 29,
   "id": "19671359-fcaf-4d7a-b0cc-b2aa3e237c4b",
   "metadata": {},
   "outputs": [
    {
     "data": {
      "text/plain": [
       "<pandas.core.indexes.accessors.DatetimeProperties object at 0x125f26d50>"
      ]
     },
     "execution_count": 29,
     "metadata": {},
     "output_type": "execute_result"
    }
   ],
   "source": [
    "df['tpep_pickup_datetime'].dt"
   ]
  },
  {
   "cell_type": "markdown",
   "id": "f8207243-4b86-497b-96e4-69ef90c5e1b6",
   "metadata": {},
   "source": [
    "# Timedelta\n",
    "\n",
    "Time math looks like this:\n",
    "\n",
    "- timestamp - timestamp = timedelta\n",
    "- timestamp + timedelta = timestamp"
   ]
  },
  {
   "cell_type": "code",
   "execution_count": 30,
   "id": "b873f24c-b559-463f-9766-456bb79344d8",
   "metadata": {},
   "outputs": [
    {
     "data": {
      "text/plain": [
       "0      0 days 00:28:23\n",
       "1      0 days 00:08:26\n",
       "2      0 days 00:10:59\n",
       "3      0 days 00:19:31\n",
       "4      0 days 00:13:17\n",
       "             ...      \n",
       "9994   0 days 00:11:19\n",
       "9995   0 days 00:15:17\n",
       "9996   0 days 00:24:25\n",
       "9997   0 days 00:06:08\n",
       "9998   0 days 00:23:29\n",
       "Length: 9999, dtype: timedelta64[ns]"
      ]
     },
     "execution_count": 30,
     "metadata": {},
     "output_type": "execute_result"
    }
   ],
   "source": [
    "df['tpep_dropoff_datetime'] - df['tpep_pickup_datetime']"
   ]
  },
  {
   "cell_type": "code",
   "execution_count": 31,
   "id": "d71996aa-8fc8-4557-8d24-ca82bba0fef1",
   "metadata": {},
   "outputs": [],
   "source": [
    "# let's add a new column to our data frame with this timedelta\n",
    "\n",
    "df['trip_time'] = df['tpep_dropoff_datetime'] - df['tpep_pickup_datetime']"
   ]
  },
  {
   "cell_type": "code",
   "execution_count": 32,
   "id": "0bc487c8-18eb-4493-80b3-52f7997b4e68",
   "metadata": {},
   "outputs": [
    {
     "data": {
      "text/html": [
       "<div>\n",
       "<style scoped>\n",
       "    .dataframe tbody tr th:only-of-type {\n",
       "        vertical-align: middle;\n",
       "    }\n",
       "\n",
       "    .dataframe tbody tr th {\n",
       "        vertical-align: top;\n",
       "    }\n",
       "\n",
       "    .dataframe thead th {\n",
       "        text-align: right;\n",
       "    }\n",
       "</style>\n",
       "<table border=\"1\" class=\"dataframe\">\n",
       "  <thead>\n",
       "    <tr style=\"text-align: right;\">\n",
       "      <th></th>\n",
       "      <th>tpep_pickup_datetime</th>\n",
       "      <th>tpep_dropoff_datetime</th>\n",
       "      <th>passenger_count</th>\n",
       "      <th>trip_distance</th>\n",
       "      <th>total_amount</th>\n",
       "      <th>trip_time</th>\n",
       "    </tr>\n",
       "  </thead>\n",
       "  <tbody>\n",
       "    <tr>\n",
       "      <th>0</th>\n",
       "      <td>2015-06-02 11:19:29</td>\n",
       "      <td>2015-06-02 11:47:52</td>\n",
       "      <td>1</td>\n",
       "      <td>1.63</td>\n",
       "      <td>17.80</td>\n",
       "      <td>0 days 00:28:23</td>\n",
       "    </tr>\n",
       "    <tr>\n",
       "      <th>1</th>\n",
       "      <td>2015-06-02 11:19:30</td>\n",
       "      <td>2015-06-02 11:27:56</td>\n",
       "      <td>1</td>\n",
       "      <td>0.46</td>\n",
       "      <td>8.30</td>\n",
       "      <td>0 days 00:08:26</td>\n",
       "    </tr>\n",
       "    <tr>\n",
       "      <th>2</th>\n",
       "      <td>2015-06-02 11:19:31</td>\n",
       "      <td>2015-06-02 11:30:30</td>\n",
       "      <td>1</td>\n",
       "      <td>0.87</td>\n",
       "      <td>11.00</td>\n",
       "      <td>0 days 00:10:59</td>\n",
       "    </tr>\n",
       "    <tr>\n",
       "      <th>3</th>\n",
       "      <td>2015-06-02 11:19:31</td>\n",
       "      <td>2015-06-02 11:39:02</td>\n",
       "      <td>1</td>\n",
       "      <td>2.13</td>\n",
       "      <td>17.16</td>\n",
       "      <td>0 days 00:19:31</td>\n",
       "    </tr>\n",
       "    <tr>\n",
       "      <th>4</th>\n",
       "      <td>2015-06-02 11:19:32</td>\n",
       "      <td>2015-06-02 11:32:49</td>\n",
       "      <td>1</td>\n",
       "      <td>1.40</td>\n",
       "      <td>10.30</td>\n",
       "      <td>0 days 00:13:17</td>\n",
       "    </tr>\n",
       "  </tbody>\n",
       "</table>\n",
       "</div>"
      ],
      "text/plain": [
       "  tpep_pickup_datetime tpep_dropoff_datetime  passenger_count  trip_distance  \\\n",
       "0  2015-06-02 11:19:29   2015-06-02 11:47:52                1           1.63   \n",
       "1  2015-06-02 11:19:30   2015-06-02 11:27:56                1           0.46   \n",
       "2  2015-06-02 11:19:31   2015-06-02 11:30:30                1           0.87   \n",
       "3  2015-06-02 11:19:31   2015-06-02 11:39:02                1           2.13   \n",
       "4  2015-06-02 11:19:32   2015-06-02 11:32:49                1           1.40   \n",
       "\n",
       "   total_amount       trip_time  \n",
       "0         17.80 0 days 00:28:23  \n",
       "1          8.30 0 days 00:08:26  \n",
       "2         11.00 0 days 00:10:59  \n",
       "3         17.16 0 days 00:19:31  \n",
       "4         10.30 0 days 00:13:17  "
      ]
     },
     "execution_count": 32,
     "metadata": {},
     "output_type": "execute_result"
    }
   ],
   "source": [
    "df.head()"
   ]
  },
  {
   "cell_type": "code",
   "execution_count": 33,
   "id": "506773e9-7e37-4edc-88bb-e834fda028cf",
   "metadata": {},
   "outputs": [
    {
     "data": {
      "text/plain": [
       "tpep_pickup_datetime      datetime64[ns]\n",
       "tpep_dropoff_datetime     datetime64[ns]\n",
       "passenger_count                    int64\n",
       "trip_distance                    float64\n",
       "total_amount                     float64\n",
       "trip_time                timedelta64[ns]\n",
       "dtype: object"
      ]
     },
     "execution_count": 33,
     "metadata": {},
     "output_type": "execute_result"
    }
   ],
   "source": [
    "df.dtypes"
   ]
  },
  {
   "cell_type": "code",
   "execution_count": 36,
   "id": "a1c2aca2-3d80-43bb-bcbe-492ad4017b3c",
   "metadata": {},
   "outputs": [
    {
     "data": {
      "text/html": [
       "<div>\n",
       "<style scoped>\n",
       "    .dataframe tbody tr th:only-of-type {\n",
       "        vertical-align: middle;\n",
       "    }\n",
       "\n",
       "    .dataframe tbody tr th {\n",
       "        vertical-align: top;\n",
       "    }\n",
       "\n",
       "    .dataframe thead th {\n",
       "        text-align: right;\n",
       "    }\n",
       "</style>\n",
       "<table border=\"1\" class=\"dataframe\">\n",
       "  <thead>\n",
       "    <tr style=\"text-align: right;\">\n",
       "      <th></th>\n",
       "      <th>tpep_pickup_datetime</th>\n",
       "      <th>tpep_dropoff_datetime</th>\n",
       "      <th>passenger_count</th>\n",
       "      <th>trip_distance</th>\n",
       "      <th>total_amount</th>\n",
       "      <th>trip_time</th>\n",
       "    </tr>\n",
       "  </thead>\n",
       "  <tbody>\n",
       "    <tr>\n",
       "      <th>10</th>\n",
       "      <td>2015-06-02 11:19:38</td>\n",
       "      <td>2015-06-02 11:19:43</td>\n",
       "      <td>3</td>\n",
       "      <td>0.01</td>\n",
       "      <td>52.80</td>\n",
       "      <td>0 days 00:00:05</td>\n",
       "    </tr>\n",
       "    <tr>\n",
       "      <th>149</th>\n",
       "      <td>2015-06-02 11:21:25</td>\n",
       "      <td>2015-06-02 11:21:50</td>\n",
       "      <td>1</td>\n",
       "      <td>0.00</td>\n",
       "      <td>4.30</td>\n",
       "      <td>0 days 00:00:25</td>\n",
       "    </tr>\n",
       "    <tr>\n",
       "      <th>297</th>\n",
       "      <td>2015-06-02 11:20:23</td>\n",
       "      <td>2015-06-02 11:20:23</td>\n",
       "      <td>2</td>\n",
       "      <td>0.00</td>\n",
       "      <td>2.30</td>\n",
       "      <td>0 days 00:00:00</td>\n",
       "    </tr>\n",
       "    <tr>\n",
       "      <th>516</th>\n",
       "      <td>2015-06-02 11:21:14</td>\n",
       "      <td>2015-06-02 11:22:03</td>\n",
       "      <td>1</td>\n",
       "      <td>0.03</td>\n",
       "      <td>3.96</td>\n",
       "      <td>0 days 00:00:49</td>\n",
       "    </tr>\n",
       "    <tr>\n",
       "      <th>657</th>\n",
       "      <td>2015-06-02 11:24:33</td>\n",
       "      <td>2015-06-02 11:24:50</td>\n",
       "      <td>1</td>\n",
       "      <td>0.00</td>\n",
       "      <td>15.35</td>\n",
       "      <td>0 days 00:00:17</td>\n",
       "    </tr>\n",
       "    <tr>\n",
       "      <th>...</th>\n",
       "      <td>...</td>\n",
       "      <td>...</td>\n",
       "      <td>...</td>\n",
       "      <td>...</td>\n",
       "      <td>...</td>\n",
       "      <td>...</td>\n",
       "    </tr>\n",
       "    <tr>\n",
       "      <th>9452</th>\n",
       "      <td>2015-06-01 00:10:45</td>\n",
       "      <td>2015-06-01 00:11:28</td>\n",
       "      <td>1</td>\n",
       "      <td>0.10</td>\n",
       "      <td>3.80</td>\n",
       "      <td>0 days 00:00:43</td>\n",
       "    </tr>\n",
       "    <tr>\n",
       "      <th>9693</th>\n",
       "      <td>2015-06-01 00:11:08</td>\n",
       "      <td>2015-06-01 00:11:08</td>\n",
       "      <td>1</td>\n",
       "      <td>5.03</td>\n",
       "      <td>18.80</td>\n",
       "      <td>0 days 00:00:00</td>\n",
       "    </tr>\n",
       "    <tr>\n",
       "      <th>9761</th>\n",
       "      <td>2015-06-01 00:12:46</td>\n",
       "      <td>2015-06-01 00:12:46</td>\n",
       "      <td>1</td>\n",
       "      <td>0.00</td>\n",
       "      <td>5.80</td>\n",
       "      <td>0 days 00:00:00</td>\n",
       "    </tr>\n",
       "    <tr>\n",
       "      <th>9868</th>\n",
       "      <td>2015-06-01 00:12:31</td>\n",
       "      <td>2015-06-01 00:12:56</td>\n",
       "      <td>2</td>\n",
       "      <td>2.40</td>\n",
       "      <td>58.34</td>\n",
       "      <td>0 days 00:00:25</td>\n",
       "    </tr>\n",
       "    <tr>\n",
       "      <th>9937</th>\n",
       "      <td>2015-06-01 00:13:22</td>\n",
       "      <td>2015-06-01 00:14:18</td>\n",
       "      <td>1</td>\n",
       "      <td>0.10</td>\n",
       "      <td>3.80</td>\n",
       "      <td>0 days 00:00:56</td>\n",
       "    </tr>\n",
       "  </tbody>\n",
       "</table>\n",
       "<p>84 rows × 6 columns</p>\n",
       "</div>"
      ],
      "text/plain": [
       "     tpep_pickup_datetime tpep_dropoff_datetime  passenger_count  \\\n",
       "10    2015-06-02 11:19:38   2015-06-02 11:19:43                3   \n",
       "149   2015-06-02 11:21:25   2015-06-02 11:21:50                1   \n",
       "297   2015-06-02 11:20:23   2015-06-02 11:20:23                2   \n",
       "516   2015-06-02 11:21:14   2015-06-02 11:22:03                1   \n",
       "657   2015-06-02 11:24:33   2015-06-02 11:24:50                1   \n",
       "...                   ...                   ...              ...   \n",
       "9452  2015-06-01 00:10:45   2015-06-01 00:11:28                1   \n",
       "9693  2015-06-01 00:11:08   2015-06-01 00:11:08                1   \n",
       "9761  2015-06-01 00:12:46   2015-06-01 00:12:46                1   \n",
       "9868  2015-06-01 00:12:31   2015-06-01 00:12:56                2   \n",
       "9937  2015-06-01 00:13:22   2015-06-01 00:14:18                1   \n",
       "\n",
       "      trip_distance  total_amount       trip_time  \n",
       "10             0.01         52.80 0 days 00:00:05  \n",
       "149            0.00          4.30 0 days 00:00:25  \n",
       "297            0.00          2.30 0 days 00:00:00  \n",
       "516            0.03          3.96 0 days 00:00:49  \n",
       "657            0.00         15.35 0 days 00:00:17  \n",
       "...             ...           ...             ...  \n",
       "9452           0.10          3.80 0 days 00:00:43  \n",
       "9693           5.03         18.80 0 days 00:00:00  \n",
       "9761           0.00          5.80 0 days 00:00:00  \n",
       "9868           2.40         58.34 0 days 00:00:25  \n",
       "9937           0.10          3.80 0 days 00:00:56  \n",
       "\n",
       "[84 rows x 6 columns]"
      ]
     },
     "execution_count": 36,
     "metadata": {},
     "output_type": "execute_result"
    }
   ],
   "source": [
    "df.loc[df['trip_time'] < '0 days 00:01:00']"
   ]
  },
  {
   "cell_type": "code",
   "execution_count": 37,
   "id": "fec8502f-e8dc-4f15-8a33-2af6d924283c",
   "metadata": {},
   "outputs": [
    {
     "data": {
      "text/html": [
       "<div>\n",
       "<style scoped>\n",
       "    .dataframe tbody tr th:only-of-type {\n",
       "        vertical-align: middle;\n",
       "    }\n",
       "\n",
       "    .dataframe tbody tr th {\n",
       "        vertical-align: top;\n",
       "    }\n",
       "\n",
       "    .dataframe thead th {\n",
       "        text-align: right;\n",
       "    }\n",
       "</style>\n",
       "<table border=\"1\" class=\"dataframe\">\n",
       "  <thead>\n",
       "    <tr style=\"text-align: right;\">\n",
       "      <th></th>\n",
       "      <th>tpep_pickup_datetime</th>\n",
       "      <th>tpep_dropoff_datetime</th>\n",
       "      <th>passenger_count</th>\n",
       "      <th>trip_distance</th>\n",
       "      <th>total_amount</th>\n",
       "      <th>trip_time</th>\n",
       "    </tr>\n",
       "  </thead>\n",
       "  <tbody>\n",
       "    <tr>\n",
       "      <th>10</th>\n",
       "      <td>2015-06-02 11:19:38</td>\n",
       "      <td>2015-06-02 11:19:43</td>\n",
       "      <td>3</td>\n",
       "      <td>0.01</td>\n",
       "      <td>52.80</td>\n",
       "      <td>0 days 00:00:05</td>\n",
       "    </tr>\n",
       "    <tr>\n",
       "      <th>149</th>\n",
       "      <td>2015-06-02 11:21:25</td>\n",
       "      <td>2015-06-02 11:21:50</td>\n",
       "      <td>1</td>\n",
       "      <td>0.00</td>\n",
       "      <td>4.30</td>\n",
       "      <td>0 days 00:00:25</td>\n",
       "    </tr>\n",
       "    <tr>\n",
       "      <th>297</th>\n",
       "      <td>2015-06-02 11:20:23</td>\n",
       "      <td>2015-06-02 11:20:23</td>\n",
       "      <td>2</td>\n",
       "      <td>0.00</td>\n",
       "      <td>2.30</td>\n",
       "      <td>0 days 00:00:00</td>\n",
       "    </tr>\n",
       "    <tr>\n",
       "      <th>516</th>\n",
       "      <td>2015-06-02 11:21:14</td>\n",
       "      <td>2015-06-02 11:22:03</td>\n",
       "      <td>1</td>\n",
       "      <td>0.03</td>\n",
       "      <td>3.96</td>\n",
       "      <td>0 days 00:00:49</td>\n",
       "    </tr>\n",
       "    <tr>\n",
       "      <th>657</th>\n",
       "      <td>2015-06-02 11:24:33</td>\n",
       "      <td>2015-06-02 11:24:50</td>\n",
       "      <td>1</td>\n",
       "      <td>0.00</td>\n",
       "      <td>15.35</td>\n",
       "      <td>0 days 00:00:17</td>\n",
       "    </tr>\n",
       "    <tr>\n",
       "      <th>...</th>\n",
       "      <td>...</td>\n",
       "      <td>...</td>\n",
       "      <td>...</td>\n",
       "      <td>...</td>\n",
       "      <td>...</td>\n",
       "      <td>...</td>\n",
       "    </tr>\n",
       "    <tr>\n",
       "      <th>9452</th>\n",
       "      <td>2015-06-01 00:10:45</td>\n",
       "      <td>2015-06-01 00:11:28</td>\n",
       "      <td>1</td>\n",
       "      <td>0.10</td>\n",
       "      <td>3.80</td>\n",
       "      <td>0 days 00:00:43</td>\n",
       "    </tr>\n",
       "    <tr>\n",
       "      <th>9693</th>\n",
       "      <td>2015-06-01 00:11:08</td>\n",
       "      <td>2015-06-01 00:11:08</td>\n",
       "      <td>1</td>\n",
       "      <td>5.03</td>\n",
       "      <td>18.80</td>\n",
       "      <td>0 days 00:00:00</td>\n",
       "    </tr>\n",
       "    <tr>\n",
       "      <th>9761</th>\n",
       "      <td>2015-06-01 00:12:46</td>\n",
       "      <td>2015-06-01 00:12:46</td>\n",
       "      <td>1</td>\n",
       "      <td>0.00</td>\n",
       "      <td>5.80</td>\n",
       "      <td>0 days 00:00:00</td>\n",
       "    </tr>\n",
       "    <tr>\n",
       "      <th>9868</th>\n",
       "      <td>2015-06-01 00:12:31</td>\n",
       "      <td>2015-06-01 00:12:56</td>\n",
       "      <td>2</td>\n",
       "      <td>2.40</td>\n",
       "      <td>58.34</td>\n",
       "      <td>0 days 00:00:25</td>\n",
       "    </tr>\n",
       "    <tr>\n",
       "      <th>9937</th>\n",
       "      <td>2015-06-01 00:13:22</td>\n",
       "      <td>2015-06-01 00:14:18</td>\n",
       "      <td>1</td>\n",
       "      <td>0.10</td>\n",
       "      <td>3.80</td>\n",
       "      <td>0 days 00:00:56</td>\n",
       "    </tr>\n",
       "  </tbody>\n",
       "</table>\n",
       "<p>84 rows × 6 columns</p>\n",
       "</div>"
      ],
      "text/plain": [
       "     tpep_pickup_datetime tpep_dropoff_datetime  passenger_count  \\\n",
       "10    2015-06-02 11:19:38   2015-06-02 11:19:43                3   \n",
       "149   2015-06-02 11:21:25   2015-06-02 11:21:50                1   \n",
       "297   2015-06-02 11:20:23   2015-06-02 11:20:23                2   \n",
       "516   2015-06-02 11:21:14   2015-06-02 11:22:03                1   \n",
       "657   2015-06-02 11:24:33   2015-06-02 11:24:50                1   \n",
       "...                   ...                   ...              ...   \n",
       "9452  2015-06-01 00:10:45   2015-06-01 00:11:28                1   \n",
       "9693  2015-06-01 00:11:08   2015-06-01 00:11:08                1   \n",
       "9761  2015-06-01 00:12:46   2015-06-01 00:12:46                1   \n",
       "9868  2015-06-01 00:12:31   2015-06-01 00:12:56                2   \n",
       "9937  2015-06-01 00:13:22   2015-06-01 00:14:18                1   \n",
       "\n",
       "      trip_distance  total_amount       trip_time  \n",
       "10             0.01         52.80 0 days 00:00:05  \n",
       "149            0.00          4.30 0 days 00:00:25  \n",
       "297            0.00          2.30 0 days 00:00:00  \n",
       "516            0.03          3.96 0 days 00:00:49  \n",
       "657            0.00         15.35 0 days 00:00:17  \n",
       "...             ...           ...             ...  \n",
       "9452           0.10          3.80 0 days 00:00:43  \n",
       "9693           5.03         18.80 0 days 00:00:00  \n",
       "9761           0.00          5.80 0 days 00:00:00  \n",
       "9868           2.40         58.34 0 days 00:00:25  \n",
       "9937           0.10          3.80 0 days 00:00:56  \n",
       "\n",
       "[84 rows x 6 columns]"
      ]
     },
     "execution_count": 37,
     "metadata": {},
     "output_type": "execute_result"
    }
   ],
   "source": [
    "# we can also do this\n",
    "df.loc[df['trip_time'] < '00:01:00']    # just write the time in HH:MM:SS"
   ]
  },
  {
   "cell_type": "code",
   "execution_count": 43,
   "id": "4a66c76a-9895-40e9-8022-a29ca3b82940",
   "metadata": {},
   "outputs": [
    {
     "data": {
      "text/html": [
       "<div>\n",
       "<style scoped>\n",
       "    .dataframe tbody tr th:only-of-type {\n",
       "        vertical-align: middle;\n",
       "    }\n",
       "\n",
       "    .dataframe tbody tr th {\n",
       "        vertical-align: top;\n",
       "    }\n",
       "\n",
       "    .dataframe thead th {\n",
       "        text-align: right;\n",
       "    }\n",
       "</style>\n",
       "<table border=\"1\" class=\"dataframe\">\n",
       "  <thead>\n",
       "    <tr style=\"text-align: right;\">\n",
       "      <th></th>\n",
       "      <th>tpep_pickup_datetime</th>\n",
       "      <th>tpep_dropoff_datetime</th>\n",
       "      <th>passenger_count</th>\n",
       "      <th>trip_distance</th>\n",
       "      <th>total_amount</th>\n",
       "      <th>trip_time</th>\n",
       "    </tr>\n",
       "  </thead>\n",
       "  <tbody>\n",
       "    <tr>\n",
       "      <th>10</th>\n",
       "      <td>2015-06-02 11:19:38</td>\n",
       "      <td>2015-06-02 11:19:43</td>\n",
       "      <td>3</td>\n",
       "      <td>0.01</td>\n",
       "      <td>52.80</td>\n",
       "      <td>0 days 00:00:05</td>\n",
       "    </tr>\n",
       "    <tr>\n",
       "      <th>149</th>\n",
       "      <td>2015-06-02 11:21:25</td>\n",
       "      <td>2015-06-02 11:21:50</td>\n",
       "      <td>1</td>\n",
       "      <td>0.00</td>\n",
       "      <td>4.30</td>\n",
       "      <td>0 days 00:00:25</td>\n",
       "    </tr>\n",
       "    <tr>\n",
       "      <th>297</th>\n",
       "      <td>2015-06-02 11:20:23</td>\n",
       "      <td>2015-06-02 11:20:23</td>\n",
       "      <td>2</td>\n",
       "      <td>0.00</td>\n",
       "      <td>2.30</td>\n",
       "      <td>0 days 00:00:00</td>\n",
       "    </tr>\n",
       "    <tr>\n",
       "      <th>516</th>\n",
       "      <td>2015-06-02 11:21:14</td>\n",
       "      <td>2015-06-02 11:22:03</td>\n",
       "      <td>1</td>\n",
       "      <td>0.03</td>\n",
       "      <td>3.96</td>\n",
       "      <td>0 days 00:00:49</td>\n",
       "    </tr>\n",
       "    <tr>\n",
       "      <th>657</th>\n",
       "      <td>2015-06-02 11:24:33</td>\n",
       "      <td>2015-06-02 11:24:50</td>\n",
       "      <td>1</td>\n",
       "      <td>0.00</td>\n",
       "      <td>15.35</td>\n",
       "      <td>0 days 00:00:17</td>\n",
       "    </tr>\n",
       "    <tr>\n",
       "      <th>...</th>\n",
       "      <td>...</td>\n",
       "      <td>...</td>\n",
       "      <td>...</td>\n",
       "      <td>...</td>\n",
       "      <td>...</td>\n",
       "      <td>...</td>\n",
       "    </tr>\n",
       "    <tr>\n",
       "      <th>9452</th>\n",
       "      <td>2015-06-01 00:10:45</td>\n",
       "      <td>2015-06-01 00:11:28</td>\n",
       "      <td>1</td>\n",
       "      <td>0.10</td>\n",
       "      <td>3.80</td>\n",
       "      <td>0 days 00:00:43</td>\n",
       "    </tr>\n",
       "    <tr>\n",
       "      <th>9693</th>\n",
       "      <td>2015-06-01 00:11:08</td>\n",
       "      <td>2015-06-01 00:11:08</td>\n",
       "      <td>1</td>\n",
       "      <td>5.03</td>\n",
       "      <td>18.80</td>\n",
       "      <td>0 days 00:00:00</td>\n",
       "    </tr>\n",
       "    <tr>\n",
       "      <th>9761</th>\n",
       "      <td>2015-06-01 00:12:46</td>\n",
       "      <td>2015-06-01 00:12:46</td>\n",
       "      <td>1</td>\n",
       "      <td>0.00</td>\n",
       "      <td>5.80</td>\n",
       "      <td>0 days 00:00:00</td>\n",
       "    </tr>\n",
       "    <tr>\n",
       "      <th>9868</th>\n",
       "      <td>2015-06-01 00:12:31</td>\n",
       "      <td>2015-06-01 00:12:56</td>\n",
       "      <td>2</td>\n",
       "      <td>2.40</td>\n",
       "      <td>58.34</td>\n",
       "      <td>0 days 00:00:25</td>\n",
       "    </tr>\n",
       "    <tr>\n",
       "      <th>9937</th>\n",
       "      <td>2015-06-01 00:13:22</td>\n",
       "      <td>2015-06-01 00:14:18</td>\n",
       "      <td>1</td>\n",
       "      <td>0.10</td>\n",
       "      <td>3.80</td>\n",
       "      <td>0 days 00:00:56</td>\n",
       "    </tr>\n",
       "  </tbody>\n",
       "</table>\n",
       "<p>84 rows × 6 columns</p>\n",
       "</div>"
      ],
      "text/plain": [
       "     tpep_pickup_datetime tpep_dropoff_datetime  passenger_count  \\\n",
       "10    2015-06-02 11:19:38   2015-06-02 11:19:43                3   \n",
       "149   2015-06-02 11:21:25   2015-06-02 11:21:50                1   \n",
       "297   2015-06-02 11:20:23   2015-06-02 11:20:23                2   \n",
       "516   2015-06-02 11:21:14   2015-06-02 11:22:03                1   \n",
       "657   2015-06-02 11:24:33   2015-06-02 11:24:50                1   \n",
       "...                   ...                   ...              ...   \n",
       "9452  2015-06-01 00:10:45   2015-06-01 00:11:28                1   \n",
       "9693  2015-06-01 00:11:08   2015-06-01 00:11:08                1   \n",
       "9761  2015-06-01 00:12:46   2015-06-01 00:12:46                1   \n",
       "9868  2015-06-01 00:12:31   2015-06-01 00:12:56                2   \n",
       "9937  2015-06-01 00:13:22   2015-06-01 00:14:18                1   \n",
       "\n",
       "      trip_distance  total_amount       trip_time  \n",
       "10             0.01         52.80 0 days 00:00:05  \n",
       "149            0.00          4.30 0 days 00:00:25  \n",
       "297            0.00          2.30 0 days 00:00:00  \n",
       "516            0.03          3.96 0 days 00:00:49  \n",
       "657            0.00         15.35 0 days 00:00:17  \n",
       "...             ...           ...             ...  \n",
       "9452           0.10          3.80 0 days 00:00:43  \n",
       "9693           5.03         18.80 0 days 00:00:00  \n",
       "9761           0.00          5.80 0 days 00:00:00  \n",
       "9868           2.40         58.34 0 days 00:00:25  \n",
       "9937           0.10          3.80 0 days 00:00:56  \n",
       "\n",
       "[84 rows x 6 columns]"
      ]
     },
     "execution_count": 43,
     "metadata": {},
     "output_type": "execute_result"
    }
   ],
   "source": [
    "# we can even do this:\n",
    "df.loc[df['trip_time'] < '00:01:00']    # just write the time in HH:MM:SS"
   ]
  },
  {
   "cell_type": "markdown",
   "id": "fdbfca3f-500e-4596-8911-b685ebacdccc",
   "metadata": {},
   "source": [
    "# Exercise: Taxi times\n",
    "\n",
    "1. Create a `trip_time` column, like I did, with the timedelta of the trip time.\n",
    "2. Create a `trip_description` column, with values `short`, `medium`, or `long`. "
   ]
  }
 ],
 "metadata": {
  "kernelspec": {
   "display_name": "Python 3 (ipykernel)",
   "language": "python",
   "name": "python3"
  },
  "language_info": {
   "codemirror_mode": {
    "name": "ipython",
    "version": 3
   },
   "file_extension": ".py",
   "mimetype": "text/x-python",
   "name": "python",
   "nbconvert_exporter": "python",
   "pygments_lexer": "ipython3",
   "version": "3.11.4"
  }
 },
 "nbformat": 4,
 "nbformat_minor": 5
}
