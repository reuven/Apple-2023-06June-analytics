{
 "cells": [
  {
   "cell_type": "markdown",
   "id": "0a363829-e740-447d-9150-b7889beb21eb",
   "metadata": {},
   "source": [
    "# Agenda \n",
    "\n",
    "1. Timestamp + timedelta types\n",
    "2. Working with timestamps in data frames -- `.dt`\n",
    "3. Timedelta and comparisons\n",
    "4. Time series -- timesetamps as indexes\n",
    "5. Re"
   ]
  }
 ],
 "metadata": {
  "kernelspec": {
   "display_name": "Python 3 (ipykernel)",
   "language": "python",
   "name": "python3"
  },
  "language_info": {
   "codemirror_mode": {
    "name": "ipython",
    "version": 3
   },
   "file_extension": ".py",
   "mimetype": "text/x-python",
   "name": "python",
   "nbconvert_exporter": "python",
   "pygments_lexer": "ipython3",
   "version": "3.11.4"
  }
 },
 "nbformat": 4,
 "nbformat_minor": 5
}
