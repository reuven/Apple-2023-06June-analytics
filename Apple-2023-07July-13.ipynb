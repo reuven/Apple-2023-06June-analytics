{
 "cells": [
  {
   "cell_type": "markdown",
   "id": "0a363829-e740-447d-9150-b7889beb21eb",
   "metadata": {},
   "source": [
    "# Agenda \n",
    "\n",
    "1. Timestamp + timedelta types\n",
    "2. Working with timestamps in data frames -- `.dt`\n",
    "3. Timedelta and comparisons\n",
    "4. Time series -- timesetamps as indexes\n",
    "5. Resampling"
   ]
  },
  {
   "cell_type": "markdown",
   "id": "0413f1b0-69c1-4b9a-bf73-a9b5432bfd7d",
   "metadata": {},
   "source": [
    "# Timestamp + timedelta\n",
    "\n",
    "We mean two things when we say \"time\":\n",
    "- "
   ]
  }
 ],
 "metadata": {
  "kernelspec": {
   "display_name": "Python 3 (ipykernel)",
   "language": "python",
   "name": "python3"
  },
  "language_info": {
   "codemirror_mode": {
    "name": "ipython",
    "version": 3
   },
   "file_extension": ".py",
   "mimetype": "text/x-python",
   "name": "python",
   "nbconvert_exporter": "python",
   "pygments_lexer": "ipython3",
   "version": "3.11.4"
  }
 },
 "nbformat": 4,
 "nbformat_minor": 5
}
